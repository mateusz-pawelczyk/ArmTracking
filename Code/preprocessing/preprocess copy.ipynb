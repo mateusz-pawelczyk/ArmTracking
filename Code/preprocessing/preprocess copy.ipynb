{
 "cells": [
  {
   "cell_type": "code",
   "execution_count": 148,
   "metadata": {},
   "outputs": [],
   "source": [
    "import pandas as pd\n",
    "import os\n",
    "import numpy as np\n",
    "import torch\n",
    "os.chdir('/home/tm_ba/Desktop/Bachelorarbeit_code')"
   ]
  },
  {
   "cell_type": "code",
   "execution_count": 149,
   "metadata": {},
   "outputs": [
    {
     "data": {
      "text/html": [
       "<div>\n",
       "<style scoped>\n",
       "    .dataframe tbody tr th:only-of-type {\n",
       "        vertical-align: middle;\n",
       "    }\n",
       "\n",
       "    .dataframe tbody tr th {\n",
       "        vertical-align: top;\n",
       "    }\n",
       "\n",
       "    .dataframe thead th {\n",
       "        text-align: right;\n",
       "    }\n",
       "</style>\n",
       "<table border=\"1\" class=\"dataframe\">\n",
       "  <thead>\n",
       "    <tr style=\"text-align: right;\">\n",
       "      <th></th>\n",
       "      <th>Frame</th>\n",
       "      <th>Mathew:shoulder:X (mm)</th>\n",
       "      <th>Mathew:shoulder:Y (mm)</th>\n",
       "      <th>Mathew:shoulder:Z (mm)</th>\n",
       "      <th>Mathew:shoulderElbowSupport:X (mm)</th>\n",
       "      <th>Mathew:shoulderElbowSupport:Y (mm)</th>\n",
       "      <th>Mathew:shoulderElbowSupport:Z (mm)</th>\n",
       "      <th>Mathew:elbow:X (mm)</th>\n",
       "      <th>Mathew:elbow:Y (mm)</th>\n",
       "      <th>Mathew:elbow:Z (mm)</th>\n",
       "      <th>...</th>\n",
       "      <th>Mathew:elbowWrist:X (mm)</th>\n",
       "      <th>Mathew:elbowWrist:Y (mm)</th>\n",
       "      <th>Mathew:elbowWrist:Z (mm)</th>\n",
       "      <th>Mathew:Triangle2:X (mm)</th>\n",
       "      <th>Mathew:Triangle2:Y (mm)</th>\n",
       "      <th>Mathew:Triangle2:Z (mm)</th>\n",
       "      <th>Mathew:ThumbTip:X (mm)</th>\n",
       "      <th>Mathew:ThumbTip:Y (mm)</th>\n",
       "      <th>Mathew:ThumbTip:Z (mm)</th>\n",
       "      <th>Sequence</th>\n",
       "    </tr>\n",
       "  </thead>\n",
       "  <tbody>\n",
       "    <tr>\n",
       "      <th>0</th>\n",
       "      <td>1</td>\n",
       "      <td>424.573</td>\n",
       "      <td>31.46390</td>\n",
       "      <td>632.820</td>\n",
       "      <td>468.277</td>\n",
       "      <td>46.7705</td>\n",
       "      <td>443.600</td>\n",
       "      <td>437.244</td>\n",
       "      <td>95.0522</td>\n",
       "      <td>303.700</td>\n",
       "      <td>...</td>\n",
       "      <td>396.319</td>\n",
       "      <td>145.3050</td>\n",
       "      <td>191.947</td>\n",
       "      <td>246.222</td>\n",
       "      <td>197.514</td>\n",
       "      <td>74.8402</td>\n",
       "      <td>208.065</td>\n",
       "      <td>226.836</td>\n",
       "      <td>58.5300</td>\n",
       "      <td>0</td>\n",
       "    </tr>\n",
       "    <tr>\n",
       "      <th>1</th>\n",
       "      <td>2</td>\n",
       "      <td>424.260</td>\n",
       "      <td>31.44500</td>\n",
       "      <td>632.718</td>\n",
       "      <td>467.946</td>\n",
       "      <td>47.3265</td>\n",
       "      <td>443.768</td>\n",
       "      <td>436.375</td>\n",
       "      <td>95.5444</td>\n",
       "      <td>304.092</td>\n",
       "      <td>...</td>\n",
       "      <td>394.630</td>\n",
       "      <td>146.3600</td>\n",
       "      <td>192.751</td>\n",
       "      <td>244.034</td>\n",
       "      <td>197.688</td>\n",
       "      <td>75.1489</td>\n",
       "      <td>205.831</td>\n",
       "      <td>226.619</td>\n",
       "      <td>58.8733</td>\n",
       "      <td>0</td>\n",
       "    </tr>\n",
       "    <tr>\n",
       "      <th>2</th>\n",
       "      <td>3</td>\n",
       "      <td>424.073</td>\n",
       "      <td>31.44570</td>\n",
       "      <td>632.837</td>\n",
       "      <td>467.521</td>\n",
       "      <td>47.7943</td>\n",
       "      <td>443.758</td>\n",
       "      <td>435.643</td>\n",
       "      <td>96.2625</td>\n",
       "      <td>304.070</td>\n",
       "      <td>...</td>\n",
       "      <td>393.247</td>\n",
       "      <td>147.4150</td>\n",
       "      <td>193.529</td>\n",
       "      <td>241.699</td>\n",
       "      <td>197.913</td>\n",
       "      <td>76.6041</td>\n",
       "      <td>203.393</td>\n",
       "      <td>225.856</td>\n",
       "      <td>59.2708</td>\n",
       "      <td>0</td>\n",
       "    </tr>\n",
       "    <tr>\n",
       "      <th>3</th>\n",
       "      <td>4</td>\n",
       "      <td>423.898</td>\n",
       "      <td>31.59660</td>\n",
       "      <td>632.891</td>\n",
       "      <td>467.049</td>\n",
       "      <td>48.2684</td>\n",
       "      <td>443.627</td>\n",
       "      <td>434.516</td>\n",
       "      <td>96.9949</td>\n",
       "      <td>304.057</td>\n",
       "      <td>...</td>\n",
       "      <td>391.708</td>\n",
       "      <td>148.0680</td>\n",
       "      <td>194.022</td>\n",
       "      <td>239.639</td>\n",
       "      <td>198.164</td>\n",
       "      <td>78.2239</td>\n",
       "      <td>200.365</td>\n",
       "      <td>225.176</td>\n",
       "      <td>59.9573</td>\n",
       "      <td>0</td>\n",
       "    </tr>\n",
       "    <tr>\n",
       "      <th>4</th>\n",
       "      <td>5</td>\n",
       "      <td>423.604</td>\n",
       "      <td>31.65990</td>\n",
       "      <td>632.974</td>\n",
       "      <td>466.561</td>\n",
       "      <td>48.8856</td>\n",
       "      <td>443.475</td>\n",
       "      <td>433.747</td>\n",
       "      <td>97.6751</td>\n",
       "      <td>303.587</td>\n",
       "      <td>...</td>\n",
       "      <td>390.033</td>\n",
       "      <td>149.0990</td>\n",
       "      <td>194.498</td>\n",
       "      <td>237.279</td>\n",
       "      <td>198.358</td>\n",
       "      <td>78.9482</td>\n",
       "      <td>197.646</td>\n",
       "      <td>224.697</td>\n",
       "      <td>60.5265</td>\n",
       "      <td>0</td>\n",
       "    </tr>\n",
       "    <tr>\n",
       "      <th>...</th>\n",
       "      <td>...</td>\n",
       "      <td>...</td>\n",
       "      <td>...</td>\n",
       "      <td>...</td>\n",
       "      <td>...</td>\n",
       "      <td>...</td>\n",
       "      <td>...</td>\n",
       "      <td>...</td>\n",
       "      <td>...</td>\n",
       "      <td>...</td>\n",
       "      <td>...</td>\n",
       "      <td>...</td>\n",
       "      <td>...</td>\n",
       "      <td>...</td>\n",
       "      <td>...</td>\n",
       "      <td>...</td>\n",
       "      <td>...</td>\n",
       "      <td>...</td>\n",
       "      <td>...</td>\n",
       "      <td>...</td>\n",
       "      <td>...</td>\n",
       "    </tr>\n",
       "    <tr>\n",
       "      <th>29035</th>\n",
       "      <td>484</td>\n",
       "      <td>472.782</td>\n",
       "      <td>-7.33897</td>\n",
       "      <td>652.253</td>\n",
       "      <td>535.728</td>\n",
       "      <td>-16.3590</td>\n",
       "      <td>461.963</td>\n",
       "      <td>554.699</td>\n",
       "      <td>35.5385</td>\n",
       "      <td>328.978</td>\n",
       "      <td>...</td>\n",
       "      <td>581.487</td>\n",
       "      <td>93.6361</td>\n",
       "      <td>215.385</td>\n",
       "      <td>552.405</td>\n",
       "      <td>245.451</td>\n",
       "      <td>78.3614</td>\n",
       "      <td>553.403</td>\n",
       "      <td>289.602</td>\n",
       "      <td>36.5813</td>\n",
       "      <td>50</td>\n",
       "    </tr>\n",
       "    <tr>\n",
       "      <th>29036</th>\n",
       "      <td>485</td>\n",
       "      <td>472.814</td>\n",
       "      <td>-7.35831</td>\n",
       "      <td>652.198</td>\n",
       "      <td>535.742</td>\n",
       "      <td>-16.4615</td>\n",
       "      <td>461.932</td>\n",
       "      <td>554.922</td>\n",
       "      <td>35.4013</td>\n",
       "      <td>329.154</td>\n",
       "      <td>...</td>\n",
       "      <td>581.569</td>\n",
       "      <td>93.5538</td>\n",
       "      <td>215.329</td>\n",
       "      <td>552.566</td>\n",
       "      <td>245.691</td>\n",
       "      <td>78.9424</td>\n",
       "      <td>553.230</td>\n",
       "      <td>289.540</td>\n",
       "      <td>36.6210</td>\n",
       "      <td>50</td>\n",
       "    </tr>\n",
       "    <tr>\n",
       "      <th>29037</th>\n",
       "      <td>486</td>\n",
       "      <td>472.883</td>\n",
       "      <td>-7.35738</td>\n",
       "      <td>652.159</td>\n",
       "      <td>535.819</td>\n",
       "      <td>-16.5510</td>\n",
       "      <td>461.839</td>\n",
       "      <td>555.211</td>\n",
       "      <td>35.2621</td>\n",
       "      <td>329.311</td>\n",
       "      <td>...</td>\n",
       "      <td>581.622</td>\n",
       "      <td>93.4419</td>\n",
       "      <td>215.321</td>\n",
       "      <td>552.636</td>\n",
       "      <td>245.788</td>\n",
       "      <td>79.3251</td>\n",
       "      <td>553.066</td>\n",
       "      <td>289.457</td>\n",
       "      <td>36.4266</td>\n",
       "      <td>50</td>\n",
       "    </tr>\n",
       "    <tr>\n",
       "      <th>29038</th>\n",
       "      <td>487</td>\n",
       "      <td>472.944</td>\n",
       "      <td>-7.36919</td>\n",
       "      <td>652.078</td>\n",
       "      <td>535.896</td>\n",
       "      <td>-16.7327</td>\n",
       "      <td>461.831</td>\n",
       "      <td>555.527</td>\n",
       "      <td>35.0052</td>\n",
       "      <td>329.505</td>\n",
       "      <td>...</td>\n",
       "      <td>581.873</td>\n",
       "      <td>93.4184</td>\n",
       "      <td>215.278</td>\n",
       "      <td>552.639</td>\n",
       "      <td>245.982</td>\n",
       "      <td>79.6639</td>\n",
       "      <td>552.995</td>\n",
       "      <td>289.511</td>\n",
       "      <td>36.4619</td>\n",
       "      <td>50</td>\n",
       "    </tr>\n",
       "    <tr>\n",
       "      <th>29039</th>\n",
       "      <td>488</td>\n",
       "      <td>473.038</td>\n",
       "      <td>-7.34496</td>\n",
       "      <td>652.024</td>\n",
       "      <td>535.942</td>\n",
       "      <td>-16.9311</td>\n",
       "      <td>461.920</td>\n",
       "      <td>555.810</td>\n",
       "      <td>34.6801</td>\n",
       "      <td>329.650</td>\n",
       "      <td>...</td>\n",
       "      <td>582.043</td>\n",
       "      <td>93.3838</td>\n",
       "      <td>215.358</td>\n",
       "      <td>552.522</td>\n",
       "      <td>246.183</td>\n",
       "      <td>79.9470</td>\n",
       "      <td>553.051</td>\n",
       "      <td>289.688</td>\n",
       "      <td>36.8292</td>\n",
       "      <td>50</td>\n",
       "    </tr>\n",
       "  </tbody>\n",
       "</table>\n",
       "<p>29040 rows × 23 columns</p>\n",
       "</div>"
      ],
      "text/plain": [
       "       Frame  Mathew:shoulder:X (mm)  Mathew:shoulder:Y (mm)  \\\n",
       "0          1                 424.573                31.46390   \n",
       "1          2                 424.260                31.44500   \n",
       "2          3                 424.073                31.44570   \n",
       "3          4                 423.898                31.59660   \n",
       "4          5                 423.604                31.65990   \n",
       "...      ...                     ...                     ...   \n",
       "29035    484                 472.782                -7.33897   \n",
       "29036    485                 472.814                -7.35831   \n",
       "29037    486                 472.883                -7.35738   \n",
       "29038    487                 472.944                -7.36919   \n",
       "29039    488                 473.038                -7.34496   \n",
       "\n",
       "       Mathew:shoulder:Z (mm)  Mathew:shoulderElbowSupport:X (mm)  \\\n",
       "0                     632.820                             468.277   \n",
       "1                     632.718                             467.946   \n",
       "2                     632.837                             467.521   \n",
       "3                     632.891                             467.049   \n",
       "4                     632.974                             466.561   \n",
       "...                       ...                                 ...   \n",
       "29035                 652.253                             535.728   \n",
       "29036                 652.198                             535.742   \n",
       "29037                 652.159                             535.819   \n",
       "29038                 652.078                             535.896   \n",
       "29039                 652.024                             535.942   \n",
       "\n",
       "       Mathew:shoulderElbowSupport:Y (mm)  Mathew:shoulderElbowSupport:Z (mm)  \\\n",
       "0                                 46.7705                             443.600   \n",
       "1                                 47.3265                             443.768   \n",
       "2                                 47.7943                             443.758   \n",
       "3                                 48.2684                             443.627   \n",
       "4                                 48.8856                             443.475   \n",
       "...                                   ...                                 ...   \n",
       "29035                            -16.3590                             461.963   \n",
       "29036                            -16.4615                             461.932   \n",
       "29037                            -16.5510                             461.839   \n",
       "29038                            -16.7327                             461.831   \n",
       "29039                            -16.9311                             461.920   \n",
       "\n",
       "       Mathew:elbow:X (mm)  Mathew:elbow:Y (mm)  Mathew:elbow:Z (mm)  ...  \\\n",
       "0                  437.244              95.0522              303.700  ...   \n",
       "1                  436.375              95.5444              304.092  ...   \n",
       "2                  435.643              96.2625              304.070  ...   \n",
       "3                  434.516              96.9949              304.057  ...   \n",
       "4                  433.747              97.6751              303.587  ...   \n",
       "...                    ...                  ...                  ...  ...   \n",
       "29035              554.699              35.5385              328.978  ...   \n",
       "29036              554.922              35.4013              329.154  ...   \n",
       "29037              555.211              35.2621              329.311  ...   \n",
       "29038              555.527              35.0052              329.505  ...   \n",
       "29039              555.810              34.6801              329.650  ...   \n",
       "\n",
       "       Mathew:elbowWrist:X (mm)  Mathew:elbowWrist:Y (mm)  \\\n",
       "0                       396.319                  145.3050   \n",
       "1                       394.630                  146.3600   \n",
       "2                       393.247                  147.4150   \n",
       "3                       391.708                  148.0680   \n",
       "4                       390.033                  149.0990   \n",
       "...                         ...                       ...   \n",
       "29035                   581.487                   93.6361   \n",
       "29036                   581.569                   93.5538   \n",
       "29037                   581.622                   93.4419   \n",
       "29038                   581.873                   93.4184   \n",
       "29039                   582.043                   93.3838   \n",
       "\n",
       "       Mathew:elbowWrist:Z (mm)  Mathew:Triangle2:X (mm)  \\\n",
       "0                       191.947                  246.222   \n",
       "1                       192.751                  244.034   \n",
       "2                       193.529                  241.699   \n",
       "3                       194.022                  239.639   \n",
       "4                       194.498                  237.279   \n",
       "...                         ...                      ...   \n",
       "29035                   215.385                  552.405   \n",
       "29036                   215.329                  552.566   \n",
       "29037                   215.321                  552.636   \n",
       "29038                   215.278                  552.639   \n",
       "29039                   215.358                  552.522   \n",
       "\n",
       "       Mathew:Triangle2:Y (mm)  Mathew:Triangle2:Z (mm)  \\\n",
       "0                      197.514                  74.8402   \n",
       "1                      197.688                  75.1489   \n",
       "2                      197.913                  76.6041   \n",
       "3                      198.164                  78.2239   \n",
       "4                      198.358                  78.9482   \n",
       "...                        ...                      ...   \n",
       "29035                  245.451                  78.3614   \n",
       "29036                  245.691                  78.9424   \n",
       "29037                  245.788                  79.3251   \n",
       "29038                  245.982                  79.6639   \n",
       "29039                  246.183                  79.9470   \n",
       "\n",
       "       Mathew:ThumbTip:X (mm)  Mathew:ThumbTip:Y (mm)  Mathew:ThumbTip:Z (mm)  \\\n",
       "0                     208.065                 226.836                 58.5300   \n",
       "1                     205.831                 226.619                 58.8733   \n",
       "2                     203.393                 225.856                 59.2708   \n",
       "3                     200.365                 225.176                 59.9573   \n",
       "4                     197.646                 224.697                 60.5265   \n",
       "...                       ...                     ...                     ...   \n",
       "29035                 553.403                 289.602                 36.5813   \n",
       "29036                 553.230                 289.540                 36.6210   \n",
       "29037                 553.066                 289.457                 36.4266   \n",
       "29038                 552.995                 289.511                 36.4619   \n",
       "29039                 553.051                 289.688                 36.8292   \n",
       "\n",
       "       Sequence  \n",
       "0             0  \n",
       "1             0  \n",
       "2             0  \n",
       "3             0  \n",
       "4             0  \n",
       "...         ...  \n",
       "29035        50  \n",
       "29036        50  \n",
       "29037        50  \n",
       "29038        50  \n",
       "29039        50  \n",
       "\n",
       "[29040 rows x 23 columns]"
      ]
     },
     "execution_count": 149,
     "metadata": {},
     "output_type": "execute_result"
    }
   ],
   "source": [
    "df = pd.read_csv(\"csv_new/processed_Trajectories.csv\")\n",
    "df = df.rename(columns={\"Recording\": \"Sequence\"}).drop(\"Sub Frame\", axis=1)\n",
    "df"
   ]
  },
  {
   "cell_type": "code",
   "execution_count": 147,
   "metadata": {},
   "outputs": [
    {
     "data": {
      "text/plain": [
       "Sequence\n",
       "18.0    993\n",
       "14.0    804\n",
       "28.0    766\n",
       "31.0    761\n",
       "48.0    757\n",
       "       ... \n",
       "28.5      1\n",
       "14.5      1\n",
       "16.5      1\n",
       "17.5      1\n",
       "22.5      1\n",
       "Name: count, Length: 101, dtype: int64"
      ]
     },
     "execution_count": 147,
     "metadata": {},
     "output_type": "execute_result"
    }
   ],
   "source": [
    "df.value_counts(\"Sequence\")"
   ]
  },
  {
   "cell_type": "code",
   "execution_count": 57,
   "metadata": {},
   "outputs": [
    {
     "name": "stdout",
     "output_type": "stream",
     "text": [
      "X shape: (28939, 63)\n",
      "Y shape: (28939, 21)\n"
     ]
    },
    {
     "name": "stderr",
     "output_type": "stream",
     "text": [
      "/tmp/ipykernel_212289/3887858029.py:39: DeprecationWarning: DataFrameGroupBy.apply operated on the grouping columns. This behavior is deprecated, and in a future version of pandas the grouping columns will be excluded from the operation. Either pass `include_groups=False` to exclude the groupings or explicitly select the grouping columns after groupby to silence this warning.\n",
      "  sequences = full_data.groupby('Sequence').apply(lambda group: group.drop(columns=['Frame', 'Sequence']).values).values\n"
     ]
    }
   ],
   "source": [
    "# Joints of interest\n",
    "joints = ['shoulder', 'shoulderElbowSupport', 'elbow', 'wrist', 'elbowWrist', 'Triangle2', 'ThumbTip']\n",
    "coordinates = ['X', 'Y', 'Z']\n",
    "\n",
    "# Convert 'mm' to 'm' (if needed, since robot arms often use meters)\n",
    "df[[f'Mathew:{joint}:{coord} (mm)' for joint in joints for coord in coordinates]] /= 1000\n",
    "\n",
    "# Calculate velocity (difference in position between frames)\n",
    "def calculate_velocity(df, joints, coordinates):\n",
    "    velocity_df = pd.DataFrame()\n",
    "    for joint in joints:\n",
    "        for coord in coordinates:\n",
    "            position_col = f'Mathew:{joint}:{coord} (mm)'\n",
    "            velocity_col = f'{joint}:{coord}_velocity'\n",
    "            velocity_df[velocity_col] = df.groupby('Sequence')[position_col].diff().fillna(0)  # Calculate difference between time steps\n",
    "    velocity_df[\"Sequence\"] = df[\"Sequence\"]\n",
    "    return velocity_df\n",
    "\n",
    "# Calculate acceleration (difference in velocity between frames)\n",
    "def calculate_acceleration(velocity_df, joints, coordinates):\n",
    "    acceleration_df = pd.DataFrame()\n",
    "    for joint in joints:\n",
    "        for coord in coordinates:\n",
    "            velocity_col = f'{joint}:{coord}_velocity'\n",
    "            acceleration_col = f'{joint}:{coord}_acceleration'\n",
    "            acceleration_df[acceleration_col] = velocity_df.groupby('Sequence')[velocity_col].diff().fillna(0)  # Difference between velocities\n",
    "    acceleration_df[\"Sequence\"] = df[\"Sequence\"]\n",
    "    return acceleration_df\n",
    "\n",
    "# Calculate velocity and acceleration\n",
    "velocity_df = calculate_velocity(df, joints, coordinates)\n",
    "acceleration_df = calculate_acceleration(velocity_df, joints, coordinates)\n",
    "\n",
    "# Merge position, velocity, and acceleration into one DataFrame\n",
    "full_data = pd.concat([df, velocity_df, acceleration_df], axis=1).drop(columns=[\"Sequence\"])\n",
    "full_data[\"Sequence\"] = df[\"Sequence\"]\n",
    "\n",
    "# Organize by sequence: Create sequences for the model\n",
    "sequences = full_data.groupby('Sequence').apply(lambda group: group.drop(columns=['Frame', 'Sequence']).values).values\n",
    "\n",
    "# Example: Sequences of joint positions, velocity, and acceleration for input\n",
    "X = []\n",
    "Y = []\n",
    "\n",
    "# Prepare the data: Input (X) will be current positions, velocities, accelerations\n",
    "# Output (Y) will be the next time step's positions\n",
    "\n",
    "for seq in sequences:\n",
    "    # Each sequence is a separate time-series for one movement\n",
    "    for i in range(len(seq) - 1):  # We stop at len(seq)-1 to predict the next time step\n",
    "        X.append(seq[i])  # Input: current time step (positions, velocity, acceleration)\n",
    "        Y.append(seq[i+1][:len(joints)*3])  # Output: next time step's positions (x, y, z)\n",
    "\n",
    "# Convert to numpy arrays\n",
    "X = np.array(X)\n",
    "Y = np.array(Y)\n",
    "\n",
    "# X shape: (num_samples, num_features) -- for LSTMs, should reshape to (num_samples, timesteps, num_features)\n",
    "print(\"X shape:\", X.shape)\n",
    "print(\"Y shape:\", Y.shape)"
   ]
  },
  {
   "cell_type": "code",
   "execution_count": 146,
   "metadata": {},
   "outputs": [
    {
     "data": {
      "text/plain": [
       "Sequence\n",
       "18.0    993\n",
       "14.0    804\n",
       "28.0    766\n",
       "31.0    761\n",
       "48.0    757\n",
       "       ... \n",
       "28.5      1\n",
       "14.5      1\n",
       "16.5      1\n",
       "17.5      1\n",
       "22.5      1\n",
       "Name: count, Length: 101, dtype: int64"
      ]
     },
     "execution_count": 146,
     "metadata": {},
     "output_type": "execute_result"
    }
   ],
   "source": [
    "full_data.value_counts(\"Sequence\")"
   ]
  },
  {
   "cell_type": "code",
   "execution_count": 145,
   "metadata": {},
   "outputs": [
    {
     "name": "stdout",
     "output_type": "stream",
     "text": [
      "VALS NON NONE: (475, 65)\n",
      "VALS NONE: (1, 65)\n",
      "0.5\n",
      "VALS NON NONE: (611, 65)\n",
      "VALS NONE: (1, 65)\n",
      "1.5\n",
      "VALS NON NONE: (662, 65)\n",
      "VALS NONE: (1, 65)\n",
      "2.5\n",
      "VALS NON NONE: (521, 65)\n",
      "VALS NONE: (1, 65)\n",
      "3.5\n",
      "VALS NON NONE: (445, 65)\n",
      "VALS NONE: (1, 65)\n",
      "4.5\n",
      "VALS NON NONE: (601, 65)\n",
      "VALS NONE: (1, 65)\n",
      "5.5\n",
      "VALS NON NONE: (637, 65)\n",
      "VALS NONE: (1, 65)\n",
      "6.5\n",
      "VALS NON NONE: (634, 65)\n",
      "VALS NONE: (1, 65)\n",
      "7.5\n",
      "VALS NON NONE: (522, 65)\n",
      "VALS NONE: (1, 65)\n",
      "8.5\n",
      "VALS NON NONE: (660, 65)\n",
      "VALS NONE: (1, 65)\n",
      "9.5\n",
      "VALS NON NONE: (436, 65)\n",
      "VALS NONE: (1, 65)\n",
      "10.5\n",
      "VALS NON NONE: (639, 65)\n",
      "VALS NONE: (1, 65)\n",
      "11.5\n",
      "VALS NON NONE: (473, 65)\n",
      "VALS NONE: (1, 65)\n",
      "12.5\n",
      "VALS NON NONE: (543, 65)\n",
      "VALS NONE: (1, 65)\n",
      "13.5\n",
      "VALS NON NONE: (804, 65)\n",
      "VALS NONE: (1, 65)\n",
      "14.5\n",
      "VALS NON NONE: (547, 65)\n",
      "VALS NONE: (1, 65)\n",
      "15.5\n",
      "VALS NON NONE: (433, 65)\n",
      "VALS NONE: (1, 65)\n",
      "16.5\n",
      "VALS NON NONE: (446, 65)\n",
      "VALS NONE: (1, 65)\n",
      "17.5\n",
      "VALS NON NONE: (993, 65)\n",
      "VALS NONE: (1, 65)\n",
      "18.5\n",
      "VALS NON NONE: (456, 65)\n",
      "VALS NONE: (1, 65)\n",
      "19.5\n",
      "VALS NON NONE: (434, 65)\n",
      "VALS NONE: (1, 65)\n",
      "20.5\n",
      "VALS NON NONE: (574, 65)\n",
      "VALS NONE: (1, 65)\n",
      "21.5\n",
      "VALS NON NONE: (525, 65)\n",
      "VALS NONE: (1, 65)\n",
      "22.5\n",
      "VALS NON NONE: (397, 65)\n",
      "VALS NONE: (1, 65)\n",
      "23.5\n",
      "VALS NON NONE: (533, 65)\n",
      "VALS NONE: (1, 65)\n",
      "24.5\n",
      "VALS NON NONE: (650, 65)\n",
      "VALS NONE: (1, 65)\n",
      "25.5\n",
      "VALS NON NONE: (604, 65)\n",
      "VALS NONE: (1, 65)\n",
      "26.5\n",
      "VALS NON NONE: (544, 65)\n",
      "VALS NONE: (1, 65)\n",
      "27.5\n",
      "VALS NON NONE: (766, 65)\n",
      "VALS NONE: (1, 65)\n",
      "28.5\n",
      "VALS NON NONE: (470, 65)\n",
      "VALS NONE: (1, 65)\n",
      "29.5\n",
      "VALS NON NONE: (451, 65)\n",
      "VALS NONE: (1, 65)\n",
      "30.5\n",
      "VALS NON NONE: (761, 65)\n",
      "VALS NONE: (1, 65)\n",
      "31.5\n",
      "VALS NON NONE: (544, 65)\n",
      "VALS NONE: (1, 65)\n",
      "32.5\n",
      "VALS NON NONE: (631, 65)\n",
      "VALS NONE: (1, 65)\n",
      "33.5\n",
      "VALS NON NONE: (610, 65)\n",
      "VALS NONE: (1, 65)\n",
      "34.5\n",
      "VALS NON NONE: (564, 65)\n",
      "VALS NONE: (1, 65)\n",
      "35.5\n",
      "VALS NON NONE: (584, 65)\n",
      "VALS NONE: (1, 65)\n",
      "36.5\n",
      "VALS NON NONE: (665, 65)\n",
      "VALS NONE: (1, 65)\n",
      "37.5\n",
      "VALS NON NONE: (631, 65)\n",
      "VALS NONE: (1, 65)\n",
      "38.5\n",
      "VALS NON NONE: (611, 65)\n",
      "VALS NONE: (1, 65)\n",
      "39.5\n",
      "VALS NON NONE: (402, 65)\n",
      "VALS NONE: (1, 65)\n",
      "40.5\n",
      "VALS NON NONE: (557, 65)\n",
      "VALS NONE: (1, 65)\n",
      "41.5\n",
      "VALS NON NONE: (463, 65)\n",
      "VALS NONE: (1, 65)\n",
      "42.5\n",
      "VALS NON NONE: (559, 65)\n",
      "VALS NONE: (1, 65)\n",
      "43.5\n",
      "VALS NON NONE: (633, 65)\n",
      "VALS NONE: (1, 65)\n",
      "44.5\n",
      "VALS NON NONE: (389, 65)\n",
      "VALS NONE: (1, 65)\n",
      "45.5\n",
      "VALS NON NONE: (582, 65)\n",
      "VALS NONE: (1, 65)\n",
      "46.5\n",
      "VALS NON NONE: (581, 65)\n",
      "VALS NONE: (1, 65)\n",
      "47.5\n",
      "VALS NON NONE: (757, 65)\n",
      "VALS NONE: (1, 65)\n",
      "48.5\n",
      "VALS NON NONE: (493, 65)\n",
      "VALS NONE: (1, 65)\n",
      "49.5\n",
      "VALS NON NONE: (487, 65)\n",
      "X_padded shape: torch.Size([51, 992, 63])\n",
      "Y_padded shape: torch.Size([51, 992, 21])\n",
      "Lengths shape: torch.Size([51])\n"
     ]
    }
   ],
   "source": [
    "import torch\n",
    "from torch.nn.utils.rnn import pad_sequence\n",
    "\n",
    "# Group data by sequence\n",
    "grouped = full_data.groupby('Sequence')\n",
    "\n",
    "# Prepare input (X) and output (Y) for each sequence individually\n",
    "X_seqs = []\n",
    "Y_seqs = []\n",
    "lengths = []  # To store original sequence lengths\n",
    "\n",
    "for _, group in grouped:\n",
    "    X_seq = torch.tensor(group.drop(columns=['Frame', 'Sequence']).values[:-1], dtype=torch.float32)  # Input sequence (positions, velocities, accelerations)\n",
    "    Y_seq = torch.tensor(group[['Mathew:shoulder:X (mm)', 'Mathew:shoulder:Y (mm)', 'Mathew:shoulder:Z (mm)',  # Output sequence (next positions)\n",
    "                   'Mathew:shoulderElbowSupport:X (mm)', 'Mathew:shoulderElbowSupport:Y (mm)', 'Mathew:shoulderElbowSupport:Z (mm)',\n",
    "                   'Mathew:elbow:X (mm)', 'Mathew:elbow:Y (mm)', 'Mathew:elbow:Z (mm)',\n",
    "                   'Mathew:wrist:X (mm)', 'Mathew:wrist:Y (mm)', 'Mathew:wrist:Z (mm)',\n",
    "                   'Mathew:elbowWrist:X (mm)', 'Mathew:elbowWrist:Y (mm)', 'Mathew:elbowWrist:Z (mm)',\n",
    "                   'Mathew:Triangle2:X (mm)', 'Mathew:Triangle2:Y (mm)', 'Mathew:Triangle2:Z (mm)',\n",
    "                   'Mathew:ThumbTip:X (mm)', 'Mathew:ThumbTip:Y (mm)', 'Mathew:ThumbTip:Z (mm)']].values[1:], dtype=torch.float32)  # Next positions\n",
    "    \n",
    "    # Only add non-empty sequences\n",
    "    if len(X_seq) > 0 and len(Y_seq) > 0:\n",
    "        X_seqs.append(X_seq)\n",
    "        Y_seqs.append(Y_seq)\n",
    "        # Store original length before padding\n",
    "        lengths.append(len(X_seq))\n",
    "        print(\"VALS NON NONE:\", group.values.shape)\n",
    "\n",
    "    else:\n",
    "        print(\"VALS NONE:\", group.values.shape)\n",
    "\n",
    "\n",
    "# Pad sequences to the same length using PyTorch pad_sequence\n",
    "X_padded = pad_sequence(X_seqs, batch_first=True, padding_value=0.0)\n",
    "Y_padded = pad_sequence(Y_seqs, batch_first=True, padding_value=0.0)\n",
    "\n",
    "# Convert original lengths to PyTorch tensor\n",
    "lengths_tensor = torch.tensor(lengths)\n",
    "\n",
    "# X_padded and Y_padded are now properly grouped by sequence, with padding if necessary\n",
    "print(\"X_padded shape:\", X_padded.shape)\n",
    "print(\"Y_padded shape:\", Y_padded.shape)\n",
    "print(\"Lengths shape:\", lengths_tensor.shape)\n"
   ]
  },
  {
   "cell_type": "code",
   "execution_count": 140,
   "metadata": {},
   "outputs": [
    {
     "data": {
      "text/plain": [
       "torch.Size([633, 63])"
      ]
     },
     "execution_count": 140,
     "metadata": {},
     "output_type": "execute_result"
    }
   ],
   "source": [
    "X_seqs[7].shape"
   ]
  },
  {
   "cell_type": "markdown",
   "metadata": {},
   "source": [
    "### Step 1: Data Normalization"
   ]
  },
  {
   "cell_type": "code",
   "execution_count": 96,
   "metadata": {},
   "outputs": [],
   "source": [
    "import torch\n",
    "from torch.utils.data import Dataset, DataLoader, random_split\n",
    "\n",
    "class MotionDataset(Dataset):\n",
    "    def __init__(self, X, Y, X_mean=None, X_std=None, Y_mean=None, Y_std=None):\n",
    "        self.X = X\n",
    "        self.Y = Y\n",
    "        self.X_mean = X_mean\n",
    "        self.X_std = X_std\n",
    "        self.Y_mean = Y_mean\n",
    "        self.Y_std = Y_std\n",
    "\n",
    "    def __len__(self):\n",
    "        return self.X.size(0)\n",
    "\n",
    "    def __getitem__(self, idx):\n",
    "        X_item = self.X[idx]\n",
    "        Y_item = self.Y[idx]\n",
    "        \n",
    "        # Apply normalization if mean and std are provided\n",
    "        if self.X_mean is not None and self.X_std is not None:\n",
    "            X_item = (X_item - self.X_mean) / self.X_std\n",
    "        if self.Y_mean is not None and self.Y_std is not None:\n",
    "            Y_item = (Y_item - self.Y_mean) / self.Y_std\n",
    "        \n",
    "        return X_item, Y_item\n"
   ]
  },
  {
   "cell_type": "code",
   "execution_count": 120,
   "metadata": {},
   "outputs": [
    {
     "name": "stderr",
     "output_type": "stream",
     "text": [
      "/tmp/ipykernel_212289/1745333215.py:2: UserWarning: To copy construct from a tensor, it is recommended to use sourceTensor.clone().detach() or sourceTensor.clone().detach().requires_grad_(True), rather than torch.tensor(sourceTensor).\n",
      "  X = torch.tensor(X_padded, dtype=torch.float32)\n",
      "/tmp/ipykernel_212289/1745333215.py:3: UserWarning: To copy construct from a tensor, it is recommended to use sourceTensor.clone().detach() or sourceTensor.clone().detach().requires_grad_(True), rather than torch.tensor(sourceTensor).\n",
      "  Y = torch.tensor(Y_padded, dtype=torch.float32)\n"
     ]
    }
   ],
   "source": [
    "# Convert data to PyTorch tensors\n",
    "X = torch.tensor(X_padded, dtype=torch.float32)\n",
    "Y = torch.tensor(Y_padded, dtype=torch.float32)\n",
    "\n",
    "# Split data into training, validation, and test sets\n",
    "dataset_size = X.shape[0]\n",
    "train_size = int(0.8 * dataset_size)\n",
    "val_size = int(0.1 * dataset_size)\n",
    "test_size = dataset_size - train_size - val_size\n",
    "\n",
    "# Create the dataset\n",
    "full_dataset = MotionDataset(X, Y)\n",
    "\n",
    "# Split the lengths tensor in the same way as the dataset\n",
    "lengths_tensor = torch.tensor(lengths, dtype=torch.long)  # Make sure lengths_tensor is long type\n",
    "\n",
    "# Calculate the indices for splitting\n",
    "train_idx = range(0, train_size)\n",
    "val_idx = range(train_size, train_size + val_size)\n",
    "test_idx = range(train_size + val_size, dataset_size)\n",
    "\n",
    "# Split the lengths tensor using the same indices\n",
    "lengths_train = lengths_tensor[train_idx]\n",
    "lengths_val = lengths_tensor[val_idx]\n",
    "lengths_test = lengths_tensor[test_idx]\n",
    "\n",
    "# Split the dataset using the same proportions\n",
    "train_dataset, val_dataset, test_dataset = random_split(\n",
    "    full_dataset, [train_size, val_size, test_size],\n",
    "    generator=torch.Generator().manual_seed(42)\n",
    ")\n",
    "\n",
    "# Compute mean and std from ONLY the training data\n",
    "def compute_mean_std(dataset):\n",
    "    loader = DataLoader(dataset, batch_size=len(dataset))\n",
    "    X_batch, Y_batch = next(iter(loader))\n",
    "    X_flat = X_batch.view(-1, X_batch.shape[-1])\n",
    "    Y_flat = Y_batch.view(-1, Y_batch.shape[-1])\n",
    "    X_mean = X_flat.mean(dim=0)\n",
    "    X_std = X_flat.std(dim=0)\n",
    "    Y_mean = Y_flat.mean(dim=0)\n",
    "    Y_std = Y_flat.std(dim=0)\n",
    "    # Avoid division by zero (to handle any constant feature)\n",
    "    X_std[X_std == 0] = 1\n",
    "    Y_std[Y_std == 0] = 1\n",
    "    return X_mean, X_std, Y_mean, Y_std\n",
    "\n",
    "# Compute mean and std from the training set\n",
    "X_mean, X_std, Y_mean, Y_std = compute_mean_std(train_dataset)\n",
    "\n",
    "# Create normalized datasets for training, validation, and test sets\n",
    "train_dataset = MotionDataset(train_dataset.dataset.X, train_dataset.dataset.Y, X_mean, X_std, Y_mean, Y_std)\n",
    "val_dataset = MotionDataset(val_dataset.dataset.X, val_dataset.dataset.Y, X_mean, X_std, Y_mean, Y_std)\n",
    "test_dataset = MotionDataset(test_dataset.dataset.X, test_dataset.dataset.Y, X_mean, X_std, Y_mean, Y_std)\n",
    "\n",
    "# Now you have lengths_train, lengths_val, and lengths_test corresponding to each dataset\n"
   ]
  },
  {
   "cell_type": "markdown",
   "metadata": {},
   "source": [
    "### Step 2: Model Implementation"
   ]
  },
  {
   "cell_type": "code",
   "execution_count": 121,
   "metadata": {},
   "outputs": [],
   "source": [
    "import torch.nn as nn\n",
    "import torch.nn.functional as F\n",
    "\n",
    "class AttentionLayer(nn.Module):\n",
    "    def __init__(self, hidden_dim):\n",
    "        super(AttentionLayer, self).__init__()\n",
    "        self.W = nn.Linear(hidden_dim * 2, hidden_dim * 2, bias=False)\n",
    "        self.u = nn.Linear(hidden_dim * 2, 1, bias=False)\n",
    "        \n",
    "    def forward(self, inputs, mask):\n",
    "        # inputs: [batch_size, seq_len, hidden_dim*2]\n",
    "        # mask: [batch_size, seq_len]\n",
    "        \n",
    "        # Linear transformation\n",
    "        u_it = torch.tanh(self.W(inputs))  # [batch_size, seq_len, hidden_dim*2]\n",
    "        \n",
    "        # Compute attention scores\n",
    "        a_it = self.u(u_it).squeeze(-1)  # [batch_size, seq_len]\n",
    "        \n",
    "        # Apply mask (set scores of padded elements to a large negative value)\n",
    "        a_it = a_it.masked_fill(~mask, float('-1e9'))\n",
    "        \n",
    "        # Compute attention weights\n",
    "        a_it = F.softmax(a_it, dim=1)  # [batch_size, seq_len]\n",
    "        \n",
    "        # Ensure no NaNs\n",
    "        a_it = a_it * mask.float()  # Zero out weights where mask is False\n",
    "        a_it = a_it / (a_it.sum(dim=1, keepdim=True) + 1e-9)\n",
    "        \n",
    "        # Compute weighted sum of inputs\n",
    "        context = torch.bmm(a_it.unsqueeze(1), inputs).squeeze(1)  # [batch_size, hidden_dim*2]\n",
    "        \n",
    "        return context\n"
   ]
  },
  {
   "cell_type": "code",
   "execution_count": 122,
   "metadata": {},
   "outputs": [],
   "source": [
    "class MotionModel(nn.Module):\n",
    "    def __init__(self, input_dim, hidden_dim, output_dim, num_layers):\n",
    "        super(MotionModel, self).__init__()\n",
    "        self.hidden_dim = hidden_dim\n",
    "        self.num_layers = num_layers\n",
    "        \n",
    "        self.lstm = nn.LSTM(\n",
    "            input_dim, hidden_dim, num_layers=num_layers,\n",
    "            batch_first=True, bidirectional=True, dropout=0.2\n",
    "        )\n",
    "        \n",
    "        self.attention = AttentionLayer(hidden_dim)\n",
    "        \n",
    "        self.fc = nn.Sequential(\n",
    "            nn.Linear(hidden_dim * 4, 128),\n",
    "            nn.ReLU(),\n",
    "            nn.Dropout(0.2),\n",
    "            nn.Linear(128, output_dim)\n",
    "        )\n",
    "    \n",
    "    def forward(self, x, lengths):\n",
    "        # x: [batch_size, seq_len, input_dim]\n",
    "        # lengths: [batch_size]\n",
    "        \n",
    "        # Pack padded sequence\n",
    "        packed_input = nn.utils.rnn.pack_padded_sequence(\n",
    "            x, lengths.cpu(), batch_first=True, enforce_sorted=False\n",
    "        )\n",
    "        \n",
    "        # LSTM\n",
    "        packed_output, _ = self.lstm(packed_input)\n",
    "        \n",
    "        # Unpack sequence\n",
    "        output, _ = nn.utils.rnn.pad_packed_sequence(\n",
    "            packed_output, batch_first=True\n",
    "        )\n",
    "        # output: [batch_size, seq_len, hidden_dim*2]\n",
    "        \n",
    "        # Create mask based on the correct sequence lengths (original, not padded)\n",
    "        max_len = output.size(1)\n",
    "        mask = torch.arange(max_len, device=lengths.device).expand(len(lengths), max_len) < lengths.unsqueeze(1)\n",
    "        # mask: [batch_size, seq_len]\n",
    "\n",
    "        \n",
    "        # Attention\n",
    "        context = self.attention(output, mask)\n",
    "        \n",
    "        # Repeat context to match sequence length\n",
    "        context = context.unsqueeze(1).expand(-1, max_len, -1)\n",
    "        \n",
    "        # Concatenate LSTM outputs with context\n",
    "        combined = torch.cat((output, context), dim=2)\n",
    "        # combined: [batch_size, seq_len, hidden_dim*4]\n",
    "        \n",
    "        # Output layer\n",
    "        outputs = self.fc(combined)\n",
    "        # outputs: [batch_size, seq_len, output_dim]\n",
    "        \n",
    "        return outputs, mask\n",
    "\n"
   ]
  },
  {
   "cell_type": "markdown",
   "metadata": {},
   "source": [
    "### Step 3: Custom Loss Function"
   ]
  },
  {
   "cell_type": "code",
   "execution_count": 123,
   "metadata": {},
   "outputs": [],
   "source": [
    "def custom_loss(y_pred, y_true, mask):\n",
    "    # mask: [batch_size, seq_len]\n",
    "    mask = mask.unsqueeze(-1)  # [batch_size, seq_len, 1]\n",
    "    mask = mask.float()\n",
    "    \n",
    "    # Position loss\n",
    "    position_loss = ((y_true - y_pred) ** 2) * mask\n",
    "    position_loss = position_loss.sum() / mask.sum()\n",
    "    \n",
    "    # Compute velocities\n",
    "    def compute_velocity(y):\n",
    "        y_shifted = torch.zeros_like(y)\n",
    "        y_shifted[:, 1:, :] = y[:, :-1, :]\n",
    "        velocity = (y - y_shifted) * mask\n",
    "        return velocity\n",
    "    \n",
    "    # Compute accelerations\n",
    "    def compute_acceleration(v):\n",
    "        v_shifted = torch.zeros_like(v)\n",
    "        v_shifted[:, 1:, :] = v[:, :-1, :]\n",
    "        acceleration = (v - v_shifted) * mask\n",
    "        return acceleration\n",
    "    \n",
    "    # Predicted velocities and accelerations\n",
    "    pred_velocity = compute_velocity(y_pred)\n",
    "    pred_acceleration = compute_acceleration(pred_velocity)\n",
    "    \n",
    "    # True velocities and accelerations\n",
    "    true_velocity = compute_velocity(y_true)\n",
    "    true_acceleration = compute_acceleration(true_velocity)\n",
    "    \n",
    "    # Velocity loss\n",
    "    velocity_loss = ((true_velocity - pred_velocity) ** 2) * mask\n",
    "    velocity_loss = velocity_loss.sum() / mask.sum()\n",
    "    \n",
    "    # Acceleration loss\n",
    "    acceleration_loss = ((true_acceleration - pred_acceleration) ** 2) * mask\n",
    "    acceleration_loss = acceleration_loss.sum() / mask.sum()\n",
    "    \n",
    "    # Total loss with weighting\n",
    "    total_loss = (\n",
    "        position_loss\n",
    "        + 0.1 * velocity_loss\n",
    "        + 0.01 * acceleration_loss\n",
    "    )\n",
    "    return total_loss\n"
   ]
  },
  {
   "cell_type": "markdown",
   "metadata": {},
   "source": [
    "### Step 4: Model Training"
   ]
  },
  {
   "cell_type": "code",
   "execution_count": 124,
   "metadata": {},
   "outputs": [],
   "source": [
    "from torch.nn.utils.rnn import pad_sequence\n",
    "\n",
    "def collate_fn(batch):\n",
    "    # batch is a list of tuples (X_item, Y_item)\n",
    "    X_batch, Y_batch = zip(*batch)\n",
    "    lengths = [x.size(0) for x in X_batch]\n",
    "    # Pad sequences\n",
    "    X_padded = pad_sequence(X_batch, batch_first=True, padding_value=0.0)\n",
    "    Y_padded = pad_sequence(Y_batch, batch_first=True, padding_value=0.0)\n",
    "    lengths = torch.tensor(lengths)\n",
    "    return X_padded, Y_padded, lengths\n",
    "\n",
    "batch_size = 16\n",
    "\n",
    "train_loader = DataLoader(\n",
    "    train_dataset, batch_size=batch_size, shuffle=True\n",
    ")\n",
    "val_loader = DataLoader(\n",
    "    val_dataset, batch_size=batch_size, shuffle=False\n",
    ")\n",
    "test_loader = DataLoader(\n",
    "    test_dataset, batch_size=batch_size, shuffle=False\n",
    ")\n"
   ]
  },
  {
   "cell_type": "code",
   "execution_count": 125,
   "metadata": {},
   "outputs": [
    {
     "name": "stdout",
     "output_type": "stream",
     "text": [
      "Using 2 GPUs\n"
     ]
    }
   ],
   "source": [
    "input_dim = X.shape[2]\n",
    "hidden_dim = 128\n",
    "output_dim = Y.shape[2]\n",
    "num_layers = 2\n",
    "\n",
    "# Initialize the model\n",
    "model = MotionModel(input_dim, hidden_dim, output_dim, num_layers)\n",
    "\n",
    "# Use DataParallel for multi-GPU support\n",
    "if torch.cuda.device_count() > 1:\n",
    "    print(f\"Using {torch.cuda.device_count()} GPUs\")\n",
    "    model = nn.DataParallel(model)\n",
    "\n",
    "# Move model to GPU\n",
    "device = torch.device(\"cuda\" if torch.cuda.is_available() else \"cpu\")\n",
    "model.to(device)\n",
    "\n",
    "# Define optimizer\n",
    "optimizer = torch.optim.Adam(model.parameters(), lr=1e-3)\n"
   ]
  },
  {
   "cell_type": "code",
   "execution_count": 126,
   "metadata": {},
   "outputs": [
    {
     "name": "stderr",
     "output_type": "stream",
     "text": [
      "Epoch 1/100: 100%|██████████| 4/4 [00:00<00:00, 10.24it/s]\n"
     ]
    },
    {
     "name": "stdout",
     "output_type": "stream",
     "text": [
      "Epoch 1, Train Loss: 19.910585, Val Loss: 17.127990\n"
     ]
    },
    {
     "name": "stderr",
     "output_type": "stream",
     "text": [
      "Epoch 2/100: 100%|██████████| 4/4 [00:00<00:00, 12.23it/s]\n"
     ]
    },
    {
     "name": "stdout",
     "output_type": "stream",
     "text": [
      "Epoch 2, Train Loss: 14.804053, Val Loss: 7.156998\n"
     ]
    },
    {
     "name": "stderr",
     "output_type": "stream",
     "text": [
      "Epoch 3/100: 100%|██████████| 4/4 [00:00<00:00, 11.84it/s]\n"
     ]
    },
    {
     "name": "stdout",
     "output_type": "stream",
     "text": [
      "Epoch 3, Train Loss: 6.822354, Val Loss: 5.225240\n"
     ]
    },
    {
     "name": "stderr",
     "output_type": "stream",
     "text": [
      "Epoch 4/100: 100%|██████████| 4/4 [00:00<00:00, 11.45it/s]\n"
     ]
    },
    {
     "name": "stdout",
     "output_type": "stream",
     "text": [
      "Epoch 4, Train Loss: 5.950885, Val Loss: 3.154299\n"
     ]
    },
    {
     "name": "stderr",
     "output_type": "stream",
     "text": [
      "Epoch 5/100: 100%|██████████| 4/4 [00:00<00:00, 11.15it/s]\n"
     ]
    },
    {
     "name": "stdout",
     "output_type": "stream",
     "text": [
      "Epoch 5, Train Loss: 3.979995, Val Loss: 2.533587\n"
     ]
    },
    {
     "name": "stderr",
     "output_type": "stream",
     "text": [
      "Epoch 6/100: 100%|██████████| 4/4 [00:00<00:00, 10.38it/s]\n"
     ]
    },
    {
     "name": "stdout",
     "output_type": "stream",
     "text": [
      "Epoch 6, Train Loss: 3.236306, Val Loss: 1.944134\n"
     ]
    },
    {
     "name": "stderr",
     "output_type": "stream",
     "text": [
      "Epoch 7/100: 100%|██████████| 4/4 [00:00<00:00, 10.86it/s]\n"
     ]
    },
    {
     "name": "stdout",
     "output_type": "stream",
     "text": [
      "Epoch 7, Train Loss: 2.766630, Val Loss: 1.725729\n"
     ]
    },
    {
     "name": "stderr",
     "output_type": "stream",
     "text": [
      "Epoch 8/100: 100%|██████████| 4/4 [00:00<00:00, 10.32it/s]\n"
     ]
    },
    {
     "name": "stdout",
     "output_type": "stream",
     "text": [
      "Epoch 8, Train Loss: 2.414662, Val Loss: 1.419071\n"
     ]
    },
    {
     "name": "stderr",
     "output_type": "stream",
     "text": [
      "Epoch 9/100: 100%|██████████| 4/4 [00:00<00:00, 11.02it/s]\n"
     ]
    },
    {
     "name": "stdout",
     "output_type": "stream",
     "text": [
      "Epoch 9, Train Loss: 2.162936, Val Loss: 1.222575\n"
     ]
    },
    {
     "name": "stderr",
     "output_type": "stream",
     "text": [
      "Epoch 10/100: 100%|██████████| 4/4 [00:00<00:00, 11.12it/s]\n"
     ]
    },
    {
     "name": "stdout",
     "output_type": "stream",
     "text": [
      "Epoch 10, Train Loss: 1.856806, Val Loss: 1.013167\n"
     ]
    },
    {
     "name": "stderr",
     "output_type": "stream",
     "text": [
      "Epoch 11/100: 100%|██████████| 4/4 [00:00<00:00, 10.35it/s]\n"
     ]
    },
    {
     "name": "stdout",
     "output_type": "stream",
     "text": [
      "Epoch 11, Train Loss: 1.621598, Val Loss: 0.868770\n"
     ]
    },
    {
     "name": "stderr",
     "output_type": "stream",
     "text": [
      "Epoch 12/100: 100%|██████████| 4/4 [00:00<00:00, 10.93it/s]\n"
     ]
    },
    {
     "name": "stdout",
     "output_type": "stream",
     "text": [
      "Epoch 12, Train Loss: 1.374980, Val Loss: 0.724226\n"
     ]
    },
    {
     "name": "stderr",
     "output_type": "stream",
     "text": [
      "Epoch 13/100: 100%|██████████| 4/4 [00:00<00:00, 11.06it/s]\n"
     ]
    },
    {
     "name": "stdout",
     "output_type": "stream",
     "text": [
      "Epoch 13, Train Loss: 1.256446, Val Loss: 0.607667\n"
     ]
    },
    {
     "name": "stderr",
     "output_type": "stream",
     "text": [
      "Epoch 14/100: 100%|██████████| 4/4 [00:00<00:00, 10.22it/s]\n"
     ]
    },
    {
     "name": "stdout",
     "output_type": "stream",
     "text": [
      "Epoch 14, Train Loss: 1.095421, Val Loss: 0.541345\n"
     ]
    },
    {
     "name": "stderr",
     "output_type": "stream",
     "text": [
      "Epoch 15/100: 100%|██████████| 4/4 [00:00<00:00, 12.34it/s]\n"
     ]
    },
    {
     "name": "stdout",
     "output_type": "stream",
     "text": [
      "Epoch 15, Train Loss: 1.052721, Val Loss: 0.463478\n"
     ]
    },
    {
     "name": "stderr",
     "output_type": "stream",
     "text": [
      "Epoch 16/100: 100%|██████████| 4/4 [00:00<00:00, 11.01it/s]\n"
     ]
    },
    {
     "name": "stdout",
     "output_type": "stream",
     "text": [
      "Epoch 16, Train Loss: 0.942064, Val Loss: 0.418848\n"
     ]
    },
    {
     "name": "stderr",
     "output_type": "stream",
     "text": [
      "Epoch 17/100: 100%|██████████| 4/4 [00:00<00:00, 10.66it/s]\n"
     ]
    },
    {
     "name": "stdout",
     "output_type": "stream",
     "text": [
      "Epoch 17, Train Loss: 0.852170, Val Loss: 0.340766\n"
     ]
    },
    {
     "name": "stderr",
     "output_type": "stream",
     "text": [
      "Epoch 18/100: 100%|██████████| 4/4 [00:00<00:00, 10.06it/s]\n"
     ]
    },
    {
     "name": "stdout",
     "output_type": "stream",
     "text": [
      "Epoch 18, Train Loss: 0.793865, Val Loss: 0.241969\n"
     ]
    },
    {
     "name": "stderr",
     "output_type": "stream",
     "text": [
      "Epoch 19/100: 100%|██████████| 4/4 [00:00<00:00, 10.86it/s]\n"
     ]
    },
    {
     "name": "stdout",
     "output_type": "stream",
     "text": [
      "Epoch 19, Train Loss: 0.731096, Val Loss: 0.236144\n"
     ]
    },
    {
     "name": "stderr",
     "output_type": "stream",
     "text": [
      "Epoch 20/100: 100%|██████████| 4/4 [00:00<00:00, 10.62it/s]\n"
     ]
    },
    {
     "name": "stdout",
     "output_type": "stream",
     "text": [
      "Epoch 20, Train Loss: 0.655705, Val Loss: 0.191101\n"
     ]
    },
    {
     "name": "stderr",
     "output_type": "stream",
     "text": [
      "Epoch 21/100: 100%|██████████| 4/4 [00:00<00:00, 10.27it/s]\n"
     ]
    },
    {
     "name": "stdout",
     "output_type": "stream",
     "text": [
      "Epoch 21, Train Loss: 0.617284, Val Loss: 0.169231\n"
     ]
    },
    {
     "name": "stderr",
     "output_type": "stream",
     "text": [
      "Epoch 22/100: 100%|██████████| 4/4 [00:00<00:00, 10.73it/s]\n"
     ]
    },
    {
     "name": "stdout",
     "output_type": "stream",
     "text": [
      "Epoch 22, Train Loss: 0.574825, Val Loss: 0.143195\n"
     ]
    },
    {
     "name": "stderr",
     "output_type": "stream",
     "text": [
      "Epoch 23/100: 100%|██████████| 4/4 [00:00<00:00, 11.19it/s]\n"
     ]
    },
    {
     "name": "stdout",
     "output_type": "stream",
     "text": [
      "Epoch 23, Train Loss: 0.547556, Val Loss: 0.128803\n"
     ]
    },
    {
     "name": "stderr",
     "output_type": "stream",
     "text": [
      "Epoch 24/100: 100%|██████████| 4/4 [00:00<00:00, 11.39it/s]\n"
     ]
    },
    {
     "name": "stdout",
     "output_type": "stream",
     "text": [
      "Epoch 24, Train Loss: 0.522436, Val Loss: 0.144918\n"
     ]
    },
    {
     "name": "stderr",
     "output_type": "stream",
     "text": [
      "Epoch 25/100: 100%|██████████| 4/4 [00:00<00:00, 11.03it/s]\n"
     ]
    },
    {
     "name": "stdout",
     "output_type": "stream",
     "text": [
      "Epoch 25, Train Loss: 0.504829, Val Loss: 0.118789\n"
     ]
    },
    {
     "name": "stderr",
     "output_type": "stream",
     "text": [
      "Epoch 26/100: 100%|██████████| 4/4 [00:00<00:00, 11.50it/s]\n"
     ]
    },
    {
     "name": "stdout",
     "output_type": "stream",
     "text": [
      "Epoch 26, Train Loss: 0.480239, Val Loss: 0.111280\n"
     ]
    },
    {
     "name": "stderr",
     "output_type": "stream",
     "text": [
      "Epoch 27/100: 100%|██████████| 4/4 [00:00<00:00, 10.80it/s]\n"
     ]
    },
    {
     "name": "stdout",
     "output_type": "stream",
     "text": [
      "Epoch 27, Train Loss: 0.459157, Val Loss: 0.100968\n"
     ]
    },
    {
     "name": "stderr",
     "output_type": "stream",
     "text": [
      "Epoch 28/100: 100%|██████████| 4/4 [00:00<00:00, 10.80it/s]\n"
     ]
    },
    {
     "name": "stdout",
     "output_type": "stream",
     "text": [
      "Epoch 28, Train Loss: 0.444553, Val Loss: 0.117379\n"
     ]
    },
    {
     "name": "stderr",
     "output_type": "stream",
     "text": [
      "Epoch 29/100: 100%|██████████| 4/4 [00:00<00:00, 11.83it/s]\n"
     ]
    },
    {
     "name": "stdout",
     "output_type": "stream",
     "text": [
      "Epoch 29, Train Loss: 0.440789, Val Loss: 0.091297\n"
     ]
    },
    {
     "name": "stderr",
     "output_type": "stream",
     "text": [
      "Epoch 30/100: 100%|██████████| 4/4 [00:00<00:00, 11.45it/s]\n"
     ]
    },
    {
     "name": "stdout",
     "output_type": "stream",
     "text": [
      "Epoch 30, Train Loss: 0.417666, Val Loss: 0.092896\n"
     ]
    },
    {
     "name": "stderr",
     "output_type": "stream",
     "text": [
      "Epoch 31/100: 100%|██████████| 4/4 [00:00<00:00, 11.50it/s]\n"
     ]
    },
    {
     "name": "stdout",
     "output_type": "stream",
     "text": [
      "Epoch 31, Train Loss: 0.409515, Val Loss: 0.084449\n"
     ]
    },
    {
     "name": "stderr",
     "output_type": "stream",
     "text": [
      "Epoch 32/100: 100%|██████████| 4/4 [00:00<00:00, 11.43it/s]\n"
     ]
    },
    {
     "name": "stdout",
     "output_type": "stream",
     "text": [
      "Epoch 32, Train Loss: 0.399376, Val Loss: 0.082042\n"
     ]
    },
    {
     "name": "stderr",
     "output_type": "stream",
     "text": [
      "Epoch 33/100: 100%|██████████| 4/4 [00:00<00:00, 12.08it/s]\n"
     ]
    },
    {
     "name": "stdout",
     "output_type": "stream",
     "text": [
      "Epoch 33, Train Loss: 0.396150, Val Loss: 0.078990\n"
     ]
    },
    {
     "name": "stderr",
     "output_type": "stream",
     "text": [
      "Epoch 34/100: 100%|██████████| 4/4 [00:00<00:00, 10.76it/s]\n"
     ]
    },
    {
     "name": "stdout",
     "output_type": "stream",
     "text": [
      "Epoch 34, Train Loss: 0.388855, Val Loss: 0.093333\n"
     ]
    },
    {
     "name": "stderr",
     "output_type": "stream",
     "text": [
      "Epoch 35/100: 100%|██████████| 4/4 [00:00<00:00, 10.84it/s]\n"
     ]
    },
    {
     "name": "stdout",
     "output_type": "stream",
     "text": [
      "Epoch 35, Train Loss: 0.380377, Val Loss: 0.081444\n"
     ]
    },
    {
     "name": "stderr",
     "output_type": "stream",
     "text": [
      "Epoch 36/100: 100%|██████████| 4/4 [00:00<00:00, 11.02it/s]\n"
     ]
    },
    {
     "name": "stdout",
     "output_type": "stream",
     "text": [
      "Epoch 36, Train Loss: 0.371090, Val Loss: 0.079243\n"
     ]
    },
    {
     "name": "stderr",
     "output_type": "stream",
     "text": [
      "Epoch 37/100: 100%|██████████| 4/4 [00:00<00:00, 10.88it/s]\n"
     ]
    },
    {
     "name": "stdout",
     "output_type": "stream",
     "text": [
      "Epoch 37, Train Loss: 0.363571, Val Loss: 0.082494\n"
     ]
    },
    {
     "name": "stderr",
     "output_type": "stream",
     "text": [
      "Epoch 38/100: 100%|██████████| 4/4 [00:00<00:00, 10.61it/s]\n"
     ]
    },
    {
     "name": "stdout",
     "output_type": "stream",
     "text": [
      "Epoch 38, Train Loss: 0.363267, Val Loss: 0.077155\n"
     ]
    },
    {
     "name": "stderr",
     "output_type": "stream",
     "text": [
      "Epoch 39/100: 100%|██████████| 4/4 [00:00<00:00, 12.13it/s]\n"
     ]
    },
    {
     "name": "stdout",
     "output_type": "stream",
     "text": [
      "Epoch 39, Train Loss: 0.359710, Val Loss: 0.066850\n"
     ]
    },
    {
     "name": "stderr",
     "output_type": "stream",
     "text": [
      "Epoch 40/100: 100%|██████████| 4/4 [00:00<00:00, 11.47it/s]\n"
     ]
    },
    {
     "name": "stdout",
     "output_type": "stream",
     "text": [
      "Epoch 40, Train Loss: 0.354202, Val Loss: 0.087519\n"
     ]
    },
    {
     "name": "stderr",
     "output_type": "stream",
     "text": [
      "Epoch 41/100: 100%|██████████| 4/4 [00:00<00:00, 11.52it/s]\n"
     ]
    },
    {
     "name": "stdout",
     "output_type": "stream",
     "text": [
      "Epoch 41, Train Loss: 0.363980, Val Loss: 0.081685\n"
     ]
    },
    {
     "name": "stderr",
     "output_type": "stream",
     "text": [
      "Epoch 42/100: 100%|██████████| 4/4 [00:00<00:00, 10.69it/s]\n"
     ]
    },
    {
     "name": "stdout",
     "output_type": "stream",
     "text": [
      "Epoch 42, Train Loss: 0.352989, Val Loss: 0.096006\n"
     ]
    },
    {
     "name": "stderr",
     "output_type": "stream",
     "text": [
      "Epoch 43/100: 100%|██████████| 4/4 [00:00<00:00, 11.36it/s]\n"
     ]
    },
    {
     "name": "stdout",
     "output_type": "stream",
     "text": [
      "Epoch 43, Train Loss: 0.369623, Val Loss: 0.112438\n"
     ]
    },
    {
     "name": "stderr",
     "output_type": "stream",
     "text": [
      "Epoch 44/100: 100%|██████████| 4/4 [00:00<00:00, 11.52it/s]\n"
     ]
    },
    {
     "name": "stdout",
     "output_type": "stream",
     "text": [
      "Epoch 44, Train Loss: 0.362575, Val Loss: 0.100835\n"
     ]
    },
    {
     "name": "stderr",
     "output_type": "stream",
     "text": [
      "Epoch 45/100: 100%|██████████| 4/4 [00:00<00:00, 10.74it/s]\n"
     ]
    },
    {
     "name": "stdout",
     "output_type": "stream",
     "text": [
      "Epoch 45, Train Loss: 0.350869, Val Loss: 0.086794\n"
     ]
    },
    {
     "name": "stderr",
     "output_type": "stream",
     "text": [
      "Epoch 46/100: 100%|██████████| 4/4 [00:00<00:00, 11.17it/s]\n"
     ]
    },
    {
     "name": "stdout",
     "output_type": "stream",
     "text": [
      "Epoch 46, Train Loss: 0.341602, Val Loss: 0.078666\n"
     ]
    },
    {
     "name": "stderr",
     "output_type": "stream",
     "text": [
      "Epoch 47/100: 100%|██████████| 4/4 [00:00<00:00, 10.99it/s]\n"
     ]
    },
    {
     "name": "stdout",
     "output_type": "stream",
     "text": [
      "Epoch 47, Train Loss: 0.335269, Val Loss: 0.072794\n"
     ]
    },
    {
     "name": "stderr",
     "output_type": "stream",
     "text": [
      "Epoch 48/100: 100%|██████████| 4/4 [00:00<00:00, 10.71it/s]\n"
     ]
    },
    {
     "name": "stdout",
     "output_type": "stream",
     "text": [
      "Epoch 48, Train Loss: 0.331013, Val Loss: 0.059147\n"
     ]
    },
    {
     "name": "stderr",
     "output_type": "stream",
     "text": [
      "Epoch 49/100: 100%|██████████| 4/4 [00:00<00:00, 11.06it/s]\n"
     ]
    },
    {
     "name": "stdout",
     "output_type": "stream",
     "text": [
      "Epoch 49, Train Loss: 0.327627, Val Loss: 0.058040\n"
     ]
    },
    {
     "name": "stderr",
     "output_type": "stream",
     "text": [
      "Epoch 50/100: 100%|██████████| 4/4 [00:00<00:00, 12.07it/s]\n"
     ]
    },
    {
     "name": "stdout",
     "output_type": "stream",
     "text": [
      "Epoch 50, Train Loss: 0.321627, Val Loss: 0.056386\n"
     ]
    },
    {
     "name": "stderr",
     "output_type": "stream",
     "text": [
      "Epoch 51/100: 100%|██████████| 4/4 [00:00<00:00, 10.85it/s]\n"
     ]
    },
    {
     "name": "stdout",
     "output_type": "stream",
     "text": [
      "Epoch 51, Train Loss: 0.315673, Val Loss: 0.057053\n"
     ]
    },
    {
     "name": "stderr",
     "output_type": "stream",
     "text": [
      "Epoch 52/100: 100%|██████████| 4/4 [00:00<00:00, 10.92it/s]\n"
     ]
    },
    {
     "name": "stdout",
     "output_type": "stream",
     "text": [
      "Epoch 52, Train Loss: 0.312557, Val Loss: 0.060102\n"
     ]
    },
    {
     "name": "stderr",
     "output_type": "stream",
     "text": [
      "Epoch 53/100: 100%|██████████| 4/4 [00:00<00:00, 11.28it/s]\n"
     ]
    },
    {
     "name": "stdout",
     "output_type": "stream",
     "text": [
      "Epoch 53, Train Loss: 0.307509, Val Loss: 0.054395\n"
     ]
    },
    {
     "name": "stderr",
     "output_type": "stream",
     "text": [
      "Epoch 54/100: 100%|██████████| 4/4 [00:00<00:00, 11.37it/s]\n"
     ]
    },
    {
     "name": "stdout",
     "output_type": "stream",
     "text": [
      "Epoch 54, Train Loss: 0.306203, Val Loss: 0.061107\n"
     ]
    },
    {
     "name": "stderr",
     "output_type": "stream",
     "text": [
      "Epoch 55/100: 100%|██████████| 4/4 [00:00<00:00, 12.21it/s]\n"
     ]
    },
    {
     "name": "stdout",
     "output_type": "stream",
     "text": [
      "Epoch 55, Train Loss: 0.303814, Val Loss: 0.060602\n"
     ]
    },
    {
     "name": "stderr",
     "output_type": "stream",
     "text": [
      "Epoch 56/100: 100%|██████████| 4/4 [00:00<00:00, 10.64it/s]\n"
     ]
    },
    {
     "name": "stdout",
     "output_type": "stream",
     "text": [
      "Epoch 56, Train Loss: 0.304278, Val Loss: 0.062041\n"
     ]
    },
    {
     "name": "stderr",
     "output_type": "stream",
     "text": [
      "Epoch 57/100: 100%|██████████| 4/4 [00:00<00:00, 10.59it/s]\n"
     ]
    },
    {
     "name": "stdout",
     "output_type": "stream",
     "text": [
      "Epoch 57, Train Loss: 0.305877, Val Loss: 0.054226\n"
     ]
    },
    {
     "name": "stderr",
     "output_type": "stream",
     "text": [
      "Epoch 58/100: 100%|██████████| 4/4 [00:00<00:00, 10.36it/s]\n"
     ]
    },
    {
     "name": "stdout",
     "output_type": "stream",
     "text": [
      "Epoch 58, Train Loss: 0.302124, Val Loss: 0.054793\n"
     ]
    },
    {
     "name": "stderr",
     "output_type": "stream",
     "text": [
      "Epoch 59/100: 100%|██████████| 4/4 [00:00<00:00, 10.65it/s]\n"
     ]
    },
    {
     "name": "stdout",
     "output_type": "stream",
     "text": [
      "Epoch 59, Train Loss: 0.299353, Val Loss: 0.050846\n"
     ]
    },
    {
     "name": "stderr",
     "output_type": "stream",
     "text": [
      "Epoch 60/100: 100%|██████████| 4/4 [00:00<00:00, 12.29it/s]\n"
     ]
    },
    {
     "name": "stdout",
     "output_type": "stream",
     "text": [
      "Epoch 60, Train Loss: 0.298137, Val Loss: 0.052594\n"
     ]
    },
    {
     "name": "stderr",
     "output_type": "stream",
     "text": [
      "Epoch 61/100: 100%|██████████| 4/4 [00:00<00:00, 11.35it/s]\n"
     ]
    },
    {
     "name": "stdout",
     "output_type": "stream",
     "text": [
      "Epoch 61, Train Loss: 0.302087, Val Loss: 0.050945\n"
     ]
    },
    {
     "name": "stderr",
     "output_type": "stream",
     "text": [
      "Epoch 62/100: 100%|██████████| 4/4 [00:00<00:00, 11.58it/s]\n"
     ]
    },
    {
     "name": "stdout",
     "output_type": "stream",
     "text": [
      "Epoch 62, Train Loss: 0.299494, Val Loss: 0.049900\n"
     ]
    },
    {
     "name": "stderr",
     "output_type": "stream",
     "text": [
      "Epoch 63/100: 100%|██████████| 4/4 [00:00<00:00, 11.53it/s]\n"
     ]
    },
    {
     "name": "stdout",
     "output_type": "stream",
     "text": [
      "Epoch 63, Train Loss: 0.293712, Val Loss: 0.050615\n"
     ]
    },
    {
     "name": "stderr",
     "output_type": "stream",
     "text": [
      "Epoch 64/100: 100%|██████████| 4/4 [00:00<00:00, 10.95it/s]\n"
     ]
    },
    {
     "name": "stdout",
     "output_type": "stream",
     "text": [
      "Epoch 64, Train Loss: 0.290741, Val Loss: 0.052289\n"
     ]
    },
    {
     "name": "stderr",
     "output_type": "stream",
     "text": [
      "Epoch 65/100: 100%|██████████| 4/4 [00:00<00:00, 11.57it/s]\n"
     ]
    },
    {
     "name": "stdout",
     "output_type": "stream",
     "text": [
      "Epoch 65, Train Loss: 0.288236, Val Loss: 0.047160\n"
     ]
    },
    {
     "name": "stderr",
     "output_type": "stream",
     "text": [
      "Epoch 66/100: 100%|██████████| 4/4 [00:00<00:00, 11.51it/s]\n"
     ]
    },
    {
     "name": "stdout",
     "output_type": "stream",
     "text": [
      "Epoch 66, Train Loss: 0.291390, Val Loss: 0.047658\n"
     ]
    },
    {
     "name": "stderr",
     "output_type": "stream",
     "text": [
      "Epoch 67/100: 100%|██████████| 4/4 [00:00<00:00, 10.81it/s]\n"
     ]
    },
    {
     "name": "stdout",
     "output_type": "stream",
     "text": [
      "Epoch 67, Train Loss: 0.287368, Val Loss: 0.046204\n"
     ]
    },
    {
     "name": "stderr",
     "output_type": "stream",
     "text": [
      "Epoch 68/100: 100%|██████████| 4/4 [00:00<00:00, 11.62it/s]\n"
     ]
    },
    {
     "name": "stdout",
     "output_type": "stream",
     "text": [
      "Epoch 68, Train Loss: 0.288072, Val Loss: 0.045639\n"
     ]
    },
    {
     "name": "stderr",
     "output_type": "stream",
     "text": [
      "Epoch 69/100: 100%|██████████| 4/4 [00:00<00:00, 10.41it/s]\n"
     ]
    },
    {
     "name": "stdout",
     "output_type": "stream",
     "text": [
      "Epoch 69, Train Loss: 0.285523, Val Loss: 0.045449\n"
     ]
    },
    {
     "name": "stderr",
     "output_type": "stream",
     "text": [
      "Epoch 70/100: 100%|██████████| 4/4 [00:00<00:00, 11.31it/s]\n"
     ]
    },
    {
     "name": "stdout",
     "output_type": "stream",
     "text": [
      "Epoch 70, Train Loss: 0.286211, Val Loss: 0.048132\n"
     ]
    },
    {
     "name": "stderr",
     "output_type": "stream",
     "text": [
      "Epoch 71/100: 100%|██████████| 4/4 [00:00<00:00, 12.24it/s]\n"
     ]
    },
    {
     "name": "stdout",
     "output_type": "stream",
     "text": [
      "Epoch 71, Train Loss: 0.286036, Val Loss: 0.046458\n"
     ]
    },
    {
     "name": "stderr",
     "output_type": "stream",
     "text": [
      "Epoch 72/100: 100%|██████████| 4/4 [00:00<00:00, 11.37it/s]\n"
     ]
    },
    {
     "name": "stdout",
     "output_type": "stream",
     "text": [
      "Epoch 72, Train Loss: 0.282648, Val Loss: 0.044604\n"
     ]
    },
    {
     "name": "stderr",
     "output_type": "stream",
     "text": [
      "Epoch 73/100: 100%|██████████| 4/4 [00:00<00:00, 10.34it/s]\n"
     ]
    },
    {
     "name": "stdout",
     "output_type": "stream",
     "text": [
      "Epoch 73, Train Loss: 0.282154, Val Loss: 0.044521\n"
     ]
    },
    {
     "name": "stderr",
     "output_type": "stream",
     "text": [
      "Epoch 74/100: 100%|██████████| 4/4 [00:00<00:00, 10.86it/s]\n"
     ]
    },
    {
     "name": "stdout",
     "output_type": "stream",
     "text": [
      "Epoch 74, Train Loss: 0.282259, Val Loss: 0.046731\n"
     ]
    },
    {
     "name": "stderr",
     "output_type": "stream",
     "text": [
      "Epoch 75/100: 100%|██████████| 4/4 [00:00<00:00, 10.50it/s]\n"
     ]
    },
    {
     "name": "stdout",
     "output_type": "stream",
     "text": [
      "Epoch 75, Train Loss: 0.281041, Val Loss: 0.046391\n"
     ]
    },
    {
     "name": "stderr",
     "output_type": "stream",
     "text": [
      "Epoch 76/100: 100%|██████████| 4/4 [00:00<00:00, 10.87it/s]\n"
     ]
    },
    {
     "name": "stdout",
     "output_type": "stream",
     "text": [
      "Epoch 76, Train Loss: 0.284164, Val Loss: 0.046769\n"
     ]
    },
    {
     "name": "stderr",
     "output_type": "stream",
     "text": [
      "Epoch 77/100: 100%|██████████| 4/4 [00:00<00:00, 11.23it/s]\n"
     ]
    },
    {
     "name": "stdout",
     "output_type": "stream",
     "text": [
      "Epoch 77, Train Loss: 0.282026, Val Loss: 0.048424\n"
     ]
    },
    {
     "name": "stderr",
     "output_type": "stream",
     "text": [
      "Epoch 78/100: 100%|██████████| 4/4 [00:00<00:00, 10.44it/s]\n"
     ]
    },
    {
     "name": "stdout",
     "output_type": "stream",
     "text": [
      "Epoch 78, Train Loss: 0.280917, Val Loss: 0.043539\n"
     ]
    },
    {
     "name": "stderr",
     "output_type": "stream",
     "text": [
      "Epoch 79/100: 100%|██████████| 4/4 [00:00<00:00, 11.76it/s]\n"
     ]
    },
    {
     "name": "stdout",
     "output_type": "stream",
     "text": [
      "Epoch 79, Train Loss: 0.281786, Val Loss: 0.043438\n"
     ]
    },
    {
     "name": "stderr",
     "output_type": "stream",
     "text": [
      "Epoch 80/100: 100%|██████████| 4/4 [00:00<00:00, 11.43it/s]\n"
     ]
    },
    {
     "name": "stdout",
     "output_type": "stream",
     "text": [
      "Epoch 80, Train Loss: 0.280475, Val Loss: 0.055149\n"
     ]
    },
    {
     "name": "stderr",
     "output_type": "stream",
     "text": [
      "Epoch 81/100: 100%|██████████| 4/4 [00:00<00:00, 11.69it/s]\n"
     ]
    },
    {
     "name": "stdout",
     "output_type": "stream",
     "text": [
      "Epoch 81, Train Loss: 0.282908, Val Loss: 0.051686\n"
     ]
    },
    {
     "name": "stderr",
     "output_type": "stream",
     "text": [
      "Epoch 82/100: 100%|██████████| 4/4 [00:00<00:00, 10.61it/s]\n"
     ]
    },
    {
     "name": "stdout",
     "output_type": "stream",
     "text": [
      "Epoch 82, Train Loss: 0.291738, Val Loss: 0.064196\n"
     ]
    },
    {
     "name": "stderr",
     "output_type": "stream",
     "text": [
      "Epoch 83/100: 100%|██████████| 4/4 [00:00<00:00, 11.66it/s]\n"
     ]
    },
    {
     "name": "stdout",
     "output_type": "stream",
     "text": [
      "Epoch 83, Train Loss: 0.290251, Val Loss: 0.067179\n"
     ]
    },
    {
     "name": "stderr",
     "output_type": "stream",
     "text": [
      "Epoch 84/100: 100%|██████████| 4/4 [00:00<00:00, 10.70it/s]\n"
     ]
    },
    {
     "name": "stdout",
     "output_type": "stream",
     "text": [
      "Epoch 84, Train Loss: 0.289464, Val Loss: 0.059204\n"
     ]
    },
    {
     "name": "stderr",
     "output_type": "stream",
     "text": [
      "Epoch 85/100: 100%|██████████| 4/4 [00:00<00:00, 11.77it/s]\n"
     ]
    },
    {
     "name": "stdout",
     "output_type": "stream",
     "text": [
      "Epoch 85, Train Loss: 0.282296, Val Loss: 0.050549\n"
     ]
    },
    {
     "name": "stderr",
     "output_type": "stream",
     "text": [
      "Epoch 86/100: 100%|██████████| 4/4 [00:00<00:00, 11.13it/s]\n"
     ]
    },
    {
     "name": "stdout",
     "output_type": "stream",
     "text": [
      "Epoch 86, Train Loss: 0.287921, Val Loss: 0.048028\n"
     ]
    },
    {
     "name": "stderr",
     "output_type": "stream",
     "text": [
      "Epoch 87/100: 100%|██████████| 4/4 [00:00<00:00, 10.55it/s]\n"
     ]
    },
    {
     "name": "stdout",
     "output_type": "stream",
     "text": [
      "Epoch 87, Train Loss: 0.277144, Val Loss: 0.048347\n"
     ]
    },
    {
     "name": "stderr",
     "output_type": "stream",
     "text": [
      "Epoch 88/100: 100%|██████████| 4/4 [00:00<00:00, 10.77it/s]\n"
     ]
    },
    {
     "name": "stdout",
     "output_type": "stream",
     "text": [
      "Epoch 88, Train Loss: 0.283798, Val Loss: 0.044407\n"
     ]
    },
    {
     "name": "stderr",
     "output_type": "stream",
     "text": [
      "Epoch 89/100: 100%|██████████| 4/4 [00:00<00:00, 10.71it/s]\n"
     ]
    },
    {
     "name": "stdout",
     "output_type": "stream",
     "text": [
      "Epoch 89, Train Loss: 0.274892, Val Loss: 0.050001\n",
      "Early stopping\n"
     ]
    }
   ],
   "source": [
    "from tqdm import tqdm\n",
    "\n",
    "num_epochs = 100\n",
    "best_val_loss = float('inf')\n",
    "patience = 10\n",
    "epochs_no_improve = 0\n",
    "\n",
    "for epoch in range(num_epochs):\n",
    "    model.train()\n",
    "    train_loss = 0.0\n",
    "    for X_batch, Y_batch, lengths in tqdm(train_loader, desc=f\"Epoch {epoch+1}/{num_epochs}\"):\n",
    "        X_batch = X_batch.to(device)\n",
    "        Y_batch = Y_batch.to(device)\n",
    "        lengths = lengths.to(device)  # Original lengths, not padded lengths\n",
    "        \n",
    "        optimizer.zero_grad()\n",
    "        outputs, mask = model(X_batch, lengths)  # Pass correct lengths for masking\n",
    "        \n",
    "        loss = custom_loss(outputs, Y_batch, mask)\n",
    "        loss.backward()\n",
    "        torch.nn.utils.clip_grad_norm_(model.parameters(), max_norm=1.0)\n",
    "        optimizer.step()\n",
    "        \n",
    "        train_loss += loss.item() * X_batch.size(0)\n",
    "    \n",
    "    train_loss /= len(train_dataset)\n",
    "    \n",
    "    # Validation\n",
    "    model.eval()\n",
    "    val_loss = 0.0\n",
    "    with torch.no_grad():\n",
    "        for X_batch, Y_batch, lengths in val_loader:\n",
    "            X_batch = X_batch.to(device)\n",
    "            Y_batch = Y_batch.to(device)\n",
    "            lengths = lengths.to(device)  # Original lengths, not padded lengths\n",
    "            \n",
    "            outputs, mask = model(X_batch, lengths)  # Pass correct lengths for masking\n",
    "            \n",
    "            loss = custom_loss(outputs, Y_batch, mask)\n",
    "            val_loss += loss.item() * X_batch.size(0)\n",
    "\n",
    "    val_loss /= len(val_dataset)\n",
    "    \n",
    "    print(f\"Epoch {epoch+1}, Train Loss: {train_loss:.6f}, Val Loss: {val_loss:.6f}\")\n",
    "    \n",
    "    # Check for improvement\n",
    "    if val_loss < best_val_loss:\n",
    "        best_val_loss = val_loss\n",
    "        epochs_no_improve = 0\n",
    "        # Save the model\n",
    "        torch.save(model.state_dict(), 'best_model.pth')\n",
    "    else:\n",
    "        epochs_no_improve += 1\n",
    "        if epochs_no_improve >= patience:\n",
    "            print(\"Early stopping\")\n",
    "            break\n"
   ]
  },
  {
   "cell_type": "markdown",
   "metadata": {},
   "source": [
    "### Step 5: Evaluation and Fine-Tuning"
   ]
  },
  {
   "cell_type": "code",
   "execution_count": 127,
   "metadata": {},
   "outputs": [
    {
     "name": "stderr",
     "output_type": "stream",
     "text": [
      "/tmp/ipykernel_212289/2864630211.py:2: FutureWarning: You are using `torch.load` with `weights_only=False` (the current default value), which uses the default pickle module implicitly. It is possible to construct malicious pickle data which will execute arbitrary code during unpickling (See https://github.com/pytorch/pytorch/blob/main/SECURITY.md#untrusted-models for more details). In a future release, the default value for `weights_only` will be flipped to `True`. This limits the functions that could be executed during unpickling. Arbitrary objects will no longer be allowed to be loaded via this mode unless they are explicitly allowlisted by the user via `torch.serialization.add_safe_globals`. We recommend you start setting `weights_only=True` for any use case where you don't have full control of the loaded file. Please open an issue on GitHub for any issues related to this experimental feature.\n",
      "  model.load_state_dict(torch.load('best_model.pth'))\n"
     ]
    },
    {
     "name": "stdout",
     "output_type": "stream",
     "text": [
      "Test Loss: 0.043438\n"
     ]
    }
   ],
   "source": [
    "# Load the best model\n",
    "model.load_state_dict(torch.load('best_model.pth'))\n",
    "\n",
    "model.eval()\n",
    "test_loss = 0.0\n",
    "with torch.no_grad():\n",
    "    for X_batch, Y_batch, lengths in test_loader:\n",
    "        X_batch = X_batch.to(device)\n",
    "        Y_batch = Y_batch.to(device)\n",
    "        lengths = lengths.to(device)\n",
    "        \n",
    "        outputs, mask = model(X_batch, lengths)\n",
    "        \n",
    "        loss = custom_loss(outputs, Y_batch, mask)\n",
    "        test_loss += loss.item() * X_batch.size(0)\n",
    "test_loss /= len(test_dataset)\n",
    "print(f\"Test Loss: {test_loss:.6f}\")\n"
   ]
  },
  {
   "cell_type": "code",
   "execution_count": 128,
   "metadata": {},
   "outputs": [
    {
     "data": {
      "image/png": "[encoded data removed]",
      "text/plain": [
       "<Figure size 1200x600 with 1 Axes>"
      ]
     },
     "metadata": {},
     "output_type": "display_data"
    }
   ],
   "source": [
    "import matplotlib.pyplot as plt\n",
    "\n",
    "# Select a sequence from the test set\n",
    "X_sequence, Y_true_sequence, lengths = next(iter(test_loader))\n",
    "sequence_idx = 1  # Local batch index, as we are selecting the first sequence in the batch\n",
    "length = lengths_tensor[sequence_idx]  # Ensure the correct original length is used for this sequence\n",
    "\n",
    "# Slice up to the true length of the sequence\n",
    "X_sequence = X_sequence[sequence_idx:sequence_idx+1, :length].to(device)\n",
    "Y_true_sequence = Y_true_sequence[sequence_idx:sequence_idx+1, :length].to(device)\n",
    "lengths_sequence = lengths_tensor[sequence_idx:sequence_idx+1]\n",
    "\n",
    "# Predict\n",
    "model.eval()\n",
    "with torch.no_grad():\n",
    "    outputs, mask = model(X_sequence, lengths_sequence)  # Pass the correct sequence length for evaluation\n",
    "\n",
    "# Denormalize the output and true values\n",
    "def denormalize(data, mean, std):\n",
    "    mean = mean.to(device).unsqueeze(0).unsqueeze(0)\n",
    "    std = std.to(device).unsqueeze(0).unsqueeze(0)\n",
    "    return data * std + mean\n",
    "\n",
    "# Denormalize\n",
    "Y_true_denorm = denormalize(Y_true_sequence, Y_mean, Y_std)\n",
    "Y_pred_denorm = denormalize(outputs, Y_mean, Y_std)\n",
    "\n",
    "# Convert to CPU and numpy arrays for plotting\n",
    "Y_true_denorm = Y_true_denorm.squeeze(0).cpu().numpy()\n",
    "Y_pred_denorm = Y_pred_denorm.squeeze(0).cpu().numpy()\n",
    "\n",
    "# Plot true vs predicted positions for a specific joint and coordinate\n",
    "joint_idx = 0  # First joint\n",
    "coordinate_idx = 0  # X-coordinate\n",
    "\n",
    "plt.figure(figsize=(12, 6))\n",
    "plt.plot(\n",
    "    Y_true_denorm[:length, joint_idx * 3 + coordinate_idx],  # Only plot non-padded values\n",
    "    label='True Position',\n",
    ")\n",
    "plt.plot(\n",
    "    Y_pred_denorm[:length, joint_idx * 3 + coordinate_idx],  # Only plot non-padded values\n",
    "    label='Predicted Position',\n",
    ")\n",
    "plt.title('Joint Position Over Time')\n",
    "plt.xlabel('Time Step')\n",
    "plt.ylabel('Position')\n",
    "plt.legend()\n",
    "plt.show()\n"
   ]
  },
  {
   "cell_type": "code",
   "execution_count": 129,
   "metadata": {},
   "outputs": [
    {
     "data": {
      "text/plain": [
       "tensor([992, 992, 992, 992, 992, 992, 992, 992, 992, 992, 992, 992, 992, 992,\n",
       "        992, 992])"
      ]
     },
     "execution_count": 129,
     "metadata": {},
     "output_type": "execute_result"
    }
   ],
   "source": [
    "lengths"
   ]
  },
  {
   "cell_type": "code",
   "execution_count": 130,
   "metadata": {},
   "outputs": [
    {
     "data": {
      "text/plain": [
       "tensor(474)"
      ]
     },
     "execution_count": 130,
     "metadata": {},
     "output_type": "execute_result"
    }
   ],
   "source": [
    "lengths_tensor[0]"
   ]
  },
  {
   "cell_type": "code",
   "execution_count": 131,
   "metadata": {},
   "outputs": [
    {
     "name": "stdout",
     "output_type": "stream",
     "text": [
      "[NbConvertApp] WARNING | pattern 'copy.ipynb' matched no files\n",
      "[NbConvertApp] Converting notebook Code/preprocessing/preprocess.ipynb to script\n",
      "[NbConvertApp] Writing 17119 bytes to Code/preprocessing/preprocess.py\n"
     ]
    }
   ],
   "source": [
    "!jupyter nbconvert --to script Code/preprocessing/preprocess copy.ipynb"
   ]
  },
  {
   "cell_type": "code",
   "execution_count": null,
   "metadata": {},
   "outputs": [],
   "source": []
  }
 ],
 "metadata": {
  "kernelspec": {
   "display_name": "BA",
   "language": "python",
   "name": "python3"
  },
  "language_info": {
   "codemirror_mode": {
    "name": "ipython",
    "version": 3
   },
   "file_extension": ".py",
   "mimetype": "text/x-python",
   "name": "python",
   "nbconvert_exporter": "python",
   "pygments_lexer": "ipython3",
   "version": "3.11.9"
  }
 },
 "nbformat": 4,
 "nbformat_minor": 2
}
