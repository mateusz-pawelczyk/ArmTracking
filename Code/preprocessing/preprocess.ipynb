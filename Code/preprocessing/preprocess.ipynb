{
 "cells": [
  {
   "cell_type": "code",
   "execution_count": 1,
   "metadata": {},
   "outputs": [],
   "source": [
    "import pandas as pd\n",
    "import os\n",
    "import numpy as np\n",
    "import torch\n",
    "os.chdir('/home/tm_ba/Desktop/Bachelorarbeit_code')"
   ]
  },
  {
   "cell_type": "code",
   "execution_count": 2,
   "metadata": {},
   "outputs": [
    {
     "data": {
      "text/html": [
       "<div>\n",
       "<style scoped>\n",
       "    .dataframe tbody tr th:only-of-type {\n",
       "        vertical-align: middle;\n",
       "    }\n",
       "\n",
       "    .dataframe tbody tr th {\n",
       "        vertical-align: top;\n",
       "    }\n",
       "\n",
       "    .dataframe thead th {\n",
       "        text-align: right;\n",
       "    }\n",
       "</style>\n",
       "<table border=\"1\" class=\"dataframe\">\n",
       "  <thead>\n",
       "    <tr style=\"text-align: right;\">\n",
       "      <th></th>\n",
       "      <th>Frame</th>\n",
       "      <th>shoulder:X</th>\n",
       "      <th>shoulder:Y</th>\n",
       "      <th>shoulder:Z</th>\n",
       "      <th>elbow:X</th>\n",
       "      <th>elbow:Y</th>\n",
       "      <th>elbow:Z</th>\n",
       "      <th>wrist:X</th>\n",
       "      <th>wrist:Y</th>\n",
       "      <th>wrist:Z</th>\n",
       "      <th>ThumbTip:X</th>\n",
       "      <th>ThumbTip:Y</th>\n",
       "      <th>ThumbTip:Z</th>\n",
       "      <th>Sequence</th>\n",
       "    </tr>\n",
       "  </thead>\n",
       "  <tbody>\n",
       "    <tr>\n",
       "      <th>0</th>\n",
       "      <td>1</td>\n",
       "      <td>424.563679</td>\n",
       "      <td>31.445054</td>\n",
       "      <td>632.763792</td>\n",
       "      <td>437.255669</td>\n",
       "      <td>95.056137</td>\n",
       "      <td>303.741040</td>\n",
       "      <td>326.800612</td>\n",
       "      <td>202.974780</td>\n",
       "      <td>98.728533</td>\n",
       "      <td>208.189711</td>\n",
       "      <td>226.987415</td>\n",
       "      <td>58.566404</td>\n",
       "      <td>0</td>\n",
       "    </tr>\n",
       "    <tr>\n",
       "      <th>1</th>\n",
       "      <td>2</td>\n",
       "      <td>424.295767</td>\n",
       "      <td>31.463165</td>\n",
       "      <td>632.810122</td>\n",
       "      <td>436.349315</td>\n",
       "      <td>95.551888</td>\n",
       "      <td>303.887265</td>\n",
       "      <td>324.416997</td>\n",
       "      <td>203.830784</td>\n",
       "      <td>100.116664</td>\n",
       "      <td>205.696950</td>\n",
       "      <td>226.350274</td>\n",
       "      <td>58.793938</td>\n",
       "      <td>0</td>\n",
       "    </tr>\n",
       "    <tr>\n",
       "      <th>2</th>\n",
       "      <td>3</td>\n",
       "      <td>424.058731</td>\n",
       "      <td>31.496611</td>\n",
       "      <td>632.856757</td>\n",
       "      <td>435.518783</td>\n",
       "      <td>96.208076</td>\n",
       "      <td>304.060796</td>\n",
       "      <td>321.978571</td>\n",
       "      <td>204.765964</td>\n",
       "      <td>101.315481</td>\n",
       "      <td>203.130669</td>\n",
       "      <td>225.790438</td>\n",
       "      <td>59.283324</td>\n",
       "      <td>0</td>\n",
       "    </tr>\n",
       "    <tr>\n",
       "      <th>3</th>\n",
       "      <td>4</td>\n",
       "      <td>423.839756</td>\n",
       "      <td>31.552288</td>\n",
       "      <td>632.884049</td>\n",
       "      <td>434.717062</td>\n",
       "      <td>96.974342</td>\n",
       "      <td>304.236887</td>\n",
       "      <td>319.504761</td>\n",
       "      <td>205.752253</td>\n",
       "      <td>102.392088</td>\n",
       "      <td>200.513515</td>\n",
       "      <td>225.286090</td>\n",
       "      <td>59.932349</td>\n",
       "      <td>0</td>\n",
       "    </tr>\n",
       "    <tr>\n",
       "      <th>4</th>\n",
       "      <td>5</td>\n",
       "      <td>423.629020</td>\n",
       "      <td>31.633001</td>\n",
       "      <td>632.880829</td>\n",
       "      <td>433.908156</td>\n",
       "      <td>97.811531</td>\n",
       "      <td>304.399760</td>\n",
       "      <td>317.010496</td>\n",
       "      <td>206.768091</td>\n",
       "      <td>103.398043</td>\n",
       "      <td>197.863597</td>\n",
       "      <td>224.820703</td>\n",
       "      <td>60.664590</td>\n",
       "      <td>0</td>\n",
       "    </tr>\n",
       "    <tr>\n",
       "      <th>...</th>\n",
       "      <td>...</td>\n",
       "      <td>...</td>\n",
       "      <td>...</td>\n",
       "      <td>...</td>\n",
       "      <td>...</td>\n",
       "      <td>...</td>\n",
       "      <td>...</td>\n",
       "      <td>...</td>\n",
       "      <td>...</td>\n",
       "      <td>...</td>\n",
       "      <td>...</td>\n",
       "      <td>...</td>\n",
       "      <td>...</td>\n",
       "      <td>...</td>\n",
       "    </tr>\n",
       "    <tr>\n",
       "      <th>29035</th>\n",
       "      <td>484</td>\n",
       "      <td>472.782152</td>\n",
       "      <td>-7.326663</td>\n",
       "      <td>652.304919</td>\n",
       "      <td>554.735266</td>\n",
       "      <td>35.535836</td>\n",
       "      <td>329.040196</td>\n",
       "      <td>590.844187</td>\n",
       "      <td>176.464542</td>\n",
       "      <td>116.238829</td>\n",
       "      <td>553.073971</td>\n",
       "      <td>289.401170</td>\n",
       "      <td>36.425621</td>\n",
       "      <td>50</td>\n",
       "    </tr>\n",
       "    <tr>\n",
       "      <th>29036</th>\n",
       "      <td>485</td>\n",
       "      <td>472.813012</td>\n",
       "      <td>-7.347910</td>\n",
       "      <td>652.219975</td>\n",
       "      <td>554.945255</td>\n",
       "      <td>35.411012</td>\n",
       "      <td>329.175350</td>\n",
       "      <td>590.967573</td>\n",
       "      <td>176.501475</td>\n",
       "      <td>116.288354</td>\n",
       "      <td>553.156923</td>\n",
       "      <td>289.500379</td>\n",
       "      <td>36.527046</td>\n",
       "      <td>50</td>\n",
       "    </tr>\n",
       "    <tr>\n",
       "      <th>29037</th>\n",
       "      <td>486</td>\n",
       "      <td>472.858911</td>\n",
       "      <td>-7.366043</td>\n",
       "      <td>652.136989</td>\n",
       "      <td>555.194957</td>\n",
       "      <td>35.239731</td>\n",
       "      <td>329.331766</td>\n",
       "      <td>591.064473</td>\n",
       "      <td>176.525363</td>\n",
       "      <td>116.325138</td>\n",
       "      <td>553.182233</td>\n",
       "      <td>289.565935</td>\n",
       "      <td>36.574016</td>\n",
       "      <td>50</td>\n",
       "    </tr>\n",
       "    <tr>\n",
       "      <th>29038</th>\n",
       "      <td>487</td>\n",
       "      <td>472.932878</td>\n",
       "      <td>-7.370025</td>\n",
       "      <td>652.068414</td>\n",
       "      <td>555.489116</td>\n",
       "      <td>35.005111</td>\n",
       "      <td>329.494524</td>\n",
       "      <td>591.102419</td>\n",
       "      <td>176.537474</td>\n",
       "      <td>116.327354</td>\n",
       "      <td>553.125872</td>\n",
       "      <td>289.599658</td>\n",
       "      <td>36.607418</td>\n",
       "      <td>50</td>\n",
       "    </tr>\n",
       "    <tr>\n",
       "      <th>29039</th>\n",
       "      <td>488</td>\n",
       "      <td>473.052123</td>\n",
       "      <td>-7.343873</td>\n",
       "      <td>652.030417</td>\n",
       "      <td>555.832227</td>\n",
       "      <td>34.686398</td>\n",
       "      <td>329.641630</td>\n",
       "      <td>591.039086</td>\n",
       "      <td>176.542472</td>\n",
       "      <td>116.267633</td>\n",
       "      <td>552.962166</td>\n",
       "      <td>289.611440</td>\n",
       "      <td>36.699073</td>\n",
       "      <td>50</td>\n",
       "    </tr>\n",
       "  </tbody>\n",
       "</table>\n",
       "<p>29040 rows × 14 columns</p>\n",
       "</div>"
      ],
      "text/plain": [
       "       Frame  shoulder:X  shoulder:Y  shoulder:Z     elbow:X    elbow:Y  \\\n",
       "0          1  424.563679   31.445054  632.763792  437.255669  95.056137   \n",
       "1          2  424.295767   31.463165  632.810122  436.349315  95.551888   \n",
       "2          3  424.058731   31.496611  632.856757  435.518783  96.208076   \n",
       "3          4  423.839756   31.552288  632.884049  434.717062  96.974342   \n",
       "4          5  423.629020   31.633001  632.880829  433.908156  97.811531   \n",
       "...      ...         ...         ...         ...         ...        ...   \n",
       "29035    484  472.782152   -7.326663  652.304919  554.735266  35.535836   \n",
       "29036    485  472.813012   -7.347910  652.219975  554.945255  35.411012   \n",
       "29037    486  472.858911   -7.366043  652.136989  555.194957  35.239731   \n",
       "29038    487  472.932878   -7.370025  652.068414  555.489116  35.005111   \n",
       "29039    488  473.052123   -7.343873  652.030417  555.832227  34.686398   \n",
       "\n",
       "          elbow:Z     wrist:X     wrist:Y     wrist:Z  ThumbTip:X  ThumbTip:Y  \\\n",
       "0      303.741040  326.800612  202.974780   98.728533  208.189711  226.987415   \n",
       "1      303.887265  324.416997  203.830784  100.116664  205.696950  226.350274   \n",
       "2      304.060796  321.978571  204.765964  101.315481  203.130669  225.790438   \n",
       "3      304.236887  319.504761  205.752253  102.392088  200.513515  225.286090   \n",
       "4      304.399760  317.010496  206.768091  103.398043  197.863597  224.820703   \n",
       "...           ...         ...         ...         ...         ...         ...   \n",
       "29035  329.040196  590.844187  176.464542  116.238829  553.073971  289.401170   \n",
       "29036  329.175350  590.967573  176.501475  116.288354  553.156923  289.500379   \n",
       "29037  329.331766  591.064473  176.525363  116.325138  553.182233  289.565935   \n",
       "29038  329.494524  591.102419  176.537474  116.327354  553.125872  289.599658   \n",
       "29039  329.641630  591.039086  176.542472  116.267633  552.962166  289.611440   \n",
       "\n",
       "       ThumbTip:Z  Sequence  \n",
       "0       58.566404         0  \n",
       "1       58.793938         0  \n",
       "2       59.283324         0  \n",
       "3       59.932349         0  \n",
       "4       60.664590         0  \n",
       "...           ...       ...  \n",
       "29035   36.425621        50  \n",
       "29036   36.527046        50  \n",
       "29037   36.574016        50  \n",
       "29038   36.607418        50  \n",
       "29039   36.699073        50  \n",
       "\n",
       "[29040 rows x 14 columns]"
      ]
     },
     "execution_count": 2,
     "metadata": {},
     "output_type": "execute_result"
    }
   ],
   "source": [
    "df = pd.read_csv(\"csv_new/processed_Trajectories.csv\")\n",
    "df"
   ]
  },
  {
   "cell_type": "code",
   "execution_count": 3,
   "metadata": {},
   "outputs": [
    {
     "data": {
      "text/plain": [
       "Sequence\n",
       "18    994\n",
       "14    805\n",
       "28    767\n",
       "31    762\n",
       "48    758\n",
       "37    666\n",
       "2     663\n",
       "9     661\n",
       "25    651\n",
       "11    640\n",
       "6     638\n",
       "7     635\n",
       "44    634\n",
       "33    632\n",
       "38    632\n",
       "1     612\n",
       "39    612\n",
       "34    611\n",
       "26    605\n",
       "5     602\n",
       "36    585\n",
       "46    583\n",
       "47    582\n",
       "21    575\n",
       "35    565\n",
       "43    560\n",
       "41    558\n",
       "15    548\n",
       "27    545\n",
       "32    545\n",
       "13    544\n",
       "24    534\n",
       "22    526\n",
       "8     523\n",
       "3     522\n",
       "49    494\n",
       "50    488\n",
       "0     475\n",
       "12    474\n",
       "29    471\n",
       "42    464\n",
       "19    457\n",
       "30    452\n",
       "17    447\n",
       "4     446\n",
       "10    437\n",
       "20    435\n",
       "16    434\n",
       "40    403\n",
       "23    398\n",
       "45    390\n",
       "Name: count, dtype: int64"
      ]
     },
     "execution_count": 3,
     "metadata": {},
     "output_type": "execute_result"
    }
   ],
   "source": [
    "df.value_counts(\"Sequence\")"
   ]
  },
  {
   "cell_type": "code",
   "execution_count": 4,
   "metadata": {},
   "outputs": [
    {
     "name": "stdout",
     "output_type": "stream",
     "text": [
      "X shape: (28989, 12)\n",
      "Y shape: (28989, 12)\n",
      "X range: -116.11421904587536 to 664.1008282134771\n",
      "Y range: -116.11421904587536 to 664.1008282134771\n"
     ]
    },
    {
     "name": "stderr",
     "output_type": "stream",
     "text": [
      "/tmp/ipykernel_295931/680505019.py:16: DeprecationWarning: DataFrameGroupBy.apply operated on the grouping columns. This behavior is deprecated, and in a future version of pandas the grouping columns will be excluded from the operation. Either pass `include_groups=False` to exclude the groupings or explicitly select the grouping columns after groupby to silence this warning.\n",
      "  sequences = full_data.groupby('Sequence').apply(lambda group: group.drop(columns=['Frame', 'Sequence']).values).values\n"
     ]
    }
   ],
   "source": [
    "# Joints of interest\n",
    "joints = ['shoulder', 'elbow', 'wrist', 'ThumbTip']\n",
    "coordinates = ['X', 'Y', 'Z']\n",
    "\n",
    "# Convert 'mm' to 'm' (if needed, since robot arms often use meters)\n",
    "df[[f'{joint}:{coord}' for joint in joints for coord in coordinates]]\n",
    "\n",
    "\n",
    "\n",
    "\n",
    "# Merge position, velocity, and acceleration into one DataFrame\n",
    "full_data = df.drop(columns=[\"Sequence\"])\n",
    "full_data[\"Sequence\"] = df[\"Sequence\"]\n",
    "\n",
    "# Organize by sequence: Create sequences for the model\n",
    "sequences = full_data.groupby('Sequence').apply(lambda group: group.drop(columns=['Frame', 'Sequence']).values).values\n",
    "\n",
    "# Example: Sequences of joint positions, velocity, and acceleration for input\n",
    "X = []\n",
    "Y = []\n",
    "\n",
    "# Prepare the data: Input (X) will be current positions, velocities, accelerations\n",
    "# Output (Y) will be the next time step's positions\n",
    "\n",
    "for seq in sequences:\n",
    "    # Each sequence is a separate time-series for one movement\n",
    "    for i in range(len(seq) - 1):  # We stop at len(seq)-1 to predict the next time step\n",
    "        X.append(seq[i])  # Input: current time step (positions, velocity, acceleration)\n",
    "        Y.append(seq[i+1][:len(joints)*3])  # Output: next time step's positions (x, y, z)\n",
    "\n",
    "# Convert to numpy arrays\n",
    "X = np.array(X)\n",
    "Y = np.array(Y)\n",
    "\n",
    "# X shape: (num_samples, num_features) -- for LSTMs, should reshape to (num_samples, timesteps, num_features)\n",
    "print(\"X shape:\", X.shape)\n",
    "print(\"Y shape:\", Y.shape)\n",
    "print(f\"X range: {X.min()} to {X.max()}\",)\n",
    "print(f\"Y range: {Y.min()} to {Y.max()}\",)"
   ]
  },
  {
   "cell_type": "code",
   "execution_count": 5,
   "metadata": {},
   "outputs": [
    {
     "data": {
      "text/plain": [
       "Sequence\n",
       "18    994\n",
       "14    805\n",
       "28    767\n",
       "31    762\n",
       "48    758\n",
       "37    666\n",
       "2     663\n",
       "9     661\n",
       "25    651\n",
       "11    640\n",
       "6     638\n",
       "7     635\n",
       "44    634\n",
       "33    632\n",
       "38    632\n",
       "1     612\n",
       "39    612\n",
       "34    611\n",
       "26    605\n",
       "5     602\n",
       "36    585\n",
       "46    583\n",
       "47    582\n",
       "21    575\n",
       "35    565\n",
       "43    560\n",
       "41    558\n",
       "15    548\n",
       "27    545\n",
       "32    545\n",
       "13    544\n",
       "24    534\n",
       "22    526\n",
       "8     523\n",
       "3     522\n",
       "49    494\n",
       "50    488\n",
       "0     475\n",
       "12    474\n",
       "29    471\n",
       "42    464\n",
       "19    457\n",
       "30    452\n",
       "17    447\n",
       "4     446\n",
       "10    437\n",
       "20    435\n",
       "16    434\n",
       "40    403\n",
       "23    398\n",
       "45    390\n",
       "Name: count, dtype: int64"
      ]
     },
     "execution_count": 5,
     "metadata": {},
     "output_type": "execute_result"
    }
   ],
   "source": [
    "full_data.value_counts(\"Sequence\")"
   ]
  },
  {
   "cell_type": "code",
   "execution_count": 6,
   "metadata": {},
   "outputs": [
    {
     "name": "stdout",
     "output_type": "stream",
     "text": [
      "X_padded shape: torch.Size([51, 993, 12])\n",
      "Y_padded shape: torch.Size([51, 993, 12])\n",
      "Lengths shape: torch.Size([51])\n"
     ]
    }
   ],
   "source": [
    "import torch\n",
    "from torch.nn.utils.rnn import pad_sequence\n",
    "\n",
    "# Group data by sequence\n",
    "grouped = full_data.groupby('Sequence')\n",
    "\n",
    "# Prepare input (X) and output (Y) for each sequence individually\n",
    "X_seqs = []\n",
    "Y_seqs = []\n",
    "lengths = []  # To store original sequence lengths\n",
    "\n",
    "for _, group in grouped:\n",
    "    X_seq = torch.tensor(group.drop(columns=['Frame', 'Sequence']).values[:-1], dtype=torch.float32)  # Input sequence (positions, velocities, accelerations)\n",
    "    Y_seq = torch.tensor(group[['shoulder:X', 'shoulder:Y', 'shoulder:Z',  # Output sequence (next positions)\n",
    "                   'elbow:X', 'elbow:Y', 'elbow:Z',\n",
    "                   'wrist:X', 'wrist:Y', 'wrist:Z',\n",
    "                   'ThumbTip:X', 'ThumbTip:Y', 'ThumbTip:Z']].values[1:], dtype=torch.float32)  # Next positions\n",
    "    \n",
    "    # Only add non-empty sequences\n",
    "    if len(X_seq) > 0 and len(Y_seq) > 0:\n",
    "        X_seqs.append(X_seq)\n",
    "        Y_seqs.append(Y_seq)\n",
    "        # Store original length before padding\n",
    "        lengths.append(len(X_seq))\n",
    "\n",
    "\n",
    "\n",
    "# Pad sequences to the same length using PyTorch pad_sequence\n",
    "X_padded = pad_sequence(X_seqs, batch_first=True, padding_value=0.0)\n",
    "Y_padded = pad_sequence(Y_seqs, batch_first=True, padding_value=0.0)\n",
    "\n",
    "# Convert original lengths to PyTorch tensor\n",
    "lengths_tensor = torch.tensor(lengths)\n",
    "\n",
    "# X_padded and Y_padded are now properly grouped by sequence, with padding if necessary\n",
    "print(\"X_padded shape:\", X_padded.shape)\n",
    "print(\"Y_padded shape:\", Y_padded.shape)\n",
    "print(\"Lengths shape:\", lengths_tensor.shape)\n"
   ]
  },
  {
   "cell_type": "markdown",
   "metadata": {},
   "source": [
    "### Step 1: Data Normalization"
   ]
  },
  {
   "cell_type": "code",
   "execution_count": 7,
   "metadata": {},
   "outputs": [],
   "source": [
    "from Code.preprocessing.Model import MotionModel, AttentionLayer\n",
    "from Code.preprocessing.TransformerModel import MotionTransformerModel\n"
   ]
  },
  {
   "cell_type": "code",
   "execution_count": 8,
   "metadata": {},
   "outputs": [],
   "source": [
    "import torch\n",
    "from torch.utils.data import Dataset, DataLoader, random_split\n",
    "\n",
    "class MotionDataset(Dataset):\n",
    "    def __init__(self, X, Y, X_mean=None, X_std=None, Y_mean=None, Y_std=None):\n",
    "        self.X = X\n",
    "        self.Y = Y\n",
    "        self.X_mean = X_mean\n",
    "        self.X_std = X_std\n",
    "        self.Y_mean = Y_mean\n",
    "        self.Y_std = Y_std\n",
    "\n",
    "    def __len__(self):\n",
    "        return self.X.size(0)\n",
    "\n",
    "    def __getitem__(self, idx):\n",
    "        X_item = self.X[idx]\n",
    "        Y_item = self.Y[idx]\n",
    "        \n",
    "        # Apply normalization if mean and std are provided\n",
    "        if self.X_mean is not None and self.X_std is not None:\n",
    "            X_item = (X_item - self.X_mean) / self.X_std\n",
    "        if self.Y_mean is not None and self.Y_std is not None:\n",
    "            Y_item = (Y_item - self.Y_mean) / self.Y_std\n",
    "        \n",
    "        return X_item, Y_item\n"
   ]
  },
  {
   "cell_type": "code",
   "execution_count": 9,
   "metadata": {},
   "outputs": [
    {
     "name": "stdout",
     "output_type": "stream",
     "text": [
      "Train dataset length: 40\n",
      "Validation dataset length: 5\n",
      "Test dataset length: 6\n"
     ]
    },
    {
     "name": "stderr",
     "output_type": "stream",
     "text": [
      "/tmp/ipykernel_295931/1492581289.py:5: UserWarning: To copy construct from a tensor, it is recommended to use sourceTensor.clone().detach() or sourceTensor.clone().detach().requires_grad_(True), rather than torch.tensor(sourceTensor).\n",
      "  X = torch.tensor(X_padded, dtype=torch.float32)\n",
      "/tmp/ipykernel_295931/1492581289.py:6: UserWarning: To copy construct from a tensor, it is recommended to use sourceTensor.clone().detach() or sourceTensor.clone().detach().requires_grad_(True), rather than torch.tensor(sourceTensor).\n",
      "  Y = torch.tensor(Y_padded, dtype=torch.float32)\n"
     ]
    }
   ],
   "source": [
    "import torch\n",
    "from torch.utils.data import DataLoader, random_split\n",
    "\n",
    "# Convert data to PyTorch tensors\n",
    "X = torch.tensor(X_padded, dtype=torch.float32)\n",
    "Y = torch.tensor(Y_padded, dtype=torch.float32)\n",
    "\n",
    "# Split data into training, validation, and test sets\n",
    "dataset_size = X.shape[0]\n",
    "train_size = int(0.8 * dataset_size)\n",
    "val_size = int(0.1 * dataset_size)\n",
    "test_size = dataset_size - train_size - val_size\n",
    "\n",
    "# Create the dataset (your MotionDataset should take X and Y as arguments)\n",
    "full_dataset = MotionDataset(X, Y)\n",
    "\n",
    "# Split the lengths tensor in the same way as the dataset\n",
    "lengths_tensor = torch.tensor(lengths, dtype=torch.long)\n",
    "\n",
    "# Calculate the indices for splitting\n",
    "train_idx = range(0, train_size)\n",
    "val_idx = range(train_size, train_size + val_size)\n",
    "test_idx = range(train_size + val_size, dataset_size)\n",
    "\n",
    "# Split the lengths tensor using the same indices\n",
    "lengths_train = lengths_tensor[train_idx]\n",
    "lengths_val = lengths_tensor[val_idx]\n",
    "lengths_test = lengths_tensor[test_idx]\n",
    "\n",
    "# Split the dataset using the same proportions\n",
    "train_dataset, val_dataset, test_dataset = random_split(\n",
    "    full_dataset, [train_size, val_size, test_size],\n",
    "    generator=torch.Generator().manual_seed(42)\n",
    ")\n",
    "\n",
    "# Compute mean and std from ONLY the training data\n",
    "def compute_mean_std(dataset):\n",
    "    loader = DataLoader(dataset, batch_size=len(dataset))\n",
    "    X_batch, Y_batch = next(iter(loader))\n",
    "    X_flat = X_batch.view(-1, X_batch.shape[-1])  # Flatten the data along all but the last dimension\n",
    "    Y_flat = Y_batch.view(-1, Y_batch.shape[-1])  # Flatten labels in the same way\n",
    "    X_mean = X_flat.mean(dim=0)\n",
    "    X_std = X_flat.std(dim=0)\n",
    "    Y_mean = Y_flat.mean(dim=0)\n",
    "    Y_std = Y_flat.std(dim=0)\n",
    "    # Avoid division by zero for any constant feature\n",
    "    X_std[X_std == 0] = 1\n",
    "    Y_std[Y_std == 0] = 1\n",
    "    return X_mean, X_std, Y_mean, Y_std\n",
    "\n",
    "# Compute mean and std from the training set\n",
    "X_mean, X_std, Y_mean, Y_std = compute_mean_std(train_dataset)\n",
    "\n",
    "# Now create a normalized dataset by passing the computed mean and std\n",
    "class NormalizedMotionDataset(torch.utils.data.Dataset):\n",
    "    def __init__(self, X, Y, X_mean, X_std, Y_mean, Y_std):\n",
    "        self.X = (X - X_mean) / X_std\n",
    "        self.Y = (Y - Y_mean) / Y_std\n",
    "\n",
    "    def __len__(self):\n",
    "        return len(self.X)\n",
    "\n",
    "    def __getitem__(self, idx):\n",
    "        return self.X[idx], self.Y[idx]\n",
    "\n",
    "# Normalize each split using the mean and std from the training set\n",
    "train_X, train_Y = zip(*[(X, Y) for X, Y in train_dataset])\n",
    "val_X, val_Y = zip(*[(X, Y) for X, Y in val_dataset])\n",
    "test_X, test_Y = zip(*[(X, Y) for X, Y in test_dataset])\n",
    "\n",
    "train_X = torch.stack(train_X)\n",
    "train_Y = torch.stack(train_Y)\n",
    "val_X = torch.stack(val_X)\n",
    "val_Y = torch.stack(val_Y)\n",
    "test_X = torch.stack(test_X)\n",
    "test_Y = torch.stack(test_Y)\n",
    "\n",
    "# Create normalized datasets\n",
    "train_dataset = NormalizedMotionDataset(train_X, train_Y, X_mean, X_std, Y_mean, Y_std)\n",
    "val_dataset = NormalizedMotionDataset(val_X, val_Y, X_mean, X_std, Y_mean, Y_std)\n",
    "test_dataset = NormalizedMotionDataset(test_X, test_Y, X_mean, X_std, Y_mean, Y_std)\n",
    "\n",
    "# Now you have normalized datasets for training, validation, and testing\n",
    "print(f\"Train dataset length: {len(train_dataset)}\")\n",
    "print(f\"Validation dataset length: {len(val_dataset)}\")\n",
    "print(f\"Test dataset length: {len(test_dataset)}\")\n"
   ]
  },
  {
   "cell_type": "markdown",
   "metadata": {},
   "source": [
    "### Step 2: Model Implementation"
   ]
  },
  {
   "cell_type": "code",
   "execution_count": 10,
   "metadata": {},
   "outputs": [],
   "source": [
    "import torch.nn as nn\n",
    "import torch.nn.functional as F\n"
   ]
  },
  {
   "cell_type": "code",
   "execution_count": 230,
   "metadata": {},
   "outputs": [],
   "source": []
  },
  {
   "cell_type": "markdown",
   "metadata": {},
   "source": [
    "### Step 3: Custom Loss Function"
   ]
  },
  {
   "cell_type": "code",
   "execution_count": 11,
   "metadata": {},
   "outputs": [],
   "source": [
    "def custom_loss(y_pred, y_true, mask):\n",
    "    # mask: [batch_size, seq_len]\n",
    "    mask = mask.unsqueeze(-1)  # [batch_size, seq_len, 1]\n",
    "    mask = mask.float()\n",
    "    \n",
    "    # Position loss\n",
    "    position_loss = ((y_true - y_pred) ** 2) * mask\n",
    "    position_loss = position_loss.sum() / mask.sum()\n",
    "    \n",
    "    # Compute velocities\n",
    "    def compute_velocity(y):\n",
    "        y_shifted = torch.zeros_like(y)\n",
    "        y_shifted[:, 1:, :] = y[:, :-1, :]\n",
    "        velocity = (y - y_shifted) * mask\n",
    "        return velocity\n",
    "    \n",
    "    # Compute accelerations\n",
    "    def compute_acceleration(v):\n",
    "        v_shifted = torch.zeros_like(v)\n",
    "        v_shifted[:, 1:, :] = v[:, :-1, :]\n",
    "        acceleration = (v - v_shifted) * mask\n",
    "        return acceleration\n",
    "    \n",
    "    # Predicted velocities and accelerations\n",
    "    pred_velocity = compute_velocity(y_pred)\n",
    "    pred_acceleration = compute_acceleration(pred_velocity)\n",
    "    \n",
    "    # True velocities and accelerations\n",
    "    true_velocity = compute_velocity(y_true)\n",
    "    true_acceleration = compute_acceleration(true_velocity)\n",
    "    \n",
    "    # Velocity loss\n",
    "    velocity_loss = ((true_velocity - pred_velocity) ** 2) * mask\n",
    "    velocity_loss = velocity_loss.sum() / mask.sum()\n",
    "    \n",
    "    # Acceleration loss\n",
    "    acceleration_loss = ((true_acceleration - pred_acceleration) ** 2) * mask\n",
    "    acceleration_loss = acceleration_loss.sum() / mask.sum()\n",
    "    \n",
    "    # Total loss with weighting\n",
    "    total_loss = (\n",
    "        position_loss\n",
    "        + 0.1 * velocity_loss\n",
    "        + 0.01 * acceleration_loss\n",
    "    )\n",
    "    return total_loss\n"
   ]
  },
  {
   "cell_type": "markdown",
   "metadata": {},
   "source": [
    "### Step 4: Model Training"
   ]
  },
  {
   "cell_type": "code",
   "execution_count": 12,
   "metadata": {},
   "outputs": [],
   "source": [
    "from torch.nn.utils.rnn import pad_sequence\n",
    "\n",
    "def collate_fn(batch):\n",
    "    # batch is a list of tuples (X_item, Y_item)\n",
    "    X_batch, Y_batch = zip(*batch)\n",
    "    lengths = [x.size(0) for x in X_batch]\n",
    "    # Pad sequences\n",
    "    X_padded = pad_sequence(X_batch, batch_first=True, padding_value=0.0)\n",
    "    Y_padded = pad_sequence(Y_batch, batch_first=True, padding_value=0.0)\n",
    "    lengths = torch.tensor(lengths)\n",
    "    return X_padded, Y_padded, lengths\n",
    "\n",
    "batch_size = 16\n",
    "\n",
    "train_loader = DataLoader(\n",
    "    train_dataset, batch_size=batch_size, shuffle=True, collate_fn=collate_fn\n",
    ")\n",
    "val_loader = DataLoader(\n",
    "    val_dataset, batch_size=batch_size, shuffle=False, collate_fn=collate_fn\n",
    ")\n",
    "test_loader = DataLoader(\n",
    "    test_dataset, batch_size=batch_size, shuffle=False, collate_fn=collate_fn\n",
    ")\n"
   ]
  },
  {
   "cell_type": "code",
   "execution_count": 13,
   "metadata": {},
   "outputs": [
    {
     "name": "stdout",
     "output_type": "stream",
     "text": [
      "Using 2 GPUs\n"
     ]
    }
   ],
   "source": [
    "input_dim = X.shape[2]\n",
    "hidden_dim = 128\n",
    "output_dim = Y.shape[2]\n",
    "num_layers = 2\n",
    "\n",
    "# Initialize the model\n",
    "model = MotionModel(input_dim, hidden_dim, output_dim, num_layers)\n",
    "\n",
    "# Use DataParallel for multi-GPU support\n",
    "if torch.cuda.device_count() > 1:\n",
    "    print(f\"Using {torch.cuda.device_count()} GPUs\")\n",
    "    model = nn.DataParallel(model)\n",
    "\n",
    "# Move model to GPU\n",
    "device = torch.device(\"cuda\" if torch.cuda.is_available() else \"cpu\")\n",
    "model.to(device)\n",
    "\n",
    "# Define optimizer\n",
    "optimizer = torch.optim.Adam(model.parameters(), lr=1e-3)\n"
   ]
  },
  {
   "cell_type": "code",
   "execution_count": 14,
   "metadata": {},
   "outputs": [
    {
     "name": "stdout",
     "output_type": "stream",
     "text": [
      "12 128 12 2\n"
     ]
    }
   ],
   "source": [
    "print(input_dim, hidden_dim, output_dim, num_layers)"
   ]
  },
  {
   "cell_type": "code",
   "execution_count": 15,
   "metadata": {},
   "outputs": [
    {
     "name": "stderr",
     "output_type": "stream",
     "text": [
      "Epoch 1/100:   0%|          | 0/3 [00:00<?, ?it/s]"
     ]
    },
    {
     "name": "stderr",
     "output_type": "stream",
     "text": [
      "Epoch 1/100: 100%|██████████| 3/3 [00:01<00:00,  2.67it/s]\n"
     ]
    },
    {
     "name": "stdout",
     "output_type": "stream",
     "text": [
      "Epoch 1, Train Loss: 11.798624, Val Loss: 9.530275\n"
     ]
    },
    {
     "name": "stderr",
     "output_type": "stream",
     "text": [
      "Epoch 2/100: 100%|██████████| 3/3 [00:00<00:00, 10.96it/s]\n"
     ]
    },
    {
     "name": "stdout",
     "output_type": "stream",
     "text": [
      "Epoch 2, Train Loss: 10.507930, Val Loss: 7.221565\n"
     ]
    },
    {
     "name": "stderr",
     "output_type": "stream",
     "text": [
      "Epoch 3/100: 100%|██████████| 3/3 [00:00<00:00, 10.58it/s]\n"
     ]
    },
    {
     "name": "stdout",
     "output_type": "stream",
     "text": [
      "Epoch 3, Train Loss: 7.514759, Val Loss: 3.750907\n"
     ]
    },
    {
     "name": "stderr",
     "output_type": "stream",
     "text": [
      "Epoch 4/100: 100%|██████████| 3/3 [00:00<00:00, 11.80it/s]\n"
     ]
    },
    {
     "name": "stdout",
     "output_type": "stream",
     "text": [
      "Epoch 4, Train Loss: 5.105865, Val Loss: 2.853587\n"
     ]
    },
    {
     "name": "stderr",
     "output_type": "stream",
     "text": [
      "Epoch 5/100: 100%|██████████| 3/3 [00:00<00:00, 11.70it/s]\n"
     ]
    },
    {
     "name": "stdout",
     "output_type": "stream",
     "text": [
      "Epoch 5, Train Loss: 4.387518, Val Loss: 1.856845\n"
     ]
    },
    {
     "name": "stderr",
     "output_type": "stream",
     "text": [
      "Epoch 6/100: 100%|██████████| 3/3 [00:00<00:00, 11.87it/s]\n"
     ]
    },
    {
     "name": "stdout",
     "output_type": "stream",
     "text": [
      "Epoch 6, Train Loss: 3.330020, Val Loss: 1.134075\n"
     ]
    },
    {
     "name": "stderr",
     "output_type": "stream",
     "text": [
      "Epoch 7/100: 100%|██████████| 3/3 [00:00<00:00, 11.75it/s]\n"
     ]
    },
    {
     "name": "stdout",
     "output_type": "stream",
     "text": [
      "Epoch 7, Train Loss: 2.464131, Val Loss: 0.748696\n"
     ]
    },
    {
     "name": "stderr",
     "output_type": "stream",
     "text": [
      "Epoch 8/100: 100%|██████████| 3/3 [00:00<00:00, 11.66it/s]\n"
     ]
    },
    {
     "name": "stdout",
     "output_type": "stream",
     "text": [
      "Epoch 8, Train Loss: 2.031493, Val Loss: 0.752523\n"
     ]
    },
    {
     "name": "stderr",
     "output_type": "stream",
     "text": [
      "Epoch 9/100: 100%|██████████| 3/3 [00:00<00:00, 11.86it/s]\n"
     ]
    },
    {
     "name": "stdout",
     "output_type": "stream",
     "text": [
      "Epoch 9, Train Loss: 1.904228, Val Loss: 0.599785\n"
     ]
    },
    {
     "name": "stderr",
     "output_type": "stream",
     "text": [
      "Epoch 10/100: 100%|██████████| 3/3 [00:00<00:00, 11.62it/s]\n"
     ]
    },
    {
     "name": "stdout",
     "output_type": "stream",
     "text": [
      "Epoch 10, Train Loss: 1.743923, Val Loss: 0.402462\n"
     ]
    },
    {
     "name": "stderr",
     "output_type": "stream",
     "text": [
      "Epoch 11/100: 100%|██████████| 3/3 [00:00<00:00, 11.45it/s]\n"
     ]
    },
    {
     "name": "stdout",
     "output_type": "stream",
     "text": [
      "Epoch 11, Train Loss: 1.502317, Val Loss: 0.396398\n"
     ]
    },
    {
     "name": "stderr",
     "output_type": "stream",
     "text": [
      "Epoch 12/100: 100%|██████████| 3/3 [00:00<00:00, 11.88it/s]\n"
     ]
    },
    {
     "name": "stdout",
     "output_type": "stream",
     "text": [
      "Epoch 12, Train Loss: 1.411247, Val Loss: 0.346283\n"
     ]
    },
    {
     "name": "stderr",
     "output_type": "stream",
     "text": [
      "Epoch 13/100: 100%|██████████| 3/3 [00:00<00:00, 11.74it/s]\n"
     ]
    },
    {
     "name": "stdout",
     "output_type": "stream",
     "text": [
      "Epoch 13, Train Loss: 1.203755, Val Loss: 0.290566\n"
     ]
    },
    {
     "name": "stderr",
     "output_type": "stream",
     "text": [
      "Epoch 14/100: 100%|██████████| 3/3 [00:00<00:00, 11.69it/s]\n"
     ]
    },
    {
     "name": "stdout",
     "output_type": "stream",
     "text": [
      "Epoch 14, Train Loss: 1.050592, Val Loss: 0.224799\n"
     ]
    },
    {
     "name": "stderr",
     "output_type": "stream",
     "text": [
      "Epoch 15/100: 100%|██████████| 3/3 [00:00<00:00, 11.50it/s]\n"
     ]
    },
    {
     "name": "stdout",
     "output_type": "stream",
     "text": [
      "Epoch 15, Train Loss: 0.911386, Val Loss: 0.166232\n"
     ]
    },
    {
     "name": "stderr",
     "output_type": "stream",
     "text": [
      "Epoch 16/100: 100%|██████████| 3/3 [00:00<00:00, 11.64it/s]\n"
     ]
    },
    {
     "name": "stdout",
     "output_type": "stream",
     "text": [
      "Epoch 16, Train Loss: 0.770360, Val Loss: 0.121273\n"
     ]
    },
    {
     "name": "stderr",
     "output_type": "stream",
     "text": [
      "Epoch 17/100: 100%|██████████| 3/3 [00:00<00:00, 11.57it/s]\n"
     ]
    },
    {
     "name": "stdout",
     "output_type": "stream",
     "text": [
      "Epoch 17, Train Loss: 0.704987, Val Loss: 0.134555\n"
     ]
    },
    {
     "name": "stderr",
     "output_type": "stream",
     "text": [
      "Epoch 18/100: 100%|██████████| 3/3 [00:00<00:00, 11.89it/s]\n"
     ]
    },
    {
     "name": "stdout",
     "output_type": "stream",
     "text": [
      "Epoch 18, Train Loss: 0.642148, Val Loss: 0.085635\n"
     ]
    },
    {
     "name": "stderr",
     "output_type": "stream",
     "text": [
      "Epoch 19/100: 100%|██████████| 3/3 [00:00<00:00, 11.03it/s]\n"
     ]
    },
    {
     "name": "stdout",
     "output_type": "stream",
     "text": [
      "Epoch 19, Train Loss: 0.574082, Val Loss: 0.109141\n"
     ]
    },
    {
     "name": "stderr",
     "output_type": "stream",
     "text": [
      "Epoch 20/100: 100%|██████████| 3/3 [00:00<00:00, 10.75it/s]\n"
     ]
    },
    {
     "name": "stdout",
     "output_type": "stream",
     "text": [
      "Epoch 20, Train Loss: 0.540669, Val Loss: 0.084879\n"
     ]
    },
    {
     "name": "stderr",
     "output_type": "stream",
     "text": [
      "Epoch 21/100: 100%|██████████| 3/3 [00:00<00:00, 11.20it/s]\n"
     ]
    },
    {
     "name": "stdout",
     "output_type": "stream",
     "text": [
      "Epoch 21, Train Loss: 0.491586, Val Loss: 0.096528\n"
     ]
    },
    {
     "name": "stderr",
     "output_type": "stream",
     "text": [
      "Epoch 22/100: 100%|██████████| 3/3 [00:00<00:00, 11.61it/s]\n"
     ]
    },
    {
     "name": "stdout",
     "output_type": "stream",
     "text": [
      "Epoch 22, Train Loss: 0.465510, Val Loss: 0.096051\n"
     ]
    },
    {
     "name": "stderr",
     "output_type": "stream",
     "text": [
      "Epoch 23/100: 100%|██████████| 3/3 [00:00<00:00, 11.49it/s]\n"
     ]
    },
    {
     "name": "stdout",
     "output_type": "stream",
     "text": [
      "Epoch 23, Train Loss: 0.443983, Val Loss: 0.081385\n"
     ]
    },
    {
     "name": "stderr",
     "output_type": "stream",
     "text": [
      "Epoch 24/100: 100%|██████████| 3/3 [00:00<00:00, 10.94it/s]\n"
     ]
    },
    {
     "name": "stdout",
     "output_type": "stream",
     "text": [
      "Epoch 24, Train Loss: 0.407729, Val Loss: 0.073775\n"
     ]
    },
    {
     "name": "stderr",
     "output_type": "stream",
     "text": [
      "Epoch 25/100: 100%|██████████| 3/3 [00:00<00:00, 11.59it/s]\n"
     ]
    },
    {
     "name": "stdout",
     "output_type": "stream",
     "text": [
      "Epoch 25, Train Loss: 0.386114, Val Loss: 0.069810\n"
     ]
    },
    {
     "name": "stderr",
     "output_type": "stream",
     "text": [
      "Epoch 26/100: 100%|██████████| 3/3 [00:00<00:00, 11.35it/s]\n"
     ]
    },
    {
     "name": "stdout",
     "output_type": "stream",
     "text": [
      "Epoch 26, Train Loss: 0.361806, Val Loss: 0.052909\n"
     ]
    },
    {
     "name": "stderr",
     "output_type": "stream",
     "text": [
      "Epoch 27/100: 100%|██████████| 3/3 [00:00<00:00, 11.82it/s]\n"
     ]
    },
    {
     "name": "stdout",
     "output_type": "stream",
     "text": [
      "Epoch 27, Train Loss: 0.349907, Val Loss: 0.059318\n"
     ]
    },
    {
     "name": "stderr",
     "output_type": "stream",
     "text": [
      "Epoch 28/100: 100%|██████████| 3/3 [00:00<00:00, 11.61it/s]\n"
     ]
    },
    {
     "name": "stdout",
     "output_type": "stream",
     "text": [
      "Epoch 28, Train Loss: 0.332019, Val Loss: 0.052507\n"
     ]
    },
    {
     "name": "stderr",
     "output_type": "stream",
     "text": [
      "Epoch 29/100: 100%|██████████| 3/3 [00:00<00:00, 11.55it/s]\n"
     ]
    },
    {
     "name": "stdout",
     "output_type": "stream",
     "text": [
      "Epoch 29, Train Loss: 0.320576, Val Loss: 0.051647\n"
     ]
    },
    {
     "name": "stderr",
     "output_type": "stream",
     "text": [
      "Epoch 30/100: 100%|██████████| 3/3 [00:00<00:00, 11.14it/s]\n"
     ]
    },
    {
     "name": "stdout",
     "output_type": "stream",
     "text": [
      "Epoch 30, Train Loss: 0.311883, Val Loss: 0.049253\n"
     ]
    },
    {
     "name": "stderr",
     "output_type": "stream",
     "text": [
      "Epoch 31/100: 100%|██████████| 3/3 [00:00<00:00, 10.97it/s]\n"
     ]
    },
    {
     "name": "stdout",
     "output_type": "stream",
     "text": [
      "Epoch 31, Train Loss: 0.297147, Val Loss: 0.040802\n"
     ]
    },
    {
     "name": "stderr",
     "output_type": "stream",
     "text": [
      "Epoch 32/100: 100%|██████████| 3/3 [00:00<00:00, 11.69it/s]\n"
     ]
    },
    {
     "name": "stdout",
     "output_type": "stream",
     "text": [
      "Epoch 32, Train Loss: 0.285826, Val Loss: 0.042177\n"
     ]
    },
    {
     "name": "stderr",
     "output_type": "stream",
     "text": [
      "Epoch 33/100: 100%|██████████| 3/3 [00:00<00:00, 11.62it/s]\n"
     ]
    },
    {
     "name": "stdout",
     "output_type": "stream",
     "text": [
      "Epoch 33, Train Loss: 0.279117, Val Loss: 0.044098\n"
     ]
    },
    {
     "name": "stderr",
     "output_type": "stream",
     "text": [
      "Epoch 34/100: 100%|██████████| 3/3 [00:00<00:00, 11.59it/s]\n"
     ]
    },
    {
     "name": "stdout",
     "output_type": "stream",
     "text": [
      "Epoch 34, Train Loss: 0.272878, Val Loss: 0.040427\n"
     ]
    },
    {
     "name": "stderr",
     "output_type": "stream",
     "text": [
      "Epoch 35/100: 100%|██████████| 3/3 [00:00<00:00, 11.61it/s]\n"
     ]
    },
    {
     "name": "stdout",
     "output_type": "stream",
     "text": [
      "Epoch 35, Train Loss: 0.268550, Val Loss: 0.038908\n"
     ]
    },
    {
     "name": "stderr",
     "output_type": "stream",
     "text": [
      "Epoch 36/100: 100%|██████████| 3/3 [00:00<00:00, 11.52it/s]\n"
     ]
    },
    {
     "name": "stdout",
     "output_type": "stream",
     "text": [
      "Epoch 36, Train Loss: 0.265839, Val Loss: 0.043857\n"
     ]
    },
    {
     "name": "stderr",
     "output_type": "stream",
     "text": [
      "Epoch 37/100: 100%|██████████| 3/3 [00:00<00:00, 11.39it/s]\n"
     ]
    },
    {
     "name": "stdout",
     "output_type": "stream",
     "text": [
      "Epoch 37, Train Loss: 0.259486, Val Loss: 0.039946\n"
     ]
    },
    {
     "name": "stderr",
     "output_type": "stream",
     "text": [
      "Epoch 38/100: 100%|██████████| 3/3 [00:00<00:00, 11.60it/s]\n"
     ]
    },
    {
     "name": "stdout",
     "output_type": "stream",
     "text": [
      "Epoch 38, Train Loss: 0.250233, Val Loss: 0.042927\n"
     ]
    },
    {
     "name": "stderr",
     "output_type": "stream",
     "text": [
      "Epoch 39/100: 100%|██████████| 3/3 [00:00<00:00, 11.40it/s]\n"
     ]
    },
    {
     "name": "stdout",
     "output_type": "stream",
     "text": [
      "Epoch 39, Train Loss: 0.247292, Val Loss: 0.035630\n"
     ]
    },
    {
     "name": "stderr",
     "output_type": "stream",
     "text": [
      "Epoch 40/100: 100%|██████████| 3/3 [00:00<00:00, 11.13it/s]\n"
     ]
    },
    {
     "name": "stdout",
     "output_type": "stream",
     "text": [
      "Epoch 40, Train Loss: 0.245552, Val Loss: 0.034575\n"
     ]
    },
    {
     "name": "stderr",
     "output_type": "stream",
     "text": [
      "Epoch 41/100: 100%|██████████| 3/3 [00:00<00:00, 11.72it/s]\n"
     ]
    },
    {
     "name": "stdout",
     "output_type": "stream",
     "text": [
      "Epoch 41, Train Loss: 0.241612, Val Loss: 0.033633\n"
     ]
    },
    {
     "name": "stderr",
     "output_type": "stream",
     "text": [
      "Epoch 42/100: 100%|██████████| 3/3 [00:00<00:00, 11.59it/s]\n"
     ]
    },
    {
     "name": "stdout",
     "output_type": "stream",
     "text": [
      "Epoch 42, Train Loss: 0.235235, Val Loss: 0.035933\n"
     ]
    },
    {
     "name": "stderr",
     "output_type": "stream",
     "text": [
      "Epoch 43/100: 100%|██████████| 3/3 [00:00<00:00, 10.80it/s]\n"
     ]
    },
    {
     "name": "stdout",
     "output_type": "stream",
     "text": [
      "Epoch 43, Train Loss: 0.231337, Val Loss: 0.031061\n"
     ]
    },
    {
     "name": "stderr",
     "output_type": "stream",
     "text": [
      "Epoch 44/100: 100%|██████████| 3/3 [00:00<00:00, 10.90it/s]\n"
     ]
    },
    {
     "name": "stdout",
     "output_type": "stream",
     "text": [
      "Epoch 44, Train Loss: 0.226819, Val Loss: 0.031973\n"
     ]
    },
    {
     "name": "stderr",
     "output_type": "stream",
     "text": [
      "Epoch 45/100: 100%|██████████| 3/3 [00:00<00:00, 11.31it/s]\n"
     ]
    },
    {
     "name": "stdout",
     "output_type": "stream",
     "text": [
      "Epoch 45, Train Loss: 0.221482, Val Loss: 0.029808\n"
     ]
    },
    {
     "name": "stderr",
     "output_type": "stream",
     "text": [
      "Epoch 46/100: 100%|██████████| 3/3 [00:00<00:00, 11.78it/s]\n"
     ]
    },
    {
     "name": "stdout",
     "output_type": "stream",
     "text": [
      "Epoch 46, Train Loss: 0.220308, Val Loss: 0.031745\n"
     ]
    },
    {
     "name": "stderr",
     "output_type": "stream",
     "text": [
      "Epoch 47/100: 100%|██████████| 3/3 [00:00<00:00, 11.88it/s]\n"
     ]
    },
    {
     "name": "stdout",
     "output_type": "stream",
     "text": [
      "Epoch 47, Train Loss: 0.217583, Val Loss: 0.028860\n"
     ]
    },
    {
     "name": "stderr",
     "output_type": "stream",
     "text": [
      "Epoch 48/100: 100%|██████████| 3/3 [00:00<00:00, 11.92it/s]\n"
     ]
    },
    {
     "name": "stdout",
     "output_type": "stream",
     "text": [
      "Epoch 48, Train Loss: 0.218300, Val Loss: 0.025672\n"
     ]
    },
    {
     "name": "stderr",
     "output_type": "stream",
     "text": [
      "Epoch 49/100: 100%|██████████| 3/3 [00:00<00:00, 11.78it/s]\n"
     ]
    },
    {
     "name": "stdout",
     "output_type": "stream",
     "text": [
      "Epoch 49, Train Loss: 0.212701, Val Loss: 0.025885\n"
     ]
    },
    {
     "name": "stderr",
     "output_type": "stream",
     "text": [
      "Epoch 50/100: 100%|██████████| 3/3 [00:00<00:00, 11.89it/s]\n"
     ]
    },
    {
     "name": "stdout",
     "output_type": "stream",
     "text": [
      "Epoch 50, Train Loss: 0.208712, Val Loss: 0.028068\n"
     ]
    },
    {
     "name": "stderr",
     "output_type": "stream",
     "text": [
      "Epoch 51/100: 100%|██████████| 3/3 [00:00<00:00, 11.90it/s]\n"
     ]
    },
    {
     "name": "stdout",
     "output_type": "stream",
     "text": [
      "Epoch 51, Train Loss: 0.211814, Val Loss: 0.028198\n"
     ]
    },
    {
     "name": "stderr",
     "output_type": "stream",
     "text": [
      "Epoch 52/100: 100%|██████████| 3/3 [00:00<00:00, 11.82it/s]\n"
     ]
    },
    {
     "name": "stdout",
     "output_type": "stream",
     "text": [
      "Epoch 52, Train Loss: 0.208203, Val Loss: 0.024729\n"
     ]
    },
    {
     "name": "stderr",
     "output_type": "stream",
     "text": [
      "Epoch 53/100: 100%|██████████| 3/3 [00:00<00:00, 11.88it/s]\n"
     ]
    },
    {
     "name": "stdout",
     "output_type": "stream",
     "text": [
      "Epoch 53, Train Loss: 0.204503, Val Loss: 0.025137\n"
     ]
    },
    {
     "name": "stderr",
     "output_type": "stream",
     "text": [
      "Epoch 54/100: 100%|██████████| 3/3 [00:00<00:00, 11.73it/s]\n"
     ]
    },
    {
     "name": "stdout",
     "output_type": "stream",
     "text": [
      "Epoch 54, Train Loss: 0.200574, Val Loss: 0.022960\n"
     ]
    },
    {
     "name": "stderr",
     "output_type": "stream",
     "text": [
      "Epoch 55/100: 100%|██████████| 3/3 [00:00<00:00, 10.94it/s]\n"
     ]
    },
    {
     "name": "stdout",
     "output_type": "stream",
     "text": [
      "Epoch 55, Train Loss: 0.198565, Val Loss: 0.024885\n"
     ]
    },
    {
     "name": "stderr",
     "output_type": "stream",
     "text": [
      "Epoch 56/100: 100%|██████████| 3/3 [00:00<00:00, 11.69it/s]\n"
     ]
    },
    {
     "name": "stdout",
     "output_type": "stream",
     "text": [
      "Epoch 56, Train Loss: 0.196040, Val Loss: 0.021433\n"
     ]
    },
    {
     "name": "stderr",
     "output_type": "stream",
     "text": [
      "Epoch 57/100: 100%|██████████| 3/3 [00:00<00:00, 11.07it/s]\n"
     ]
    },
    {
     "name": "stdout",
     "output_type": "stream",
     "text": [
      "Epoch 57, Train Loss: 0.197593, Val Loss: 0.022684\n"
     ]
    },
    {
     "name": "stderr",
     "output_type": "stream",
     "text": [
      "Epoch 58/100: 100%|██████████| 3/3 [00:00<00:00, 11.71it/s]\n"
     ]
    },
    {
     "name": "stdout",
     "output_type": "stream",
     "text": [
      "Epoch 58, Train Loss: 0.199094, Val Loss: 0.023158\n"
     ]
    },
    {
     "name": "stderr",
     "output_type": "stream",
     "text": [
      "Epoch 59/100: 100%|██████████| 3/3 [00:00<00:00, 11.70it/s]\n"
     ]
    },
    {
     "name": "stdout",
     "output_type": "stream",
     "text": [
      "Epoch 59, Train Loss: 0.194926, Val Loss: 0.025330\n"
     ]
    },
    {
     "name": "stderr",
     "output_type": "stream",
     "text": [
      "Epoch 60/100: 100%|██████████| 3/3 [00:00<00:00, 11.72it/s]\n"
     ]
    },
    {
     "name": "stdout",
     "output_type": "stream",
     "text": [
      "Epoch 60, Train Loss: 0.193697, Val Loss: 0.026808\n"
     ]
    },
    {
     "name": "stderr",
     "output_type": "stream",
     "text": [
      "Epoch 61/100: 100%|██████████| 3/3 [00:00<00:00, 11.65it/s]\n"
     ]
    },
    {
     "name": "stdout",
     "output_type": "stream",
     "text": [
      "Epoch 61, Train Loss: 0.194922, Val Loss: 0.024770\n"
     ]
    },
    {
     "name": "stderr",
     "output_type": "stream",
     "text": [
      "Epoch 62/100: 100%|██████████| 3/3 [00:00<00:00, 11.77it/s]\n"
     ]
    },
    {
     "name": "stdout",
     "output_type": "stream",
     "text": [
      "Epoch 62, Train Loss: 0.190668, Val Loss: 0.025367\n"
     ]
    },
    {
     "name": "stderr",
     "output_type": "stream",
     "text": [
      "Epoch 63/100: 100%|██████████| 3/3 [00:00<00:00, 11.81it/s]\n"
     ]
    },
    {
     "name": "stdout",
     "output_type": "stream",
     "text": [
      "Epoch 63, Train Loss: 0.192401, Val Loss: 0.021897\n"
     ]
    },
    {
     "name": "stderr",
     "output_type": "stream",
     "text": [
      "Epoch 64/100: 100%|██████████| 3/3 [00:00<00:00, 11.80it/s]\n"
     ]
    },
    {
     "name": "stdout",
     "output_type": "stream",
     "text": [
      "Epoch 64, Train Loss: 0.191481, Val Loss: 0.021695\n"
     ]
    },
    {
     "name": "stderr",
     "output_type": "stream",
     "text": [
      "Epoch 65/100: 100%|██████████| 3/3 [00:00<00:00, 11.84it/s]\n"
     ]
    },
    {
     "name": "stdout",
     "output_type": "stream",
     "text": [
      "Epoch 65, Train Loss: 0.189480, Val Loss: 0.021368\n"
     ]
    },
    {
     "name": "stderr",
     "output_type": "stream",
     "text": [
      "Epoch 66/100: 100%|██████████| 3/3 [00:00<00:00, 11.54it/s]\n"
     ]
    },
    {
     "name": "stdout",
     "output_type": "stream",
     "text": [
      "Epoch 66, Train Loss: 0.188393, Val Loss: 0.022477\n"
     ]
    },
    {
     "name": "stderr",
     "output_type": "stream",
     "text": [
      "Epoch 67/100: 100%|██████████| 3/3 [00:00<00:00, 11.58it/s]\n"
     ]
    },
    {
     "name": "stdout",
     "output_type": "stream",
     "text": [
      "Epoch 67, Train Loss: 0.184829, Val Loss: 0.023279\n"
     ]
    },
    {
     "name": "stderr",
     "output_type": "stream",
     "text": [
      "Epoch 68/100: 100%|██████████| 3/3 [00:00<00:00, 11.79it/s]\n"
     ]
    },
    {
     "name": "stdout",
     "output_type": "stream",
     "text": [
      "Epoch 68, Train Loss: 0.184256, Val Loss: 0.023132\n"
     ]
    },
    {
     "name": "stderr",
     "output_type": "stream",
     "text": [
      "Epoch 69/100: 100%|██████████| 3/3 [00:00<00:00, 11.92it/s]\n"
     ]
    },
    {
     "name": "stdout",
     "output_type": "stream",
     "text": [
      "Epoch 69, Train Loss: 0.186827, Val Loss: 0.020823\n"
     ]
    },
    {
     "name": "stderr",
     "output_type": "stream",
     "text": [
      "Epoch 70/100: 100%|██████████| 3/3 [00:00<00:00, 11.91it/s]\n"
     ]
    },
    {
     "name": "stdout",
     "output_type": "stream",
     "text": [
      "Epoch 70, Train Loss: 0.181464, Val Loss: 0.021055\n"
     ]
    },
    {
     "name": "stderr",
     "output_type": "stream",
     "text": [
      "Epoch 71/100: 100%|██████████| 3/3 [00:00<00:00, 11.57it/s]\n"
     ]
    },
    {
     "name": "stdout",
     "output_type": "stream",
     "text": [
      "Epoch 71, Train Loss: 0.182173, Val Loss: 0.021867\n"
     ]
    },
    {
     "name": "stderr",
     "output_type": "stream",
     "text": [
      "Epoch 72/100: 100%|██████████| 3/3 [00:00<00:00, 10.86it/s]\n"
     ]
    },
    {
     "name": "stdout",
     "output_type": "stream",
     "text": [
      "Epoch 72, Train Loss: 0.184363, Val Loss: 0.022050\n"
     ]
    },
    {
     "name": "stderr",
     "output_type": "stream",
     "text": [
      "Epoch 73/100: 100%|██████████| 3/3 [00:00<00:00, 11.30it/s]\n"
     ]
    },
    {
     "name": "stdout",
     "output_type": "stream",
     "text": [
      "Epoch 73, Train Loss: 0.187240, Val Loss: 0.021620\n"
     ]
    },
    {
     "name": "stderr",
     "output_type": "stream",
     "text": [
      "Epoch 74/100: 100%|██████████| 3/3 [00:00<00:00, 11.24it/s]\n"
     ]
    },
    {
     "name": "stdout",
     "output_type": "stream",
     "text": [
      "Epoch 74, Train Loss: 0.190949, Val Loss: 0.026349\n"
     ]
    },
    {
     "name": "stderr",
     "output_type": "stream",
     "text": [
      "Epoch 75/100: 100%|██████████| 3/3 [00:00<00:00, 11.55it/s]\n"
     ]
    },
    {
     "name": "stdout",
     "output_type": "stream",
     "text": [
      "Epoch 75, Train Loss: 0.183238, Val Loss: 0.022615\n"
     ]
    },
    {
     "name": "stderr",
     "output_type": "stream",
     "text": [
      "Epoch 76/100: 100%|██████████| 3/3 [00:00<00:00, 10.80it/s]\n"
     ]
    },
    {
     "name": "stdout",
     "output_type": "stream",
     "text": [
      "Epoch 76, Train Loss: 0.181393, Val Loss: 0.018710\n"
     ]
    },
    {
     "name": "stderr",
     "output_type": "stream",
     "text": [
      "Epoch 77/100: 100%|██████████| 3/3 [00:00<00:00, 10.83it/s]\n"
     ]
    },
    {
     "name": "stdout",
     "output_type": "stream",
     "text": [
      "Epoch 77, Train Loss: 0.184089, Val Loss: 0.022059\n"
     ]
    },
    {
     "name": "stderr",
     "output_type": "stream",
     "text": [
      "Epoch 78/100: 100%|██████████| 3/3 [00:00<00:00, 10.99it/s]\n"
     ]
    },
    {
     "name": "stdout",
     "output_type": "stream",
     "text": [
      "Epoch 78, Train Loss: 0.184537, Val Loss: 0.019639\n"
     ]
    },
    {
     "name": "stderr",
     "output_type": "stream",
     "text": [
      "Epoch 79/100: 100%|██████████| 3/3 [00:00<00:00, 12.88it/s]\n"
     ]
    },
    {
     "name": "stdout",
     "output_type": "stream",
     "text": [
      "Epoch 79, Train Loss: 0.185890, Val Loss: 0.022478\n"
     ]
    },
    {
     "name": "stderr",
     "output_type": "stream",
     "text": [
      "Epoch 80/100: 100%|██████████| 3/3 [00:00<00:00, 12.15it/s]\n"
     ]
    },
    {
     "name": "stdout",
     "output_type": "stream",
     "text": [
      "Epoch 80, Train Loss: 0.181180, Val Loss: 0.019194\n"
     ]
    },
    {
     "name": "stderr",
     "output_type": "stream",
     "text": [
      "Epoch 81/100: 100%|██████████| 3/3 [00:00<00:00, 11.12it/s]\n"
     ]
    },
    {
     "name": "stdout",
     "output_type": "stream",
     "text": [
      "Epoch 81, Train Loss: 0.182623, Val Loss: 0.022970\n"
     ]
    },
    {
     "name": "stderr",
     "output_type": "stream",
     "text": [
      "Epoch 82/100: 100%|██████████| 3/3 [00:00<00:00, 12.15it/s]\n"
     ]
    },
    {
     "name": "stdout",
     "output_type": "stream",
     "text": [
      "Epoch 82, Train Loss: 0.184623, Val Loss: 0.026569\n"
     ]
    },
    {
     "name": "stderr",
     "output_type": "stream",
     "text": [
      "Epoch 83/100: 100%|██████████| 3/3 [00:00<00:00, 12.15it/s]\n"
     ]
    },
    {
     "name": "stdout",
     "output_type": "stream",
     "text": [
      "Epoch 83, Train Loss: 0.180305, Val Loss: 0.020182\n"
     ]
    },
    {
     "name": "stderr",
     "output_type": "stream",
     "text": [
      "Epoch 84/100: 100%|██████████| 3/3 [00:00<00:00, 12.50it/s]\n"
     ]
    },
    {
     "name": "stdout",
     "output_type": "stream",
     "text": [
      "Epoch 84, Train Loss: 0.176803, Val Loss: 0.018608\n"
     ]
    },
    {
     "name": "stderr",
     "output_type": "stream",
     "text": [
      "Epoch 85/100: 100%|██████████| 3/3 [00:00<00:00, 10.48it/s]\n"
     ]
    },
    {
     "name": "stdout",
     "output_type": "stream",
     "text": [
      "Epoch 85, Train Loss: 0.176415, Val Loss: 0.019493\n"
     ]
    },
    {
     "name": "stderr",
     "output_type": "stream",
     "text": [
      "Epoch 86/100: 100%|██████████| 3/3 [00:00<00:00, 11.18it/s]\n"
     ]
    },
    {
     "name": "stdout",
     "output_type": "stream",
     "text": [
      "Epoch 86, Train Loss: 0.173767, Val Loss: 0.019650\n"
     ]
    },
    {
     "name": "stderr",
     "output_type": "stream",
     "text": [
      "Epoch 87/100: 100%|██████████| 3/3 [00:00<00:00, 12.00it/s]\n"
     ]
    },
    {
     "name": "stdout",
     "output_type": "stream",
     "text": [
      "Epoch 87, Train Loss: 0.175109, Val Loss: 0.022341\n"
     ]
    },
    {
     "name": "stderr",
     "output_type": "stream",
     "text": [
      "Epoch 88/100: 100%|██████████| 3/3 [00:00<00:00, 12.76it/s]\n"
     ]
    },
    {
     "name": "stdout",
     "output_type": "stream",
     "text": [
      "Epoch 88, Train Loss: 0.175680, Val Loss: 0.017627\n"
     ]
    },
    {
     "name": "stderr",
     "output_type": "stream",
     "text": [
      "Epoch 89/100: 100%|██████████| 3/3 [00:00<00:00, 11.74it/s]\n"
     ]
    },
    {
     "name": "stdout",
     "output_type": "stream",
     "text": [
      "Epoch 89, Train Loss: 0.172962, Val Loss: 0.017412\n"
     ]
    },
    {
     "name": "stderr",
     "output_type": "stream",
     "text": [
      "Epoch 90/100: 100%|██████████| 3/3 [00:00<00:00, 12.17it/s]\n"
     ]
    },
    {
     "name": "stdout",
     "output_type": "stream",
     "text": [
      "Epoch 90, Train Loss: 0.172979, Val Loss: 0.017535\n"
     ]
    },
    {
     "name": "stderr",
     "output_type": "stream",
     "text": [
      "Epoch 91/100: 100%|██████████| 3/3 [00:00<00:00, 11.29it/s]\n"
     ]
    },
    {
     "name": "stdout",
     "output_type": "stream",
     "text": [
      "Epoch 91, Train Loss: 0.173116, Val Loss: 0.018409\n"
     ]
    },
    {
     "name": "stderr",
     "output_type": "stream",
     "text": [
      "Epoch 92/100: 100%|██████████| 3/3 [00:00<00:00, 10.67it/s]\n"
     ]
    },
    {
     "name": "stdout",
     "output_type": "stream",
     "text": [
      "Epoch 92, Train Loss: 0.171635, Val Loss: 0.020482\n"
     ]
    },
    {
     "name": "stderr",
     "output_type": "stream",
     "text": [
      "Epoch 93/100: 100%|██████████| 3/3 [00:00<00:00, 10.94it/s]\n"
     ]
    },
    {
     "name": "stdout",
     "output_type": "stream",
     "text": [
      "Epoch 93, Train Loss: 0.173335, Val Loss: 0.016804\n"
     ]
    },
    {
     "name": "stderr",
     "output_type": "stream",
     "text": [
      "Epoch 94/100: 100%|██████████| 3/3 [00:00<00:00, 10.82it/s]\n"
     ]
    },
    {
     "name": "stdout",
     "output_type": "stream",
     "text": [
      "Epoch 94, Train Loss: 0.171760, Val Loss: 0.017445\n"
     ]
    },
    {
     "name": "stderr",
     "output_type": "stream",
     "text": [
      "Epoch 95/100: 100%|██████████| 3/3 [00:00<00:00, 11.11it/s]\n"
     ]
    },
    {
     "name": "stdout",
     "output_type": "stream",
     "text": [
      "Epoch 95, Train Loss: 0.173068, Val Loss: 0.016234\n"
     ]
    },
    {
     "name": "stderr",
     "output_type": "stream",
     "text": [
      "Epoch 96/100: 100%|██████████| 3/3 [00:00<00:00, 11.41it/s]\n"
     ]
    },
    {
     "name": "stdout",
     "output_type": "stream",
     "text": [
      "Epoch 96, Train Loss: 0.171144, Val Loss: 0.022534\n"
     ]
    },
    {
     "name": "stderr",
     "output_type": "stream",
     "text": [
      "Epoch 97/100: 100%|██████████| 3/3 [00:00<00:00, 11.85it/s]\n"
     ]
    },
    {
     "name": "stdout",
     "output_type": "stream",
     "text": [
      "Epoch 97, Train Loss: 0.176048, Val Loss: 0.020544\n"
     ]
    },
    {
     "name": "stderr",
     "output_type": "stream",
     "text": [
      "Epoch 98/100: 100%|██████████| 3/3 [00:00<00:00, 10.68it/s]\n"
     ]
    },
    {
     "name": "stdout",
     "output_type": "stream",
     "text": [
      "Epoch 98, Train Loss: 0.173482, Val Loss: 0.022969\n"
     ]
    },
    {
     "name": "stderr",
     "output_type": "stream",
     "text": [
      "Epoch 99/100: 100%|██████████| 3/3 [00:00<00:00, 11.03it/s]\n"
     ]
    },
    {
     "name": "stdout",
     "output_type": "stream",
     "text": [
      "Epoch 99, Train Loss: 0.172033, Val Loss: 0.017009\n"
     ]
    },
    {
     "name": "stderr",
     "output_type": "stream",
     "text": [
      "Epoch 100/100: 100%|██████████| 3/3 [00:00<00:00, 11.02it/s]"
     ]
    },
    {
     "name": "stdout",
     "output_type": "stream",
     "text": [
      "Epoch 100, Train Loss: 0.170773, Val Loss: 0.017690\n"
     ]
    },
    {
     "name": "stderr",
     "output_type": "stream",
     "text": [
      "\n"
     ]
    }
   ],
   "source": [
    "from tqdm import tqdm\n",
    "\n",
    "num_epochs = 100\n",
    "best_val_loss = float('inf')\n",
    "patience = 10\n",
    "epochs_no_improve = 0\n",
    "\n",
    "for epoch in range(num_epochs):\n",
    "    model.train()\n",
    "    train_loss = 0.0\n",
    "    for X_batch, Y_batch, lengths in tqdm(train_loader, desc=f\"Epoch {epoch+1}/{num_epochs}\"):\n",
    "        X_batch = X_batch.to(device)\n",
    "        Y_batch = Y_batch.to(device)\n",
    "        lengths = lengths.to(device)  # Original lengths, not padded lengths\n",
    "        \n",
    "        optimizer.zero_grad()\n",
    "        outputs, mask = model(X_batch, lengths)  # Pass correct lengths for masking\n",
    "        \n",
    "        loss = custom_loss(outputs, Y_batch, mask)\n",
    "        loss.backward()\n",
    "        torch.nn.utils.clip_grad_norm_(model.parameters(), max_norm=1.0)\n",
    "        optimizer.step()\n",
    "        \n",
    "        train_loss += loss.item() * X_batch.size(0)\n",
    "    \n",
    "    train_loss /= len(train_dataset)\n",
    "    \n",
    "    # Validation\n",
    "    model.eval()\n",
    "    val_loss = 0.0\n",
    "    with torch.no_grad():\n",
    "        for X_batch, Y_batch, lengths in val_loader:\n",
    "            X_batch = X_batch.to(device)\n",
    "            Y_batch = Y_batch.to(device)\n",
    "            lengths = lengths.to(device)  # Original lengths, not padded lengths\n",
    "            \n",
    "            outputs, mask = model(X_batch, lengths)  # Pass correct lengths for masking\n",
    "            \n",
    "            loss = custom_loss(outputs, Y_batch, mask)\n",
    "            val_loss += loss.item() * X_batch.size(0)\n",
    "\n",
    "    val_loss /= len(val_dataset)\n",
    "    \n",
    "    print(f\"Epoch {epoch+1}, Train Loss: {train_loss:.6f}, Val Loss: {val_loss:.6f}\")\n",
    "    \n",
    "    # Check for improvement\n",
    "    if val_loss < best_val_loss:\n",
    "        best_val_loss = val_loss\n",
    "        epochs_no_improve = 0\n",
    "        # Save the model\n",
    "        torch.save(X_mean, 'X_mean.pth')\n",
    "        torch.save(X_std, 'X_std.pth')\n",
    "        torch.save(Y_mean, 'Y_mean.pth')\n",
    "        torch.save(Y_std, 'Y_std.pth')\n",
    "\n",
    "        torch.save(model.state_dict(), 'best_model.pth')\n",
    "    else:\n",
    "        epochs_no_improve += 1\n",
    "        if epochs_no_improve >= patience:\n",
    "            print(\"Early stopping\")\n",
    "            break\n"
   ]
  },
  {
   "cell_type": "markdown",
   "metadata": {},
   "source": [
    "### Step 5: Evaluation and Fine-Tuning"
   ]
  },
  {
   "cell_type": "code",
   "execution_count": 16,
   "metadata": {},
   "outputs": [
    {
     "name": "stdout",
     "output_type": "stream",
     "text": [
      "Test Loss: 0.015673\n"
     ]
    },
    {
     "name": "stderr",
     "output_type": "stream",
     "text": [
      "/tmp/ipykernel_295931/2864630211.py:2: FutureWarning: You are using `torch.load` with `weights_only=False` (the current default value), which uses the default pickle module implicitly. It is possible to construct malicious pickle data which will execute arbitrary code during unpickling (See https://github.com/pytorch/pytorch/blob/main/SECURITY.md#untrusted-models for more details). In a future release, the default value for `weights_only` will be flipped to `True`. This limits the functions that could be executed during unpickling. Arbitrary objects will no longer be allowed to be loaded via this mode unless they are explicitly allowlisted by the user via `torch.serialization.add_safe_globals`. We recommend you start setting `weights_only=True` for any use case where you don't have full control of the loaded file. Please open an issue on GitHub for any issues related to this experimental feature.\n",
      "  model.load_state_dict(torch.load('best_model.pth'))\n"
     ]
    }
   ],
   "source": [
    "# Load the best model\n",
    "model.load_state_dict(torch.load('best_model.pth'))\n",
    "\n",
    "model.eval()\n",
    "test_loss = 0.0\n",
    "with torch.no_grad():\n",
    "    for X_batch, Y_batch, lengths in test_loader:\n",
    "        X_batch = X_batch.to(device)\n",
    "        Y_batch = Y_batch.to(device)\n",
    "        lengths = lengths.to(device)\n",
    "        \n",
    "        outputs, mask = model(X_batch, lengths)\n",
    "        \n",
    "        loss = custom_loss(outputs, Y_batch, mask)\n",
    "        test_loss += loss.item() * X_batch.size(0)\n",
    "test_loss /= len(test_dataset)\n",
    "print(f\"Test Loss: {test_loss:.6f}\")\n"
   ]
  },
  {
   "cell_type": "code",
   "execution_count": 17,
   "metadata": {},
   "outputs": [
    {
     "name": "stdout",
     "output_type": "stream",
     "text": [
      "torch.Size([6, 993, 12])\n",
      "torch.Size([1, 445, 12])\n"
     ]
    },
    {
     "data": {
      "image/png": "[encoded data removed]",
      "text/plain": [
       "<Figure size 1200x600 with 1 Axes>"
      ]
     },
     "metadata": {},
     "output_type": "display_data"
    }
   ],
   "source": [
    "import random\n",
    "import matplotlib.pyplot as plt\n",
    "\n",
    "# Select a random sequence from the test set\n",
    "X_sequence, Y_true_sequence, lengths = next(iter(test_loader))\n",
    "\n",
    "# Randomly select a sequence index within the batch\n",
    "sequence_idx = random.randint(0, X_sequence.size(0) - 1)  # Random index from 0 to batch size - 1\n",
    "length = lengths_tensor[sequence_idx]  # Ensure the correct original length is used for this sequence\n",
    "print(X_sequence.shape)\n",
    "\n",
    "# Slice up to the true length of the sequence\n",
    "X_sequence = X_sequence[sequence_idx:sequence_idx+1, :length].to(device)\n",
    "Y_true_sequence = Y_true_sequence[sequence_idx:sequence_idx+1, :length].to(device)\n",
    "lengths_sequence = lengths_tensor[sequence_idx:sequence_idx+1]\n",
    "print(X_sequence.shape)\n",
    "\n",
    "# Predict\n",
    "model.eval()\n",
    "with torch.no_grad():\n",
    "    outputs, mask = model(X_sequence, lengths_sequence)  # Pass the correct sequence length for evaluation\n",
    "\n",
    "# Denormalize the output and true values\n",
    "def denormalize(data, mean, std):\n",
    "    mean = mean.to(device).unsqueeze(0).unsqueeze(0)\n",
    "    std = std.to(device).unsqueeze(0).unsqueeze(0)\n",
    "    return data * std + mean\n",
    "\n",
    "# Denormalize\n",
    "Y_true_denorm = denormalize(Y_true_sequence, Y_mean, Y_std)\n",
    "Y_pred_denorm = denormalize(outputs, Y_mean, Y_std)\n",
    "\n",
    "# Convert to CPU and numpy arrays for plotting\n",
    "Y_true_denorm = Y_true_denorm.squeeze(0).cpu().numpy()\n",
    "Y_pred_denorm = Y_pred_denorm.squeeze(0).cpu().numpy()\n",
    "\n",
    "# Plot true vs predicted positions for a specific joint and coordinate\n",
    "joint_idx = 0  # First joint\n",
    "coordinate_idx = 0  # X-coordinate\n",
    "\n",
    "plt.figure(figsize=(12, 6))\n",
    "plt.plot(\n",
    "    Y_true_denorm[:length, joint_idx * 3 + coordinate_idx],  # Only plot non-padded values\n",
    "    label='True Position',\n",
    ")\n",
    "plt.plot(\n",
    "    Y_pred_denorm[:length, joint_idx * 3 + coordinate_idx],  # Only plot non-padded values\n",
    "    label='Predicted Position',\n",
    ")\n",
    "plt.title('Joint Position Over Time')\n",
    "plt.xlabel('Time Step')\n",
    "plt.ylabel('Position')\n",
    "plt.legend()\n",
    "plt.show()\n"
   ]
  },
  {
   "cell_type": "code",
   "execution_count": 18,
   "metadata": {},
   "outputs": [
    {
     "data": {
      "text/plain": [
       "tensor(474)"
      ]
     },
     "execution_count": 18,
     "metadata": {},
     "output_type": "execute_result"
    }
   ],
   "source": [
    "lengths_tensor[0]"
   ]
  },
  {
   "cell_type": "code",
   "execution_count": null,
   "metadata": {},
   "outputs": [],
   "source": []
  },
  {
   "cell_type": "code",
   "execution_count": 19,
   "metadata": {},
   "outputs": [
    {
     "name": "stdout",
     "output_type": "stream",
     "text": [
      "[NbConvertApp] Converting notebook Code/preprocessing/preprocess.ipynb to script\n",
      "[NbConvertApp] Writing 15393 bytes to Code/preprocessing/preprocess.py\n"
     ]
    }
   ],
   "source": [
    "!jupyter nbconvert --to script Code/preprocessing/preprocess.ipynb"
   ]
  },
  {
   "cell_type": "code",
   "execution_count": null,
   "metadata": {},
   "outputs": [],
   "source": []
  }
 ],
 "metadata": {
  "kernelspec": {
   "display_name": "BA",
   "language": "python",
   "name": "python3"
  },
  "language_info": {
   "codemirror_mode": {
    "name": "ipython",
    "version": 3
   },
   "file_extension": ".py",
   "mimetype": "text/x-python",
   "name": "python",
   "nbconvert_exporter": "python",
   "pygments_lexer": "ipython3",
   "version": "3.11.9"
  }
 },
 "nbformat": 4,
 "nbformat_minor": 2
}
