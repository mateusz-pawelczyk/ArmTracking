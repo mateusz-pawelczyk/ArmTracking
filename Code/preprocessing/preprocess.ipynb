{
 "cells": [
  {
   "cell_type": "code",
   "execution_count": 117,
   "metadata": {},
   "outputs": [],
   "source": [
    "import pandas as pd\n",
    "import os\n",
    "import numpy as np\n",
    "import torch\n",
    "os.chdir('/home/tm_ba/Desktop/Bachelorarbeit_code')"
   ]
  },
  {
   "cell_type": "code",
   "execution_count": 118,
   "metadata": {},
   "outputs": [
    {
     "data": {
      "text/html": [
       "<div>\n",
       "<style scoped>\n",
       "    .dataframe tbody tr th:only-of-type {\n",
       "        vertical-align: middle;\n",
       "    }\n",
       "\n",
       "    .dataframe tbody tr th {\n",
       "        vertical-align: top;\n",
       "    }\n",
       "\n",
       "    .dataframe thead th {\n",
       "        text-align: right;\n",
       "    }\n",
       "</style>\n",
       "<table border=\"1\" class=\"dataframe\">\n",
       "  <thead>\n",
       "    <tr style=\"text-align: right;\">\n",
       "      <th></th>\n",
       "      <th>Frame</th>\n",
       "      <th>shoulder:X</th>\n",
       "      <th>shoulder:Y</th>\n",
       "      <th>shoulder:Z</th>\n",
       "      <th>elbow:X</th>\n",
       "      <th>elbow:Y</th>\n",
       "      <th>elbow:Z</th>\n",
       "      <th>wrist:X</th>\n",
       "      <th>wrist:Y</th>\n",
       "      <th>wrist:Z</th>\n",
       "      <th>ThumbTip:X</th>\n",
       "      <th>ThumbTip:Y</th>\n",
       "      <th>ThumbTip:Z</th>\n",
       "      <th>Sequence</th>\n",
       "    </tr>\n",
       "  </thead>\n",
       "  <tbody>\n",
       "    <tr>\n",
       "      <th>0</th>\n",
       "      <td>1</td>\n",
       "      <td>424.563679</td>\n",
       "      <td>31.445054</td>\n",
       "      <td>632.763792</td>\n",
       "      <td>437.255669</td>\n",
       "      <td>95.056137</td>\n",
       "      <td>303.741040</td>\n",
       "      <td>326.800612</td>\n",
       "      <td>202.974780</td>\n",
       "      <td>98.728533</td>\n",
       "      <td>208.189711</td>\n",
       "      <td>226.987415</td>\n",
       "      <td>58.566404</td>\n",
       "      <td>0</td>\n",
       "    </tr>\n",
       "    <tr>\n",
       "      <th>1</th>\n",
       "      <td>2</td>\n",
       "      <td>424.295767</td>\n",
       "      <td>31.463165</td>\n",
       "      <td>632.810122</td>\n",
       "      <td>436.349315</td>\n",
       "      <td>95.551888</td>\n",
       "      <td>303.887265</td>\n",
       "      <td>324.416997</td>\n",
       "      <td>203.830784</td>\n",
       "      <td>100.116664</td>\n",
       "      <td>205.696950</td>\n",
       "      <td>226.350274</td>\n",
       "      <td>58.793938</td>\n",
       "      <td>0</td>\n",
       "    </tr>\n",
       "    <tr>\n",
       "      <th>2</th>\n",
       "      <td>3</td>\n",
       "      <td>424.058731</td>\n",
       "      <td>31.496611</td>\n",
       "      <td>632.856757</td>\n",
       "      <td>435.518783</td>\n",
       "      <td>96.208076</td>\n",
       "      <td>304.060796</td>\n",
       "      <td>321.978571</td>\n",
       "      <td>204.765964</td>\n",
       "      <td>101.315481</td>\n",
       "      <td>203.130669</td>\n",
       "      <td>225.790438</td>\n",
       "      <td>59.283324</td>\n",
       "      <td>0</td>\n",
       "    </tr>\n",
       "    <tr>\n",
       "      <th>3</th>\n",
       "      <td>4</td>\n",
       "      <td>423.839756</td>\n",
       "      <td>31.552288</td>\n",
       "      <td>632.884049</td>\n",
       "      <td>434.717062</td>\n",
       "      <td>96.974342</td>\n",
       "      <td>304.236887</td>\n",
       "      <td>319.504761</td>\n",
       "      <td>205.752253</td>\n",
       "      <td>102.392088</td>\n",
       "      <td>200.513515</td>\n",
       "      <td>225.286090</td>\n",
       "      <td>59.932349</td>\n",
       "      <td>0</td>\n",
       "    </tr>\n",
       "    <tr>\n",
       "      <th>4</th>\n",
       "      <td>5</td>\n",
       "      <td>423.629020</td>\n",
       "      <td>31.633001</td>\n",
       "      <td>632.880829</td>\n",
       "      <td>433.908156</td>\n",
       "      <td>97.811531</td>\n",
       "      <td>304.399760</td>\n",
       "      <td>317.010496</td>\n",
       "      <td>206.768091</td>\n",
       "      <td>103.398043</td>\n",
       "      <td>197.863597</td>\n",
       "      <td>224.820703</td>\n",
       "      <td>60.664590</td>\n",
       "      <td>0</td>\n",
       "    </tr>\n",
       "    <tr>\n",
       "      <th>...</th>\n",
       "      <td>...</td>\n",
       "      <td>...</td>\n",
       "      <td>...</td>\n",
       "      <td>...</td>\n",
       "      <td>...</td>\n",
       "      <td>...</td>\n",
       "      <td>...</td>\n",
       "      <td>...</td>\n",
       "      <td>...</td>\n",
       "      <td>...</td>\n",
       "      <td>...</td>\n",
       "      <td>...</td>\n",
       "      <td>...</td>\n",
       "      <td>...</td>\n",
       "    </tr>\n",
       "    <tr>\n",
       "      <th>29035</th>\n",
       "      <td>484</td>\n",
       "      <td>472.782152</td>\n",
       "      <td>-7.326663</td>\n",
       "      <td>652.304919</td>\n",
       "      <td>554.735266</td>\n",
       "      <td>35.535836</td>\n",
       "      <td>329.040196</td>\n",
       "      <td>590.844187</td>\n",
       "      <td>176.464542</td>\n",
       "      <td>116.238829</td>\n",
       "      <td>553.073971</td>\n",
       "      <td>289.401170</td>\n",
       "      <td>36.425621</td>\n",
       "      <td>50</td>\n",
       "    </tr>\n",
       "    <tr>\n",
       "      <th>29036</th>\n",
       "      <td>485</td>\n",
       "      <td>472.813012</td>\n",
       "      <td>-7.347910</td>\n",
       "      <td>652.219975</td>\n",
       "      <td>554.945255</td>\n",
       "      <td>35.411012</td>\n",
       "      <td>329.175350</td>\n",
       "      <td>590.967573</td>\n",
       "      <td>176.501475</td>\n",
       "      <td>116.288354</td>\n",
       "      <td>553.156923</td>\n",
       "      <td>289.500379</td>\n",
       "      <td>36.527046</td>\n",
       "      <td>50</td>\n",
       "    </tr>\n",
       "    <tr>\n",
       "      <th>29037</th>\n",
       "      <td>486</td>\n",
       "      <td>472.858911</td>\n",
       "      <td>-7.366043</td>\n",
       "      <td>652.136989</td>\n",
       "      <td>555.194957</td>\n",
       "      <td>35.239731</td>\n",
       "      <td>329.331766</td>\n",
       "      <td>591.064473</td>\n",
       "      <td>176.525363</td>\n",
       "      <td>116.325138</td>\n",
       "      <td>553.182233</td>\n",
       "      <td>289.565935</td>\n",
       "      <td>36.574016</td>\n",
       "      <td>50</td>\n",
       "    </tr>\n",
       "    <tr>\n",
       "      <th>29038</th>\n",
       "      <td>487</td>\n",
       "      <td>472.932878</td>\n",
       "      <td>-7.370025</td>\n",
       "      <td>652.068414</td>\n",
       "      <td>555.489116</td>\n",
       "      <td>35.005111</td>\n",
       "      <td>329.494524</td>\n",
       "      <td>591.102419</td>\n",
       "      <td>176.537474</td>\n",
       "      <td>116.327354</td>\n",
       "      <td>553.125872</td>\n",
       "      <td>289.599658</td>\n",
       "      <td>36.607418</td>\n",
       "      <td>50</td>\n",
       "    </tr>\n",
       "    <tr>\n",
       "      <th>29039</th>\n",
       "      <td>488</td>\n",
       "      <td>473.052123</td>\n",
       "      <td>-7.343873</td>\n",
       "      <td>652.030417</td>\n",
       "      <td>555.832227</td>\n",
       "      <td>34.686398</td>\n",
       "      <td>329.641630</td>\n",
       "      <td>591.039086</td>\n",
       "      <td>176.542472</td>\n",
       "      <td>116.267633</td>\n",
       "      <td>552.962166</td>\n",
       "      <td>289.611440</td>\n",
       "      <td>36.699073</td>\n",
       "      <td>50</td>\n",
       "    </tr>\n",
       "  </tbody>\n",
       "</table>\n",
       "<p>29040 rows × 14 columns</p>\n",
       "</div>"
      ],
      "text/plain": [
       "       Frame  shoulder:X  shoulder:Y  shoulder:Z     elbow:X    elbow:Y  \\\n",
       "0          1  424.563679   31.445054  632.763792  437.255669  95.056137   \n",
       "1          2  424.295767   31.463165  632.810122  436.349315  95.551888   \n",
       "2          3  424.058731   31.496611  632.856757  435.518783  96.208076   \n",
       "3          4  423.839756   31.552288  632.884049  434.717062  96.974342   \n",
       "4          5  423.629020   31.633001  632.880829  433.908156  97.811531   \n",
       "...      ...         ...         ...         ...         ...        ...   \n",
       "29035    484  472.782152   -7.326663  652.304919  554.735266  35.535836   \n",
       "29036    485  472.813012   -7.347910  652.219975  554.945255  35.411012   \n",
       "29037    486  472.858911   -7.366043  652.136989  555.194957  35.239731   \n",
       "29038    487  472.932878   -7.370025  652.068414  555.489116  35.005111   \n",
       "29039    488  473.052123   -7.343873  652.030417  555.832227  34.686398   \n",
       "\n",
       "          elbow:Z     wrist:X     wrist:Y     wrist:Z  ThumbTip:X  ThumbTip:Y  \\\n",
       "0      303.741040  326.800612  202.974780   98.728533  208.189711  226.987415   \n",
       "1      303.887265  324.416997  203.830784  100.116664  205.696950  226.350274   \n",
       "2      304.060796  321.978571  204.765964  101.315481  203.130669  225.790438   \n",
       "3      304.236887  319.504761  205.752253  102.392088  200.513515  225.286090   \n",
       "4      304.399760  317.010496  206.768091  103.398043  197.863597  224.820703   \n",
       "...           ...         ...         ...         ...         ...         ...   \n",
       "29035  329.040196  590.844187  176.464542  116.238829  553.073971  289.401170   \n",
       "29036  329.175350  590.967573  176.501475  116.288354  553.156923  289.500379   \n",
       "29037  329.331766  591.064473  176.525363  116.325138  553.182233  289.565935   \n",
       "29038  329.494524  591.102419  176.537474  116.327354  553.125872  289.599658   \n",
       "29039  329.641630  591.039086  176.542472  116.267633  552.962166  289.611440   \n",
       "\n",
       "       ThumbTip:Z  Sequence  \n",
       "0       58.566404         0  \n",
       "1       58.793938         0  \n",
       "2       59.283324         0  \n",
       "3       59.932349         0  \n",
       "4       60.664590         0  \n",
       "...           ...       ...  \n",
       "29035   36.425621        50  \n",
       "29036   36.527046        50  \n",
       "29037   36.574016        50  \n",
       "29038   36.607418        50  \n",
       "29039   36.699073        50  \n",
       "\n",
       "[29040 rows x 14 columns]"
      ]
     },
     "execution_count": 118,
     "metadata": {},
     "output_type": "execute_result"
    }
   ],
   "source": [
    "df = pd.read_csv(\"csv_new/processed_Trajectories.csv\")\n",
    "df"
   ]
  },
  {
   "cell_type": "code",
   "execution_count": 119,
   "metadata": {},
   "outputs": [
    {
     "data": {
      "text/plain": [
       "Sequence\n",
       "18    994\n",
       "14    805\n",
       "28    767\n",
       "31    762\n",
       "48    758\n",
       "37    666\n",
       "2     663\n",
       "9     661\n",
       "25    651\n",
       "11    640\n",
       "6     638\n",
       "7     635\n",
       "44    634\n",
       "33    632\n",
       "38    632\n",
       "1     612\n",
       "39    612\n",
       "34    611\n",
       "26    605\n",
       "5     602\n",
       "36    585\n",
       "46    583\n",
       "47    582\n",
       "21    575\n",
       "35    565\n",
       "43    560\n",
       "41    558\n",
       "15    548\n",
       "27    545\n",
       "32    545\n",
       "13    544\n",
       "24    534\n",
       "22    526\n",
       "8     523\n",
       "3     522\n",
       "49    494\n",
       "50    488\n",
       "0     475\n",
       "12    474\n",
       "29    471\n",
       "42    464\n",
       "19    457\n",
       "30    452\n",
       "17    447\n",
       "4     446\n",
       "10    437\n",
       "20    435\n",
       "16    434\n",
       "40    403\n",
       "23    398\n",
       "45    390\n",
       "Name: count, dtype: int64"
      ]
     },
     "execution_count": 119,
     "metadata": {},
     "output_type": "execute_result"
    }
   ],
   "source": [
    "df.value_counts(\"Sequence\")"
   ]
  },
  {
   "cell_type": "code",
   "execution_count": 120,
   "metadata": {},
   "outputs": [
    {
     "name": "stdout",
     "output_type": "stream",
     "text": [
      "X shape: (28989, 12)\n",
      "Y shape: (28989, 12)\n",
      "X range: -116.11421904587536 to 664.1008282134771\n",
      "Y range: -116.11421904587536 to 664.1008282134771\n"
     ]
    },
    {
     "name": "stderr",
     "output_type": "stream",
     "text": [
      "/tmp/ipykernel_200863/680505019.py:16: DeprecationWarning: DataFrameGroupBy.apply operated on the grouping columns. This behavior is deprecated, and in a future version of pandas the grouping columns will be excluded from the operation. Either pass `include_groups=False` to exclude the groupings or explicitly select the grouping columns after groupby to silence this warning.\n",
      "  sequences = full_data.groupby('Sequence').apply(lambda group: group.drop(columns=['Frame', 'Sequence']).values).values\n"
     ]
    }
   ],
   "source": [
    "# Joints of interest\n",
    "joints = ['shoulder', 'elbow', 'wrist', 'ThumbTip']\n",
    "coordinates = ['X', 'Y', 'Z']\n",
    "\n",
    "# Convert 'mm' to 'm' (if needed, since robot arms often use meters)\n",
    "df[[f'{joint}:{coord}' for joint in joints for coord in coordinates]]\n",
    "\n",
    "\n",
    "\n",
    "\n",
    "# Merge position, velocity, and acceleration into one DataFrame\n",
    "full_data = df.drop(columns=[\"Sequence\"])\n",
    "full_data[\"Sequence\"] = df[\"Sequence\"]\n",
    "\n",
    "# Organize by sequence: Create sequences for the model\n",
    "sequences = full_data.groupby('Sequence').apply(lambda group: group.drop(columns=['Frame', 'Sequence']).values).values\n",
    "\n",
    "# Example: Sequences of joint positions, velocity, and acceleration for input\n",
    "X = []\n",
    "Y = []\n",
    "\n",
    "# Prepare the data: Input (X) will be current positions, velocities, accelerations\n",
    "# Output (Y) will be the next time step's positions\n",
    "\n",
    "for seq in sequences:\n",
    "    # Each sequence is a separate time-series for one movement\n",
    "    for i in range(len(seq) - 1):  # We stop at len(seq)-1 to predict the next time step\n",
    "        X.append(seq[i])  # Input: current time step (positions, velocity, acceleration)\n",
    "        Y.append(seq[i+1][:len(joints)*3])  # Output: next time step's positions (x, y, z)\n",
    "\n",
    "# Convert to numpy arrays\n",
    "X = np.array(X)\n",
    "Y = np.array(Y)\n",
    "\n",
    "# X shape: (num_samples, num_features) -- for LSTMs, should reshape to (num_samples, timesteps, num_features)\n",
    "print(\"X shape:\", X.shape)\n",
    "print(\"Y shape:\", Y.shape)\n",
    "print(f\"X range: {X.min()} to {X.max()}\",)\n",
    "print(f\"Y range: {Y.min()} to {Y.max()}\",)"
   ]
  },
  {
   "cell_type": "code",
   "execution_count": 121,
   "metadata": {},
   "outputs": [
    {
     "data": {
      "text/plain": [
       "Sequence\n",
       "18    994\n",
       "14    805\n",
       "28    767\n",
       "31    762\n",
       "48    758\n",
       "37    666\n",
       "2     663\n",
       "9     661\n",
       "25    651\n",
       "11    640\n",
       "6     638\n",
       "7     635\n",
       "44    634\n",
       "33    632\n",
       "38    632\n",
       "1     612\n",
       "39    612\n",
       "34    611\n",
       "26    605\n",
       "5     602\n",
       "36    585\n",
       "46    583\n",
       "47    582\n",
       "21    575\n",
       "35    565\n",
       "43    560\n",
       "41    558\n",
       "15    548\n",
       "27    545\n",
       "32    545\n",
       "13    544\n",
       "24    534\n",
       "22    526\n",
       "8     523\n",
       "3     522\n",
       "49    494\n",
       "50    488\n",
       "0     475\n",
       "12    474\n",
       "29    471\n",
       "42    464\n",
       "19    457\n",
       "30    452\n",
       "17    447\n",
       "4     446\n",
       "10    437\n",
       "20    435\n",
       "16    434\n",
       "40    403\n",
       "23    398\n",
       "45    390\n",
       "Name: count, dtype: int64"
      ]
     },
     "execution_count": 121,
     "metadata": {},
     "output_type": "execute_result"
    }
   ],
   "source": [
    "full_data.value_counts(\"Sequence\")"
   ]
  },
  {
   "cell_type": "code",
   "execution_count": 122,
   "metadata": {},
   "outputs": [
    {
     "name": "stdout",
     "output_type": "stream",
     "text": [
      "X_padded shape: torch.Size([51, 993, 12])\n",
      "Y_padded shape: torch.Size([51, 993, 12])\n",
      "Lengths shape: torch.Size([51])\n"
     ]
    }
   ],
   "source": [
    "import torch\n",
    "from torch.nn.utils.rnn import pad_sequence\n",
    "\n",
    "# Group data by sequence\n",
    "grouped = full_data.groupby('Sequence')\n",
    "\n",
    "# Prepare input (X) and output (Y) for each sequence individually\n",
    "X_seqs = []\n",
    "Y_seqs = []\n",
    "lengths = []  # To store original sequence lengths\n",
    "\n",
    "for _, group in grouped:\n",
    "    X_seq = torch.tensor(group.drop(columns=['Frame', 'Sequence']).values[:-1], dtype=torch.float32)  # Input sequence (positions, velocities, accelerations)\n",
    "    Y_seq = torch.tensor(group[['shoulder:X', 'shoulder:Y', 'shoulder:Z',  # Output sequence (next positions)\n",
    "                   'elbow:X', 'elbow:Y', 'elbow:Z',\n",
    "                   'wrist:X', 'wrist:Y', 'wrist:Z',\n",
    "                   'ThumbTip:X', 'ThumbTip:Y', 'ThumbTip:Z']].values[1:], dtype=torch.float32)  # Next positions\n",
    "    \n",
    "    # Only add non-empty sequences\n",
    "    if len(X_seq) > 0 and len(Y_seq) > 0:\n",
    "        X_seqs.append(X_seq)\n",
    "        Y_seqs.append(Y_seq)\n",
    "        # Store original length before padding\n",
    "        lengths.append(len(X_seq))\n",
    "\n",
    "\n",
    "\n",
    "# Pad sequences to the same length using PyTorch pad_sequence\n",
    "X_padded = pad_sequence(X_seqs, batch_first=True, padding_value=0.0)\n",
    "Y_padded = pad_sequence(Y_seqs, batch_first=True, padding_value=0.0)\n",
    "\n",
    "# Convert original lengths to PyTorch tensor\n",
    "lengths_tensor = torch.tensor(lengths)\n",
    "\n",
    "# X_padded and Y_padded are now properly grouped by sequence, with padding if necessary\n",
    "print(\"X_padded shape:\", X_padded.shape)\n",
    "print(\"Y_padded shape:\", Y_padded.shape)\n",
    "print(\"Lengths shape:\", lengths_tensor.shape)\n"
   ]
  },
  {
   "cell_type": "markdown",
   "metadata": {},
   "source": [
    "### Step 1: Data Normalization"
   ]
  },
  {
   "cell_type": "code",
   "execution_count": 123,
   "metadata": {},
   "outputs": [],
   "source": [
    "from Code.preprocessing.Model import MotionModel, AttentionLayer\n",
    "from Code.preprocessing.TransformerModel import MotionTransformerModel\n"
   ]
  },
  {
   "cell_type": "code",
   "execution_count": 124,
   "metadata": {},
   "outputs": [],
   "source": [
    "import torch\n",
    "from torch.utils.data import Dataset, DataLoader, random_split\n",
    "\n",
    "class MotionDataset(Dataset):\n",
    "    def __init__(self, X, Y, X_mean=None, X_std=None, Y_mean=None, Y_std=None):\n",
    "        self.X = X\n",
    "        self.Y = Y\n",
    "        self.X_mean = X_mean\n",
    "        self.X_std = X_std\n",
    "        self.Y_mean = Y_mean\n",
    "        self.Y_std = Y_std\n",
    "\n",
    "    def __len__(self):\n",
    "        return self.X.size(0)\n",
    "\n",
    "    def __getitem__(self, idx):\n",
    "        X_item = self.X[idx]\n",
    "        Y_item = self.Y[idx]\n",
    "        \n",
    "        # Apply normalization if mean and std are provided\n",
    "        if self.X_mean is not None and self.X_std is not None:\n",
    "            X_item = (X_item - self.X_mean) / self.X_std\n",
    "        if self.Y_mean is not None and self.Y_std is not None:\n",
    "            Y_item = (Y_item - self.Y_mean) / self.Y_std\n",
    "        \n",
    "        return X_item, Y_item\n"
   ]
  },
  {
   "cell_type": "code",
   "execution_count": 125,
   "metadata": {},
   "outputs": [
    {
     "name": "stdout",
     "output_type": "stream",
     "text": [
      "Train dataset length: 40\n",
      "Validation dataset length: 5\n",
      "Test dataset length: 6\n"
     ]
    },
    {
     "name": "stderr",
     "output_type": "stream",
     "text": [
      "/tmp/ipykernel_200863/1492581289.py:5: UserWarning: To copy construct from a tensor, it is recommended to use sourceTensor.clone().detach() or sourceTensor.clone().detach().requires_grad_(True), rather than torch.tensor(sourceTensor).\n",
      "  X = torch.tensor(X_padded, dtype=torch.float32)\n",
      "/tmp/ipykernel_200863/1492581289.py:6: UserWarning: To copy construct from a tensor, it is recommended to use sourceTensor.clone().detach() or sourceTensor.clone().detach().requires_grad_(True), rather than torch.tensor(sourceTensor).\n",
      "  Y = torch.tensor(Y_padded, dtype=torch.float32)\n"
     ]
    }
   ],
   "source": [
    "import torch\n",
    "from torch.utils.data import DataLoader, random_split\n",
    "\n",
    "# Convert data to PyTorch tensors\n",
    "X = torch.tensor(X_padded, dtype=torch.float32)\n",
    "Y = torch.tensor(Y_padded, dtype=torch.float32)\n",
    "\n",
    "# Split data into training, validation, and test sets\n",
    "dataset_size = X.shape[0]\n",
    "train_size = int(0.8 * dataset_size)\n",
    "val_size = int(0.1 * dataset_size)\n",
    "test_size = dataset_size - train_size - val_size\n",
    "\n",
    "# Create the dataset (your MotionDataset should take X and Y as arguments)\n",
    "full_dataset = MotionDataset(X, Y)\n",
    "\n",
    "# Split the lengths tensor in the same way as the dataset\n",
    "lengths_tensor = torch.tensor(lengths, dtype=torch.long)\n",
    "\n",
    "# Calculate the indices for splitting\n",
    "train_idx = range(0, train_size)\n",
    "val_idx = range(train_size, train_size + val_size)\n",
    "test_idx = range(train_size + val_size, dataset_size)\n",
    "\n",
    "# Split the lengths tensor using the same indices\n",
    "lengths_train = lengths_tensor[train_idx]\n",
    "lengths_val = lengths_tensor[val_idx]\n",
    "lengths_test = lengths_tensor[test_idx]\n",
    "\n",
    "# Split the dataset using the same proportions\n",
    "train_dataset, val_dataset, test_dataset = random_split(\n",
    "    full_dataset, [train_size, val_size, test_size],\n",
    "    generator=torch.Generator().manual_seed(42)\n",
    ")\n",
    "\n",
    "# Compute mean and std from ONLY the training data\n",
    "def compute_mean_std(dataset):\n",
    "    loader = DataLoader(dataset, batch_size=len(dataset))\n",
    "    X_batch, Y_batch = next(iter(loader))\n",
    "    X_flat = X_batch.view(-1, X_batch.shape[-1])  # Flatten the data along all but the last dimension\n",
    "    Y_flat = Y_batch.view(-1, Y_batch.shape[-1])  # Flatten labels in the same way\n",
    "    X_mean = X_flat.mean(dim=0)\n",
    "    X_std = X_flat.std(dim=0)\n",
    "    Y_mean = Y_flat.mean(dim=0)\n",
    "    Y_std = Y_flat.std(dim=0)\n",
    "    # Avoid division by zero for any constant feature\n",
    "    X_std[X_std == 0] = 1\n",
    "    Y_std[Y_std == 0] = 1\n",
    "    return X_mean, X_std, Y_mean, Y_std\n",
    "\n",
    "# Compute mean and std from the training set\n",
    "X_mean, X_std, Y_mean, Y_std = compute_mean_std(train_dataset)\n",
    "\n",
    "# Now create a normalized dataset by passing the computed mean and std\n",
    "class NormalizedMotionDataset(torch.utils.data.Dataset):\n",
    "    def __init__(self, X, Y, X_mean, X_std, Y_mean, Y_std):\n",
    "        self.X = (X - X_mean) / X_std\n",
    "        self.Y = (Y - Y_mean) / Y_std\n",
    "\n",
    "    def __len__(self):\n",
    "        return len(self.X)\n",
    "\n",
    "    def __getitem__(self, idx):\n",
    "        return self.X[idx], self.Y[idx]\n",
    "\n",
    "# Normalize each split using the mean and std from the training set\n",
    "train_X, train_Y = zip(*[(X, Y) for X, Y in train_dataset])\n",
    "val_X, val_Y = zip(*[(X, Y) for X, Y in val_dataset])\n",
    "test_X, test_Y = zip(*[(X, Y) for X, Y in test_dataset])\n",
    "\n",
    "train_X = torch.stack(train_X)\n",
    "train_Y = torch.stack(train_Y)\n",
    "val_X = torch.stack(val_X)\n",
    "val_Y = torch.stack(val_Y)\n",
    "test_X = torch.stack(test_X)\n",
    "test_Y = torch.stack(test_Y)\n",
    "\n",
    "# Create normalized datasets\n",
    "train_dataset = NormalizedMotionDataset(train_X, train_Y, X_mean, X_std, Y_mean, Y_std)\n",
    "val_dataset = NormalizedMotionDataset(val_X, val_Y, X_mean, X_std, Y_mean, Y_std)\n",
    "test_dataset = NormalizedMotionDataset(test_X, test_Y, X_mean, X_std, Y_mean, Y_std)\n",
    "\n",
    "# Now you have normalized datasets for training, validation, and testing\n",
    "print(f\"Train dataset length: {len(train_dataset)}\")\n",
    "print(f\"Validation dataset length: {len(val_dataset)}\")\n",
    "print(f\"Test dataset length: {len(test_dataset)}\")\n"
   ]
  },
  {
   "cell_type": "markdown",
   "metadata": {},
   "source": [
    "### Step 2: Model Implementation"
   ]
  },
  {
   "cell_type": "code",
   "execution_count": 126,
   "metadata": {},
   "outputs": [],
   "source": [
    "import torch.nn as nn\n",
    "import torch.nn.functional as F\n"
   ]
  },
  {
   "cell_type": "code",
   "execution_count": 230,
   "metadata": {},
   "outputs": [],
   "source": []
  },
  {
   "cell_type": "markdown",
   "metadata": {},
   "source": [
    "### Step 3: Custom Loss Function"
   ]
  },
  {
   "cell_type": "code",
   "execution_count": 127,
   "metadata": {},
   "outputs": [],
   "source": [
    "def custom_loss(y_pred, y_true, mask):\n",
    "    # mask: [batch_size, seq_len]\n",
    "    mask = mask.unsqueeze(-1)  # [batch_size, seq_len, 1]\n",
    "    mask = mask.float()\n",
    "    \n",
    "    # Position loss\n",
    "    position_loss = ((y_true - y_pred) ** 2) * mask\n",
    "    position_loss = position_loss.sum() / mask.sum()\n",
    "    \n",
    "    # Compute velocities\n",
    "    def compute_velocity(y):\n",
    "        y_shifted = torch.zeros_like(y)\n",
    "        y_shifted[:, 1:, :] = y[:, :-1, :]\n",
    "        velocity = (y - y_shifted) * mask\n",
    "        return velocity\n",
    "    \n",
    "    # Compute accelerations\n",
    "    def compute_acceleration(v):\n",
    "        v_shifted = torch.zeros_like(v)\n",
    "        v_shifted[:, 1:, :] = v[:, :-1, :]\n",
    "        acceleration = (v - v_shifted) * mask\n",
    "        return acceleration\n",
    "    \n",
    "    # Predicted velocities and accelerations\n",
    "    pred_velocity = compute_velocity(y_pred)\n",
    "    pred_acceleration = compute_acceleration(pred_velocity)\n",
    "    \n",
    "    # True velocities and accelerations\n",
    "    true_velocity = compute_velocity(y_true)\n",
    "    true_acceleration = compute_acceleration(true_velocity)\n",
    "    \n",
    "    # Velocity loss\n",
    "    velocity_loss = ((true_velocity - pred_velocity) ** 2) * mask\n",
    "    velocity_loss = velocity_loss.sum() / mask.sum()\n",
    "    \n",
    "    # Acceleration loss\n",
    "    acceleration_loss = ((true_acceleration - pred_acceleration) ** 2) * mask\n",
    "    acceleration_loss = acceleration_loss.sum() / mask.sum()\n",
    "    \n",
    "    # Total loss with weighting\n",
    "    total_loss = (\n",
    "        position_loss\n",
    "        + 0.1 * velocity_loss\n",
    "        + 0.01 * acceleration_loss\n",
    "    )\n",
    "    return total_loss\n"
   ]
  },
  {
   "cell_type": "markdown",
   "metadata": {},
   "source": [
    "### Step 4: Model Training"
   ]
  },
  {
   "cell_type": "code",
   "execution_count": 128,
   "metadata": {},
   "outputs": [],
   "source": [
    "from torch.nn.utils.rnn import pad_sequence\n",
    "\n",
    "def collate_fn(batch):\n",
    "    # batch is a list of tuples (X_item, Y_item)\n",
    "    X_batch, Y_batch = zip(*batch)\n",
    "    lengths = [x.size(0) for x in X_batch]\n",
    "    # Pad sequences\n",
    "    X_padded = pad_sequence(X_batch, batch_first=True, padding_value=0.0)\n",
    "    Y_padded = pad_sequence(Y_batch, batch_first=True, padding_value=0.0)\n",
    "    lengths = torch.tensor(lengths)\n",
    "    return X_padded, Y_padded, lengths\n",
    "\n",
    "batch_size = 16\n",
    "\n",
    "train_loader = DataLoader(\n",
    "    train_dataset, batch_size=batch_size, shuffle=True, collate_fn=collate_fn\n",
    ")\n",
    "val_loader = DataLoader(\n",
    "    val_dataset, batch_size=batch_size, shuffle=False, collate_fn=collate_fn\n",
    ")\n",
    "test_loader = DataLoader(\n",
    "    test_dataset, batch_size=batch_size, shuffle=False, collate_fn=collate_fn\n",
    ")\n"
   ]
  },
  {
   "cell_type": "code",
   "execution_count": 129,
   "metadata": {},
   "outputs": [
    {
     "name": "stdout",
     "output_type": "stream",
     "text": [
      "Using 2 GPUs\n"
     ]
    }
   ],
   "source": [
    "input_dim = X.shape[2]\n",
    "hidden_dim = 128\n",
    "output_dim = Y.shape[2]\n",
    "num_layers = 2\n",
    "\n",
    "# Initialize the model\n",
    "model = MotionModel(input_dim, hidden_dim, output_dim, num_layers)\n",
    "\n",
    "# Use DataParallel for multi-GPU support\n",
    "if torch.cuda.device_count() > 1:\n",
    "    print(f\"Using {torch.cuda.device_count()} GPUs\")\n",
    "    model = nn.DataParallel(model)\n",
    "\n",
    "# Move model to GPU\n",
    "device = torch.device(\"cuda\" if torch.cuda.is_available() else \"cpu\")\n",
    "model.to(device)\n",
    "\n",
    "# Define optimizer\n",
    "optimizer = torch.optim.Adam(model.parameters(), lr=1e-3)\n"
   ]
  },
  {
   "cell_type": "code",
   "execution_count": 130,
   "metadata": {},
   "outputs": [
    {
     "name": "stdout",
     "output_type": "stream",
     "text": [
      "12 128 12 2\n"
     ]
    }
   ],
   "source": [
    "print(input_dim, hidden_dim, output_dim, num_layers)"
   ]
  },
  {
   "cell_type": "code",
   "execution_count": 131,
   "metadata": {},
   "outputs": [
    {
     "name": "stderr",
     "output_type": "stream",
     "text": [
      "\n",
      "\u001b[A\n",
      "\u001b[A\n",
      "Epoch 1/100: 100%|██████████| 3/3 [00:00<00:00, 10.13it/s]\n"
     ]
    },
    {
     "name": "stdout",
     "output_type": "stream",
     "text": [
      "Epoch 1, Train Loss: 11.764702, Val Loss: 9.303294\n"
     ]
    },
    {
     "name": "stderr",
     "output_type": "stream",
     "text": [
      "\n",
      "\u001b[A\n",
      "Epoch 2/100: 100%|██████████| 3/3 [00:00<00:00,  9.74it/s]\n"
     ]
    },
    {
     "name": "stdout",
     "output_type": "stream",
     "text": [
      "Epoch 2, Train Loss: 10.254349, Val Loss: 6.579874\n"
     ]
    },
    {
     "name": "stderr",
     "output_type": "stream",
     "text": [
      "\n",
      "\u001b[A\n",
      "Epoch 3/100: 100%|██████████| 3/3 [00:00<00:00, 10.64it/s]\n"
     ]
    },
    {
     "name": "stdout",
     "output_type": "stream",
     "text": [
      "Epoch 3, Train Loss: 6.958852, Val Loss: 3.122000\n"
     ]
    },
    {
     "name": "stderr",
     "output_type": "stream",
     "text": [
      "\n",
      "\u001b[A\n",
      "Epoch 4/100: 100%|██████████| 3/3 [00:00<00:00, 11.44it/s]\n"
     ]
    },
    {
     "name": "stdout",
     "output_type": "stream",
     "text": [
      "Epoch 4, Train Loss: 4.586929, Val Loss: 2.443403\n"
     ]
    },
    {
     "name": "stderr",
     "output_type": "stream",
     "text": [
      "\n",
      "\u001b[A\n",
      "Epoch 5/100: 100%|██████████| 3/3 [00:00<00:00, 11.61it/s]\n"
     ]
    },
    {
     "name": "stdout",
     "output_type": "stream",
     "text": [
      "Epoch 5, Train Loss: 4.061169, Val Loss: 1.817776\n"
     ]
    },
    {
     "name": "stderr",
     "output_type": "stream",
     "text": [
      "\n",
      "\u001b[A\n",
      "Epoch 6/100: 100%|██████████| 3/3 [00:00<00:00, 11.53it/s]\n"
     ]
    },
    {
     "name": "stdout",
     "output_type": "stream",
     "text": [
      "Epoch 6, Train Loss: 3.313037, Val Loss: 1.247326\n"
     ]
    },
    {
     "name": "stderr",
     "output_type": "stream",
     "text": [
      "\n",
      "\u001b[A\n",
      "Epoch 7/100: 100%|██████████| 3/3 [00:00<00:00, 10.37it/s]\n"
     ]
    },
    {
     "name": "stdout",
     "output_type": "stream",
     "text": [
      "Epoch 7, Train Loss: 2.605093, Val Loss: 0.864641\n"
     ]
    },
    {
     "name": "stderr",
     "output_type": "stream",
     "text": [
      "\n",
      "\u001b[A\n",
      "Epoch 8/100: 100%|██████████| 3/3 [00:00<00:00, 12.00it/s]\n"
     ]
    },
    {
     "name": "stdout",
     "output_type": "stream",
     "text": [
      "Epoch 8, Train Loss: 2.166620, Val Loss: 0.605217\n"
     ]
    },
    {
     "name": "stderr",
     "output_type": "stream",
     "text": [
      "\n",
      "\u001b[A\n",
      "Epoch 9/100: 100%|██████████| 3/3 [00:00<00:00, 11.99it/s]\n"
     ]
    },
    {
     "name": "stdout",
     "output_type": "stream",
     "text": [
      "Epoch 9, Train Loss: 1.901019, Val Loss: 0.535475\n"
     ]
    },
    {
     "name": "stderr",
     "output_type": "stream",
     "text": [
      "\n",
      "\u001b[A\n",
      "Epoch 10/100: 100%|██████████| 3/3 [00:00<00:00, 11.55it/s]\n"
     ]
    },
    {
     "name": "stdout",
     "output_type": "stream",
     "text": [
      "Epoch 10, Train Loss: 1.820917, Val Loss: 0.438999\n"
     ]
    },
    {
     "name": "stderr",
     "output_type": "stream",
     "text": [
      "\n",
      "\u001b[A\n",
      "Epoch 11/100: 100%|██████████| 3/3 [00:00<00:00, 12.05it/s]\n"
     ]
    },
    {
     "name": "stdout",
     "output_type": "stream",
     "text": [
      "Epoch 11, Train Loss: 1.517047, Val Loss: 0.367985\n"
     ]
    },
    {
     "name": "stderr",
     "output_type": "stream",
     "text": [
      "\n",
      "\u001b[A\n",
      "Epoch 12/100: 100%|██████████| 3/3 [00:00<00:00, 11.55it/s]\n"
     ]
    },
    {
     "name": "stdout",
     "output_type": "stream",
     "text": [
      "Epoch 12, Train Loss: 1.351155, Val Loss: 0.350053\n"
     ]
    },
    {
     "name": "stderr",
     "output_type": "stream",
     "text": [
      "\n",
      "\u001b[A\n",
      "Epoch 13/100: 100%|██████████| 3/3 [00:00<00:00, 11.67it/s]\n"
     ]
    },
    {
     "name": "stdout",
     "output_type": "stream",
     "text": [
      "Epoch 13, Train Loss: 1.210363, Val Loss: 0.268832\n"
     ]
    },
    {
     "name": "stderr",
     "output_type": "stream",
     "text": [
      "\n",
      "\u001b[A\n",
      "Epoch 14/100: 100%|██████████| 3/3 [00:00<00:00, 10.97it/s]\n"
     ]
    },
    {
     "name": "stdout",
     "output_type": "stream",
     "text": [
      "Epoch 14, Train Loss: 1.036420, Val Loss: 0.219345\n"
     ]
    },
    {
     "name": "stderr",
     "output_type": "stream",
     "text": [
      "\n",
      "\u001b[A\n",
      "Epoch 15/100: 100%|██████████| 3/3 [00:00<00:00, 11.87it/s]\n"
     ]
    },
    {
     "name": "stdout",
     "output_type": "stream",
     "text": [
      "Epoch 15, Train Loss: 0.911803, Val Loss: 0.172712\n"
     ]
    },
    {
     "name": "stderr",
     "output_type": "stream",
     "text": [
      "\n",
      "\u001b[A\n",
      "Epoch 16/100: 100%|██████████| 3/3 [00:00<00:00, 11.33it/s]\n"
     ]
    },
    {
     "name": "stdout",
     "output_type": "stream",
     "text": [
      "Epoch 16, Train Loss: 0.793083, Val Loss: 0.140041\n"
     ]
    },
    {
     "name": "stderr",
     "output_type": "stream",
     "text": [
      "\n",
      "\u001b[A\n",
      "Epoch 17/100: 100%|██████████| 3/3 [00:00<00:00, 11.96it/s]\n"
     ]
    },
    {
     "name": "stdout",
     "output_type": "stream",
     "text": [
      "Epoch 17, Train Loss: 0.703489, Val Loss: 0.095179\n"
     ]
    },
    {
     "name": "stderr",
     "output_type": "stream",
     "text": [
      "\n",
      "\u001b[A\n",
      "Epoch 18/100: 100%|██████████| 3/3 [00:00<00:00, 11.61it/s]\n"
     ]
    },
    {
     "name": "stdout",
     "output_type": "stream",
     "text": [
      "Epoch 18, Train Loss: 0.618863, Val Loss: 0.096814\n"
     ]
    },
    {
     "name": "stderr",
     "output_type": "stream",
     "text": [
      "\n",
      "\u001b[A\n",
      "Epoch 19/100: 100%|██████████| 3/3 [00:00<00:00, 10.88it/s]\n"
     ]
    },
    {
     "name": "stdout",
     "output_type": "stream",
     "text": [
      "Epoch 19, Train Loss: 0.572879, Val Loss: 0.100543\n"
     ]
    },
    {
     "name": "stderr",
     "output_type": "stream",
     "text": [
      "\n",
      "\u001b[A\n",
      "Epoch 20/100: 100%|██████████| 3/3 [00:00<00:00, 11.61it/s]\n"
     ]
    },
    {
     "name": "stdout",
     "output_type": "stream",
     "text": [
      "Epoch 20, Train Loss: 0.519290, Val Loss: 0.127100\n"
     ]
    },
    {
     "name": "stderr",
     "output_type": "stream",
     "text": [
      "\n",
      "\u001b[A\n",
      "Epoch 21/100: 100%|██████████| 3/3 [00:00<00:00, 11.09it/s]\n"
     ]
    },
    {
     "name": "stdout",
     "output_type": "stream",
     "text": [
      "Epoch 21, Train Loss: 0.485970, Val Loss: 0.082304\n"
     ]
    },
    {
     "name": "stderr",
     "output_type": "stream",
     "text": [
      "\n",
      "\u001b[A\n",
      "Epoch 22/100: 100%|██████████| 3/3 [00:00<00:00, 11.70it/s]\n"
     ]
    },
    {
     "name": "stdout",
     "output_type": "stream",
     "text": [
      "Epoch 22, Train Loss: 0.451157, Val Loss: 0.090515\n"
     ]
    },
    {
     "name": "stderr",
     "output_type": "stream",
     "text": [
      "\n",
      "\u001b[A\n",
      "Epoch 23/100: 100%|██████████| 3/3 [00:00<00:00, 10.58it/s]\n"
     ]
    },
    {
     "name": "stdout",
     "output_type": "stream",
     "text": [
      "Epoch 23, Train Loss: 0.430065, Val Loss: 0.070718\n"
     ]
    },
    {
     "name": "stderr",
     "output_type": "stream",
     "text": [
      "\n",
      "\u001b[A\n",
      "Epoch 24/100: 100%|██████████| 3/3 [00:00<00:00, 11.75it/s]\n"
     ]
    },
    {
     "name": "stdout",
     "output_type": "stream",
     "text": [
      "Epoch 24, Train Loss: 0.407819, Val Loss: 0.074730\n"
     ]
    },
    {
     "name": "stderr",
     "output_type": "stream",
     "text": [
      "\n",
      "\u001b[A\n",
      "Epoch 25/100: 100%|██████████| 3/3 [00:00<00:00, 11.72it/s]\n"
     ]
    },
    {
     "name": "stdout",
     "output_type": "stream",
     "text": [
      "Epoch 25, Train Loss: 0.389897, Val Loss: 0.064270\n"
     ]
    },
    {
     "name": "stderr",
     "output_type": "stream",
     "text": [
      "\n",
      "\u001b[A\n",
      "Epoch 26/100: 100%|██████████| 3/3 [00:00<00:00, 11.62it/s]\n"
     ]
    },
    {
     "name": "stdout",
     "output_type": "stream",
     "text": [
      "Epoch 26, Train Loss: 0.369394, Val Loss: 0.060071\n"
     ]
    },
    {
     "name": "stderr",
     "output_type": "stream",
     "text": [
      "\n",
      "\u001b[A\n",
      "Epoch 27/100: 100%|██████████| 3/3 [00:00<00:00, 11.51it/s]\n"
     ]
    },
    {
     "name": "stdout",
     "output_type": "stream",
     "text": [
      "Epoch 27, Train Loss: 0.353500, Val Loss: 0.075654\n"
     ]
    },
    {
     "name": "stderr",
     "output_type": "stream",
     "text": [
      "\n",
      "\u001b[A\n",
      "Epoch 28/100: 100%|██████████| 3/3 [00:00<00:00, 11.69it/s]\n"
     ]
    },
    {
     "name": "stdout",
     "output_type": "stream",
     "text": [
      "Epoch 28, Train Loss: 0.344976, Val Loss: 0.054111\n"
     ]
    },
    {
     "name": "stderr",
     "output_type": "stream",
     "text": [
      "\n",
      "\u001b[A\n",
      "Epoch 29/100: 100%|██████████| 3/3 [00:00<00:00, 10.93it/s]\n"
     ]
    },
    {
     "name": "stdout",
     "output_type": "stream",
     "text": [
      "Epoch 29, Train Loss: 0.328363, Val Loss: 0.058586\n"
     ]
    },
    {
     "name": "stderr",
     "output_type": "stream",
     "text": [
      "\n",
      "\u001b[A\n",
      "Epoch 30/100: 100%|██████████| 3/3 [00:00<00:00, 11.45it/s]\n"
     ]
    },
    {
     "name": "stdout",
     "output_type": "stream",
     "text": [
      "Epoch 30, Train Loss: 0.320303, Val Loss: 0.049893\n"
     ]
    },
    {
     "name": "stderr",
     "output_type": "stream",
     "text": [
      "\n",
      "\u001b[A\n",
      "Epoch 31/100: 100%|██████████| 3/3 [00:00<00:00, 11.35it/s]\n"
     ]
    },
    {
     "name": "stdout",
     "output_type": "stream",
     "text": [
      "Epoch 31, Train Loss: 0.310710, Val Loss: 0.046939\n"
     ]
    },
    {
     "name": "stderr",
     "output_type": "stream",
     "text": [
      "\n",
      "\u001b[A\n",
      "Epoch 32/100: 100%|██████████| 3/3 [00:00<00:00, 11.53it/s]\n"
     ]
    },
    {
     "name": "stdout",
     "output_type": "stream",
     "text": [
      "Epoch 32, Train Loss: 0.299469, Val Loss: 0.054253\n"
     ]
    },
    {
     "name": "stderr",
     "output_type": "stream",
     "text": [
      "\n",
      "\u001b[A\n",
      "Epoch 33/100: 100%|██████████| 3/3 [00:00<00:00, 11.66it/s]\n"
     ]
    },
    {
     "name": "stdout",
     "output_type": "stream",
     "text": [
      "Epoch 33, Train Loss: 0.301806, Val Loss: 0.046908\n"
     ]
    },
    {
     "name": "stderr",
     "output_type": "stream",
     "text": [
      "\n",
      "\u001b[A\n",
      "Epoch 34/100: 100%|██████████| 3/3 [00:00<00:00, 10.33it/s]\n"
     ]
    },
    {
     "name": "stdout",
     "output_type": "stream",
     "text": [
      "Epoch 34, Train Loss: 0.288522, Val Loss: 0.051872\n"
     ]
    },
    {
     "name": "stderr",
     "output_type": "stream",
     "text": [
      "\n",
      "\u001b[A\n",
      "Epoch 35/100: 100%|██████████| 3/3 [00:00<00:00, 11.68it/s]\n"
     ]
    },
    {
     "name": "stdout",
     "output_type": "stream",
     "text": [
      "Epoch 35, Train Loss: 0.281641, Val Loss: 0.039941\n"
     ]
    },
    {
     "name": "stderr",
     "output_type": "stream",
     "text": [
      "\n",
      "\u001b[A\n",
      "Epoch 36/100: 100%|██████████| 3/3 [00:00<00:00, 11.52it/s]\n"
     ]
    },
    {
     "name": "stdout",
     "output_type": "stream",
     "text": [
      "Epoch 36, Train Loss: 0.275107, Val Loss: 0.044249\n"
     ]
    },
    {
     "name": "stderr",
     "output_type": "stream",
     "text": [
      "\n",
      "\u001b[A\n",
      "Epoch 37/100: 100%|██████████| 3/3 [00:00<00:00, 11.87it/s]\n"
     ]
    },
    {
     "name": "stdout",
     "output_type": "stream",
     "text": [
      "Epoch 37, Train Loss: 0.269015, Val Loss: 0.043211\n"
     ]
    },
    {
     "name": "stderr",
     "output_type": "stream",
     "text": [
      "\n",
      "\u001b[A\n",
      "Epoch 38/100: 100%|██████████| 3/3 [00:00<00:00, 11.84it/s]\n"
     ]
    },
    {
     "name": "stdout",
     "output_type": "stream",
     "text": [
      "Epoch 38, Train Loss: 0.264018, Val Loss: 0.040099\n"
     ]
    },
    {
     "name": "stderr",
     "output_type": "stream",
     "text": [
      "\n",
      "\u001b[A\n",
      "Epoch 39/100: 100%|██████████| 3/3 [00:00<00:00, 11.77it/s]\n"
     ]
    },
    {
     "name": "stdout",
     "output_type": "stream",
     "text": [
      "Epoch 39, Train Loss: 0.263257, Val Loss: 0.039588\n"
     ]
    },
    {
     "name": "stderr",
     "output_type": "stream",
     "text": [
      "\n",
      "\u001b[A\n",
      "Epoch 40/100: 100%|██████████| 3/3 [00:00<00:00, 11.59it/s]\n"
     ]
    },
    {
     "name": "stdout",
     "output_type": "stream",
     "text": [
      "Epoch 40, Train Loss: 0.257858, Val Loss: 0.044178\n"
     ]
    },
    {
     "name": "stderr",
     "output_type": "stream",
     "text": [
      "\n",
      "\u001b[A\n",
      "Epoch 41/100: 100%|██████████| 3/3 [00:00<00:00, 11.45it/s]\n"
     ]
    },
    {
     "name": "stdout",
     "output_type": "stream",
     "text": [
      "Epoch 41, Train Loss: 0.259931, Val Loss: 0.040297\n"
     ]
    },
    {
     "name": "stderr",
     "output_type": "stream",
     "text": [
      "\n",
      "\u001b[A\n",
      "Epoch 42/100: 100%|██████████| 3/3 [00:00<00:00, 10.53it/s]\n"
     ]
    },
    {
     "name": "stdout",
     "output_type": "stream",
     "text": [
      "Epoch 42, Train Loss: 0.254516, Val Loss: 0.036637\n"
     ]
    },
    {
     "name": "stderr",
     "output_type": "stream",
     "text": [
      "\n",
      "\u001b[A\n",
      "Epoch 43/100: 100%|██████████| 3/3 [00:00<00:00, 11.82it/s]\n"
     ]
    },
    {
     "name": "stdout",
     "output_type": "stream",
     "text": [
      "Epoch 43, Train Loss: 0.246631, Val Loss: 0.037088\n"
     ]
    },
    {
     "name": "stderr",
     "output_type": "stream",
     "text": [
      "\n",
      "\u001b[A\n",
      "Epoch 44/100: 100%|██████████| 3/3 [00:00<00:00, 11.67it/s]\n"
     ]
    },
    {
     "name": "stdout",
     "output_type": "stream",
     "text": [
      "Epoch 44, Train Loss: 0.249006, Val Loss: 0.035082\n"
     ]
    },
    {
     "name": "stderr",
     "output_type": "stream",
     "text": [
      "\n",
      "\u001b[A\n",
      "Epoch 45/100: 100%|██████████| 3/3 [00:00<00:00, 11.13it/s]\n"
     ]
    },
    {
     "name": "stdout",
     "output_type": "stream",
     "text": [
      "Epoch 45, Train Loss: 0.243572, Val Loss: 0.039763\n"
     ]
    },
    {
     "name": "stderr",
     "output_type": "stream",
     "text": [
      "\n",
      "\u001b[A\n",
      "Epoch 46/100: 100%|██████████| 3/3 [00:00<00:00, 11.43it/s]\n"
     ]
    },
    {
     "name": "stdout",
     "output_type": "stream",
     "text": [
      "Epoch 46, Train Loss: 0.243221, Val Loss: 0.035034\n"
     ]
    },
    {
     "name": "stderr",
     "output_type": "stream",
     "text": [
      "\n",
      "\u001b[A\n",
      "Epoch 47/100: 100%|██████████| 3/3 [00:00<00:00, 11.38it/s]\n"
     ]
    },
    {
     "name": "stdout",
     "output_type": "stream",
     "text": [
      "Epoch 47, Train Loss: 0.232625, Val Loss: 0.035493\n"
     ]
    },
    {
     "name": "stderr",
     "output_type": "stream",
     "text": [
      "\n",
      "\u001b[A\n",
      "Epoch 48/100: 100%|██████████| 3/3 [00:00<00:00, 10.02it/s]\n"
     ]
    },
    {
     "name": "stdout",
     "output_type": "stream",
     "text": [
      "Epoch 48, Train Loss: 0.236535, Val Loss: 0.031907\n"
     ]
    },
    {
     "name": "stderr",
     "output_type": "stream",
     "text": [
      "\n",
      "\u001b[A\n",
      "Epoch 49/100: 100%|██████████| 3/3 [00:00<00:00, 11.42it/s]\n"
     ]
    },
    {
     "name": "stdout",
     "output_type": "stream",
     "text": [
      "Epoch 49, Train Loss: 0.231343, Val Loss: 0.031404\n"
     ]
    },
    {
     "name": "stderr",
     "output_type": "stream",
     "text": [
      "\n",
      "\u001b[A\n",
      "Epoch 50/100: 100%|██████████| 3/3 [00:00<00:00, 11.28it/s]\n"
     ]
    },
    {
     "name": "stdout",
     "output_type": "stream",
     "text": [
      "Epoch 50, Train Loss: 0.227034, Val Loss: 0.033083\n"
     ]
    },
    {
     "name": "stderr",
     "output_type": "stream",
     "text": [
      "\n",
      "\u001b[A\n",
      "Epoch 51/100: 100%|██████████| 3/3 [00:00<00:00, 11.87it/s]\n"
     ]
    },
    {
     "name": "stdout",
     "output_type": "stream",
     "text": [
      "Epoch 51, Train Loss: 0.221240, Val Loss: 0.029348\n"
     ]
    },
    {
     "name": "stderr",
     "output_type": "stream",
     "text": [
      "\n",
      "\u001b[A\n",
      "Epoch 52/100: 100%|██████████| 3/3 [00:00<00:00, 11.71it/s]\n"
     ]
    },
    {
     "name": "stdout",
     "output_type": "stream",
     "text": [
      "Epoch 52, Train Loss: 0.220319, Val Loss: 0.029001\n"
     ]
    },
    {
     "name": "stderr",
     "output_type": "stream",
     "text": [
      "\n",
      "\u001b[A\n",
      "Epoch 53/100: 100%|██████████| 3/3 [00:00<00:00, 11.54it/s]\n"
     ]
    },
    {
     "name": "stdout",
     "output_type": "stream",
     "text": [
      "Epoch 53, Train Loss: 0.216203, Val Loss: 0.025750\n"
     ]
    },
    {
     "name": "stderr",
     "output_type": "stream",
     "text": [
      "\n",
      "\u001b[A\n",
      "Epoch 54/100: 100%|██████████| 3/3 [00:00<00:00, 11.98it/s]\n"
     ]
    },
    {
     "name": "stdout",
     "output_type": "stream",
     "text": [
      "Epoch 54, Train Loss: 0.214724, Val Loss: 0.027358\n"
     ]
    },
    {
     "name": "stderr",
     "output_type": "stream",
     "text": [
      "\n",
      "\u001b[A\n",
      "Epoch 55/100: 100%|██████████| 3/3 [00:00<00:00, 11.81it/s]\n"
     ]
    },
    {
     "name": "stdout",
     "output_type": "stream",
     "text": [
      "Epoch 55, Train Loss: 0.208606, Val Loss: 0.025057\n"
     ]
    },
    {
     "name": "stderr",
     "output_type": "stream",
     "text": [
      "\n",
      "\u001b[A\n",
      "Epoch 56/100: 100%|██████████| 3/3 [00:00<00:00, 11.25it/s]\n"
     ]
    },
    {
     "name": "stdout",
     "output_type": "stream",
     "text": [
      "Epoch 56, Train Loss: 0.208790, Val Loss: 0.023548\n"
     ]
    },
    {
     "name": "stderr",
     "output_type": "stream",
     "text": [
      "\n",
      "\u001b[A\n",
      "Epoch 57/100: 100%|██████████| 3/3 [00:00<00:00, 11.45it/s]\n"
     ]
    },
    {
     "name": "stdout",
     "output_type": "stream",
     "text": [
      "Epoch 57, Train Loss: 0.203974, Val Loss: 0.024659\n"
     ]
    },
    {
     "name": "stderr",
     "output_type": "stream",
     "text": [
      "\n",
      "\u001b[A\n",
      "Epoch 58/100: 100%|██████████| 3/3 [00:00<00:00, 11.51it/s]\n"
     ]
    },
    {
     "name": "stdout",
     "output_type": "stream",
     "text": [
      "Epoch 58, Train Loss: 0.202362, Val Loss: 0.026567\n"
     ]
    },
    {
     "name": "stderr",
     "output_type": "stream",
     "text": [
      "\n",
      "\u001b[A\n",
      "Epoch 59/100: 100%|██████████| 3/3 [00:00<00:00, 10.80it/s]\n"
     ]
    },
    {
     "name": "stdout",
     "output_type": "stream",
     "text": [
      "Epoch 59, Train Loss: 0.203398, Val Loss: 0.028584\n"
     ]
    },
    {
     "name": "stderr",
     "output_type": "stream",
     "text": [
      "\n",
      "\u001b[A\n",
      "Epoch 60/100: 100%|██████████| 3/3 [00:00<00:00, 10.73it/s]\n"
     ]
    },
    {
     "name": "stdout",
     "output_type": "stream",
     "text": [
      "Epoch 60, Train Loss: 0.203768, Val Loss: 0.029858\n"
     ]
    },
    {
     "name": "stderr",
     "output_type": "stream",
     "text": [
      "\n",
      "\u001b[A\n",
      "Epoch 61/100: 100%|██████████| 3/3 [00:00<00:00, 11.58it/s]\n"
     ]
    },
    {
     "name": "stdout",
     "output_type": "stream",
     "text": [
      "Epoch 61, Train Loss: 0.199185, Val Loss: 0.026448\n"
     ]
    },
    {
     "name": "stderr",
     "output_type": "stream",
     "text": [
      "\n",
      "\u001b[A\n",
      "Epoch 62/100: 100%|██████████| 3/3 [00:00<00:00, 11.95it/s]\n"
     ]
    },
    {
     "name": "stdout",
     "output_type": "stream",
     "text": [
      "Epoch 62, Train Loss: 0.200890, Val Loss: 0.023349\n"
     ]
    },
    {
     "name": "stderr",
     "output_type": "stream",
     "text": [
      "\n",
      "\u001b[A\n",
      "Epoch 63/100: 100%|██████████| 3/3 [00:00<00:00, 11.13it/s]\n"
     ]
    },
    {
     "name": "stdout",
     "output_type": "stream",
     "text": [
      "Epoch 63, Train Loss: 0.195725, Val Loss: 0.022166\n"
     ]
    },
    {
     "name": "stderr",
     "output_type": "stream",
     "text": [
      "\n",
      "\u001b[A\n",
      "Epoch 64/100: 100%|██████████| 3/3 [00:00<00:00, 11.75it/s]\n"
     ]
    },
    {
     "name": "stdout",
     "output_type": "stream",
     "text": [
      "Epoch 64, Train Loss: 0.192339, Val Loss: 0.024290\n"
     ]
    },
    {
     "name": "stderr",
     "output_type": "stream",
     "text": [
      "\n",
      "\u001b[A\n",
      "Epoch 65/100: 100%|██████████| 3/3 [00:00<00:00, 11.24it/s]\n"
     ]
    },
    {
     "name": "stdout",
     "output_type": "stream",
     "text": [
      "Epoch 65, Train Loss: 0.194757, Val Loss: 0.020903\n"
     ]
    },
    {
     "name": "stderr",
     "output_type": "stream",
     "text": [
      "\n",
      "\u001b[A\n",
      "Epoch 66/100: 100%|██████████| 3/3 [00:00<00:00, 10.94it/s]\n"
     ]
    },
    {
     "name": "stdout",
     "output_type": "stream",
     "text": [
      "Epoch 66, Train Loss: 0.191967, Val Loss: 0.023306\n"
     ]
    },
    {
     "name": "stderr",
     "output_type": "stream",
     "text": [
      "\n",
      "\u001b[A\n",
      "Epoch 67/100: 100%|██████████| 3/3 [00:00<00:00, 10.40it/s]\n"
     ]
    },
    {
     "name": "stdout",
     "output_type": "stream",
     "text": [
      "Epoch 67, Train Loss: 0.189706, Val Loss: 0.023657\n"
     ]
    },
    {
     "name": "stderr",
     "output_type": "stream",
     "text": [
      "\n",
      "\u001b[A\n",
      "Epoch 68/100: 100%|██████████| 3/3 [00:00<00:00, 10.34it/s]\n"
     ]
    },
    {
     "name": "stdout",
     "output_type": "stream",
     "text": [
      "Epoch 68, Train Loss: 0.191571, Val Loss: 0.021069\n"
     ]
    },
    {
     "name": "stderr",
     "output_type": "stream",
     "text": [
      "\n",
      "\u001b[A\n",
      "Epoch 69/100: 100%|██████████| 3/3 [00:00<00:00, 11.67it/s]\n"
     ]
    },
    {
     "name": "stdout",
     "output_type": "stream",
     "text": [
      "Epoch 69, Train Loss: 0.188799, Val Loss: 0.021280\n"
     ]
    },
    {
     "name": "stderr",
     "output_type": "stream",
     "text": [
      "\n",
      "\u001b[A\n",
      "Epoch 70/100: 100%|██████████| 3/3 [00:00<00:00, 12.04it/s]\n"
     ]
    },
    {
     "name": "stdout",
     "output_type": "stream",
     "text": [
      "Epoch 70, Train Loss: 0.184306, Val Loss: 0.024218\n"
     ]
    },
    {
     "name": "stderr",
     "output_type": "stream",
     "text": [
      "\n",
      "\u001b[A\n",
      "Epoch 71/100: 100%|██████████| 3/3 [00:00<00:00, 11.72it/s]\n"
     ]
    },
    {
     "name": "stdout",
     "output_type": "stream",
     "text": [
      "Epoch 71, Train Loss: 0.185457, Val Loss: 0.022568\n"
     ]
    },
    {
     "name": "stderr",
     "output_type": "stream",
     "text": [
      "\n",
      "\u001b[A\n",
      "Epoch 72/100: 100%|██████████| 3/3 [00:00<00:00, 11.47it/s]\n"
     ]
    },
    {
     "name": "stdout",
     "output_type": "stream",
     "text": [
      "Epoch 72, Train Loss: 0.185874, Val Loss: 0.022809\n"
     ]
    },
    {
     "name": "stderr",
     "output_type": "stream",
     "text": [
      "\n",
      "\u001b[A\n",
      "Epoch 73/100: 100%|██████████| 3/3 [00:00<00:00, 11.23it/s]\n"
     ]
    },
    {
     "name": "stdout",
     "output_type": "stream",
     "text": [
      "Epoch 73, Train Loss: 0.184191, Val Loss: 0.024899\n"
     ]
    },
    {
     "name": "stderr",
     "output_type": "stream",
     "text": [
      "\n",
      "\u001b[A\n",
      "Epoch 74/100: 100%|██████████| 3/3 [00:00<00:00, 10.91it/s]\n"
     ]
    },
    {
     "name": "stdout",
     "output_type": "stream",
     "text": [
      "Epoch 74, Train Loss: 0.181517, Val Loss: 0.019162\n"
     ]
    },
    {
     "name": "stderr",
     "output_type": "stream",
     "text": [
      "\n",
      "\u001b[A\n",
      "Epoch 75/100: 100%|██████████| 3/3 [00:00<00:00, 11.09it/s]\n"
     ]
    },
    {
     "name": "stdout",
     "output_type": "stream",
     "text": [
      "Epoch 75, Train Loss: 0.179161, Val Loss: 0.022198\n"
     ]
    },
    {
     "name": "stderr",
     "output_type": "stream",
     "text": [
      "\n",
      "\u001b[A\n",
      "Epoch 76/100: 100%|██████████| 3/3 [00:00<00:00, 11.99it/s]\n"
     ]
    },
    {
     "name": "stdout",
     "output_type": "stream",
     "text": [
      "Epoch 76, Train Loss: 0.183585, Val Loss: 0.019012\n"
     ]
    },
    {
     "name": "stderr",
     "output_type": "stream",
     "text": [
      "\n",
      "\u001b[A\n",
      "Epoch 77/100: 100%|██████████| 3/3 [00:00<00:00, 11.53it/s]\n"
     ]
    },
    {
     "name": "stdout",
     "output_type": "stream",
     "text": [
      "Epoch 77, Train Loss: 0.179938, Val Loss: 0.019714\n"
     ]
    },
    {
     "name": "stderr",
     "output_type": "stream",
     "text": [
      "\n",
      "\u001b[A\n",
      "Epoch 78/100: 100%|██████████| 3/3 [00:00<00:00, 11.89it/s]\n"
     ]
    },
    {
     "name": "stdout",
     "output_type": "stream",
     "text": [
      "Epoch 78, Train Loss: 0.185258, Val Loss: 0.022194\n"
     ]
    },
    {
     "name": "stderr",
     "output_type": "stream",
     "text": [
      "\n",
      "\u001b[A\n",
      "Epoch 79/100: 100%|██████████| 3/3 [00:00<00:00, 11.09it/s]\n"
     ]
    },
    {
     "name": "stdout",
     "output_type": "stream",
     "text": [
      "Epoch 79, Train Loss: 0.182881, Val Loss: 0.022191\n"
     ]
    },
    {
     "name": "stderr",
     "output_type": "stream",
     "text": [
      "\n",
      "\u001b[A\n",
      "Epoch 80/100: 100%|██████████| 3/3 [00:00<00:00, 10.92it/s]\n"
     ]
    },
    {
     "name": "stdout",
     "output_type": "stream",
     "text": [
      "Epoch 80, Train Loss: 0.183438, Val Loss: 0.030571\n"
     ]
    },
    {
     "name": "stderr",
     "output_type": "stream",
     "text": [
      "\n",
      "\u001b[A\n",
      "Epoch 81/100: 100%|██████████| 3/3 [00:00<00:00,  9.78it/s]\n"
     ]
    },
    {
     "name": "stdout",
     "output_type": "stream",
     "text": [
      "Epoch 81, Train Loss: 0.192299, Val Loss: 0.021956\n"
     ]
    },
    {
     "name": "stderr",
     "output_type": "stream",
     "text": [
      "\n",
      "\u001b[A\n",
      "Epoch 82/100: 100%|██████████| 3/3 [00:00<00:00, 11.46it/s]\n"
     ]
    },
    {
     "name": "stdout",
     "output_type": "stream",
     "text": [
      "Epoch 82, Train Loss: 0.183581, Val Loss: 0.022506\n"
     ]
    },
    {
     "name": "stderr",
     "output_type": "stream",
     "text": [
      "\n",
      "\u001b[A\n",
      "Epoch 83/100: 100%|██████████| 3/3 [00:00<00:00, 11.04it/s]\n"
     ]
    },
    {
     "name": "stdout",
     "output_type": "stream",
     "text": [
      "Epoch 83, Train Loss: 0.184677, Val Loss: 0.020562\n"
     ]
    },
    {
     "name": "stderr",
     "output_type": "stream",
     "text": [
      "\n",
      "\u001b[A\n",
      "Epoch 84/100: 100%|██████████| 3/3 [00:00<00:00, 11.56it/s]\n"
     ]
    },
    {
     "name": "stdout",
     "output_type": "stream",
     "text": [
      "Epoch 84, Train Loss: 0.184942, Val Loss: 0.042985\n"
     ]
    },
    {
     "name": "stderr",
     "output_type": "stream",
     "text": [
      "\n",
      "\u001b[A\n",
      "Epoch 85/100: 100%|██████████| 3/3 [00:00<00:00, 10.88it/s]\n"
     ]
    },
    {
     "name": "stdout",
     "output_type": "stream",
     "text": [
      "Epoch 85, Train Loss: 0.192499, Val Loss: 0.036147\n"
     ]
    },
    {
     "name": "stderr",
     "output_type": "stream",
     "text": [
      "\n",
      "\u001b[A\n",
      "Epoch 86/100: 100%|██████████| 3/3 [00:00<00:00, 10.64it/s]"
     ]
    },
    {
     "name": "stdout",
     "output_type": "stream",
     "text": [
      "Epoch 86, Train Loss: 0.192508, Val Loss: 0.030601\n",
      "Early stopping\n"
     ]
    },
    {
     "name": "stderr",
     "output_type": "stream",
     "text": [
      "\n"
     ]
    }
   ],
   "source": [
    "from tqdm import tqdm\n",
    "\n",
    "num_epochs = 100\n",
    "best_val_loss = float('inf')\n",
    "patience = 10\n",
    "epochs_no_improve = 0\n",
    "\n",
    "for epoch in range(num_epochs):\n",
    "    model.train()\n",
    "    train_loss = 0.0\n",
    "    for X_batch, Y_batch, lengths in tqdm(train_loader, desc=f\"Epoch {epoch+1}/{num_epochs}\"):\n",
    "        X_batch = X_batch.to(device)\n",
    "        Y_batch = Y_batch.to(device)\n",
    "        lengths = lengths.to(device)  # Original lengths, not padded lengths\n",
    "        \n",
    "        optimizer.zero_grad()\n",
    "        outputs, mask = model(X_batch, lengths)  # Pass correct lengths for masking\n",
    "        \n",
    "        loss = custom_loss(outputs, Y_batch, mask)\n",
    "        loss.backward()\n",
    "        torch.nn.utils.clip_grad_norm_(model.parameters(), max_norm=1.0)\n",
    "        optimizer.step()\n",
    "        \n",
    "        train_loss += loss.item() * X_batch.size(0)\n",
    "    \n",
    "    train_loss /= len(train_dataset)\n",
    "    \n",
    "    # Validation\n",
    "    model.eval()\n",
    "    val_loss = 0.0\n",
    "    with torch.no_grad():\n",
    "        for X_batch, Y_batch, lengths in val_loader:\n",
    "            X_batch = X_batch.to(device)\n",
    "            Y_batch = Y_batch.to(device)\n",
    "            lengths = lengths.to(device)  # Original lengths, not padded lengths\n",
    "            \n",
    "            outputs, mask = model(X_batch, lengths)  # Pass correct lengths for masking\n",
    "            \n",
    "            loss = custom_loss(outputs, Y_batch, mask)\n",
    "            val_loss += loss.item() * X_batch.size(0)\n",
    "\n",
    "    val_loss /= len(val_dataset)\n",
    "    \n",
    "    print(f\"Epoch {epoch+1}, Train Loss: {train_loss:.6f}, Val Loss: {val_loss:.6f}\")\n",
    "    \n",
    "    # Check for improvement\n",
    "    if val_loss < best_val_loss:\n",
    "        best_val_loss = val_loss\n",
    "        epochs_no_improve = 0\n",
    "        # Save the model\n",
    "        torch.save(X_mean, 'X_mean.pth')\n",
    "        torch.save(X_std, 'X_std.pth')\n",
    "        torch.save(Y_mean, 'Y_mean.pth')\n",
    "        torch.save(Y_std, 'Y_std.pth')\n",
    "\n",
    "        torch.save(model.state_dict(), 'best_model.pth')\n",
    "    else:\n",
    "        epochs_no_improve += 1\n",
    "        if epochs_no_improve >= patience:\n",
    "            print(\"Early stopping\")\n",
    "            break\n"
   ]
  },
  {
   "cell_type": "markdown",
   "metadata": {},
   "source": [
    "### Step 5: Evaluation and Fine-Tuning"
   ]
  },
  {
   "cell_type": "code",
   "execution_count": 132,
   "metadata": {},
   "outputs": [
    {
     "name": "stdout",
     "output_type": "stream",
     "text": [
      "Test Loss: 0.019182\n"
     ]
    },
    {
     "name": "stderr",
     "output_type": "stream",
     "text": [
      "/tmp/ipykernel_200863/2864630211.py:2: FutureWarning: You are using `torch.load` with `weights_only=False` (the current default value), which uses the default pickle module implicitly. It is possible to construct malicious pickle data which will execute arbitrary code during unpickling (See https://github.com/pytorch/pytorch/blob/main/SECURITY.md#untrusted-models for more details). In a future release, the default value for `weights_only` will be flipped to `True`. This limits the functions that could be executed during unpickling. Arbitrary objects will no longer be allowed to be loaded via this mode unless they are explicitly allowlisted by the user via `torch.serialization.add_safe_globals`. We recommend you start setting `weights_only=True` for any use case where you don't have full control of the loaded file. Please open an issue on GitHub for any issues related to this experimental feature.\n",
      "  model.load_state_dict(torch.load('best_model.pth'))\n"
     ]
    }
   ],
   "source": [
    "# Load the best model\n",
    "model.load_state_dict(torch.load('best_model.pth'))\n",
    "\n",
    "model.eval()\n",
    "test_loss = 0.0\n",
    "with torch.no_grad():\n",
    "    for X_batch, Y_batch, lengths in test_loader:\n",
    "        X_batch = X_batch.to(device)\n",
    "        Y_batch = Y_batch.to(device)\n",
    "        lengths = lengths.to(device)\n",
    "        \n",
    "        outputs, mask = model(X_batch, lengths)\n",
    "        \n",
    "        loss = custom_loss(outputs, Y_batch, mask)\n",
    "        test_loss += loss.item() * X_batch.size(0)\n",
    "test_loss /= len(test_dataset)\n",
    "print(f\"Test Loss: {test_loss:.6f}\")\n"
   ]
  },
  {
   "cell_type": "code",
   "execution_count": 133,
   "metadata": {},
   "outputs": [
    {
     "name": "stdout",
     "output_type": "stream",
     "text": [
      "torch.Size([6, 993, 12])\n",
      "torch.Size([1, 474, 12])\n"
     ]
    },
    {
     "name": "stderr",
     "output_type": "stream",
     "text": [
      "Exception ignored in: <function tqdm.__del__ at 0x7f0ed5b1d3a0>\n",
      "Traceback (most recent call last):\n",
      "  File \"/home/tm_ba/miniconda3/envs/BA/lib/python3.11/site-packages/tqdm/std.py\", line 1148, in __del__\n",
      "    self.close()\n",
      "  File \"/home/tm_ba/miniconda3/envs/BA/lib/python3.11/site-packages/tqdm/notebook.py\", line 279, in close\n",
      "    self.disp(bar_style='danger', check_delay=False)\n",
      "    ^^^^^^^^^\n",
      "AttributeError: 'tqdm_notebook' object has no attribute 'disp'\n",
      "Exception ignored in: <function tqdm.__del__ at 0x7f0ed5b1d3a0>\n",
      "Traceback (most recent call last):\n",
      "  File \"/home/tm_ba/miniconda3/envs/BA/lib/python3.11/site-packages/tqdm/std.py\", line 1148, in __del__\n",
      "    self.close()\n",
      "  File \"/home/tm_ba/miniconda3/envs/BA/lib/python3.11/site-packages/tqdm/notebook.py\", line 279, in close\n",
      "    self.disp(bar_style='danger', check_delay=False)\n",
      "    ^^^^^^^^^\n",
      "AttributeError: 'tqdm_notebook' object has no attribute 'disp'\n"
     ]
    },
    {
     "data": {
      "image/png": "[encoded data removed]",
      "text/plain": [
       "<Figure size 1200x600 with 1 Axes>"
      ]
     },
     "metadata": {},
     "output_type": "display_data"
    }
   ],
   "source": [
    "import random\n",
    "import matplotlib.pyplot as plt\n",
    "\n",
    "# Select a random sequence from the test set\n",
    "X_sequence, Y_true_sequence, lengths = next(iter(test_loader))\n",
    "\n",
    "# Randomly select a sequence index within the batch\n",
    "sequence_idx = random.randint(0, X_sequence.size(0) - 1)  # Random index from 0 to batch size - 1\n",
    "length = lengths_tensor[sequence_idx]  # Ensure the correct original length is used for this sequence\n",
    "print(X_sequence.shape)\n",
    "\n",
    "# Slice up to the true length of the sequence\n",
    "X_sequence = X_sequence[sequence_idx:sequence_idx+1, :length].to(device)\n",
    "Y_true_sequence = Y_true_sequence[sequence_idx:sequence_idx+1, :length].to(device)\n",
    "lengths_sequence = lengths_tensor[sequence_idx:sequence_idx+1]\n",
    "print(X_sequence.shape)\n",
    "\n",
    "# Predict\n",
    "model.eval()\n",
    "with torch.no_grad():\n",
    "    outputs, mask = model(X_sequence, lengths_sequence)  # Pass the correct sequence length for evaluation\n",
    "\n",
    "# Denormalize the output and true values\n",
    "def denormalize(data, mean, std):\n",
    "    mean = mean.to(device).unsqueeze(0).unsqueeze(0)\n",
    "    std = std.to(device).unsqueeze(0).unsqueeze(0)\n",
    "    return data * std + mean\n",
    "\n",
    "# Denormalize\n",
    "Y_true_denorm = denormalize(Y_true_sequence, Y_mean, Y_std)\n",
    "Y_pred_denorm = denormalize(outputs, Y_mean, Y_std)\n",
    "\n",
    "# Convert to CPU and numpy arrays for plotting\n",
    "Y_true_denorm = Y_true_denorm.squeeze(0).cpu().numpy()\n",
    "Y_pred_denorm = Y_pred_denorm.squeeze(0).cpu().numpy()\n",
    "\n",
    "# Plot true vs predicted positions for a specific joint and coordinate\n",
    "joint_idx = 0  # First joint\n",
    "coordinate_idx = 0  # X-coordinate\n",
    "\n",
    "plt.figure(figsize=(12, 6))\n",
    "plt.plot(\n",
    "    Y_true_denorm[:length, joint_idx * 3 + coordinate_idx],  # Only plot non-padded values\n",
    "    label='True Position',\n",
    ")\n",
    "plt.plot(\n",
    "    Y_pred_denorm[:length, joint_idx * 3 + coordinate_idx],  # Only plot non-padded values\n",
    "    label='Predicted Position',\n",
    ")\n",
    "plt.title('Joint Position Over Time')\n",
    "plt.xlabel('Time Step')\n",
    "plt.ylabel('Position')\n",
    "plt.legend()\n",
    "plt.show()\n"
   ]
  },
  {
   "cell_type": "code",
   "execution_count": 134,
   "metadata": {},
   "outputs": [
    {
     "data": {
      "text/plain": [
       "tensor(474)"
      ]
     },
     "execution_count": 134,
     "metadata": {},
     "output_type": "execute_result"
    }
   ],
   "source": [
    "lengths_tensor[0]"
   ]
  },
  {
   "cell_type": "code",
   "execution_count": null,
   "metadata": {},
   "outputs": [],
   "source": []
  },
  {
   "cell_type": "code",
   "execution_count": 135,
   "metadata": {},
   "outputs": [
    {
     "name": "stdout",
     "output_type": "stream",
     "text": [
      "[NbConvertApp] Converting notebook Code/preprocessing/preprocess.ipynb to script\n",
      "[NbConvertApp] Writing 15390 bytes to Code/preprocessing/preprocess.py\n"
     ]
    }
   ],
   "source": [
    "!jupyter nbconvert --to script Code/preprocessing/preprocess.ipynb"
   ]
  },
  {
   "cell_type": "code",
   "execution_count": null,
   "metadata": {},
   "outputs": [],
   "source": []
  }
 ],
 "metadata": {
  "kernelspec": {
   "display_name": "BA",
   "language": "python",
   "name": "python3"
  },
  "language_info": {
   "codemirror_mode": {
    "name": "ipython",
    "version": 3
   },
   "file_extension": ".py",
   "mimetype": "text/x-python",
   "name": "python",
   "nbconvert_exporter": "python",
   "pygments_lexer": "ipython3",
   "version": "3.11.9"
  }
 },
 "nbformat": 4,
 "nbformat_minor": 2
}
